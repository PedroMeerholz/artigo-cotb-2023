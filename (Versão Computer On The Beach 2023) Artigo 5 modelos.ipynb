{
  "cells": [
    {
      "cell_type": "markdown",
      "metadata": {
        "id": "wbdQ_6mM32-g"
      },
      "source": [
        "# Importação das bibliotecas"
      ]
    },
    {
      "cell_type": "code",
      "execution_count": 36,
      "metadata": {
        "id": "DdvudjHd3q_d"
      },
      "outputs": [],
      "source": [
        "import matplotlib.pyplot as plt\n",
        "plt.style.use('classic')\n",
        "import numpy as np\n",
        "import pandas as pd\n",
        "import seaborn as sns\n",
        "from sklearn.metrics import accuracy_score, precision_score, recall_score, f1_score, classification_report\n",
        "from sklearn.model_selection import cross_validate, cross_val_score, GridSearchCV, RandomizedSearchCV, train_test_split\n",
        "from sklearn.naive_bayes import GaussianNB\n",
        "from sklearn.neural_network import MLPClassifier\n",
        "from sklearn.preprocessing import MinMaxScaler\n",
        "from sklearn.svm import SVC\n",
        "from sklearn.tree import DecisionTreeClassifier, plot_tree, export_graphviz\n",
        "from xgboost import XGBClassifier\n",
        "\n",
        "import os"
      ]
    },
    {
      "cell_type": "code",
      "source": [
        "os.mkdir('/content/results')"
      ],
      "metadata": {
        "id": "j572vGNVk3Mn"
      },
      "execution_count": 37,
      "outputs": []
    },
    {
      "cell_type": "markdown",
      "metadata": {
        "id": "IeHn0uUp36sY"
      },
      "source": [
        "# Importação do dataset"
      ]
    },
    {
      "cell_type": "code",
      "execution_count": 38,
      "metadata": {
        "colab": {
          "base_uri": "https://localhost:8080/",
          "height": 392
        },
        "id": "y1GsxoH438a7",
        "outputId": "9c3b253b-2c48-4c1c-c614-2fab8305f507"
      },
      "outputs": [
        {
          "output_type": "execute_result",
          "data": {
            "text/plain": [
              "   UDI Product ID Type  Air temperature [K]  Process temperature [K]  \\\n",
              "0    1     M14860    M                298.1                    308.6   \n",
              "1    2     L47181    L                298.2                    308.7   \n",
              "2    3     L47182    L                298.1                    308.5   \n",
              "3    4     L47183    L                298.2                    308.6   \n",
              "4    5     L47184    L                298.2                    308.7   \n",
              "\n",
              "   Rotational speed [rpm]  Torque [Nm]  Tool wear [min]  Target Failure Type  \n",
              "0                    1551         42.8                0       0   No Failure  \n",
              "1                    1408         46.3                3       0   No Failure  \n",
              "2                    1498         49.4                5       0   No Failure  \n",
              "3                    1433         39.5                7       0   No Failure  \n",
              "4                    1408         40.0                9       0   No Failure  "
            ],
            "text/html": [
              "\n",
              "  <div id=\"df-357bfdd4-2d6b-4db3-bfb3-651e9e81f458\">\n",
              "    <div class=\"colab-df-container\">\n",
              "      <div>\n",
              "<style scoped>\n",
              "    .dataframe tbody tr th:only-of-type {\n",
              "        vertical-align: middle;\n",
              "    }\n",
              "\n",
              "    .dataframe tbody tr th {\n",
              "        vertical-align: top;\n",
              "    }\n",
              "\n",
              "    .dataframe thead th {\n",
              "        text-align: right;\n",
              "    }\n",
              "</style>\n",
              "<table border=\"1\" class=\"dataframe\">\n",
              "  <thead>\n",
              "    <tr style=\"text-align: right;\">\n",
              "      <th></th>\n",
              "      <th>UDI</th>\n",
              "      <th>Product ID</th>\n",
              "      <th>Type</th>\n",
              "      <th>Air temperature [K]</th>\n",
              "      <th>Process temperature [K]</th>\n",
              "      <th>Rotational speed [rpm]</th>\n",
              "      <th>Torque [Nm]</th>\n",
              "      <th>Tool wear [min]</th>\n",
              "      <th>Target</th>\n",
              "      <th>Failure Type</th>\n",
              "    </tr>\n",
              "  </thead>\n",
              "  <tbody>\n",
              "    <tr>\n",
              "      <th>0</th>\n",
              "      <td>1</td>\n",
              "      <td>M14860</td>\n",
              "      <td>M</td>\n",
              "      <td>298.1</td>\n",
              "      <td>308.6</td>\n",
              "      <td>1551</td>\n",
              "      <td>42.8</td>\n",
              "      <td>0</td>\n",
              "      <td>0</td>\n",
              "      <td>No Failure</td>\n",
              "    </tr>\n",
              "    <tr>\n",
              "      <th>1</th>\n",
              "      <td>2</td>\n",
              "      <td>L47181</td>\n",
              "      <td>L</td>\n",
              "      <td>298.2</td>\n",
              "      <td>308.7</td>\n",
              "      <td>1408</td>\n",
              "      <td>46.3</td>\n",
              "      <td>3</td>\n",
              "      <td>0</td>\n",
              "      <td>No Failure</td>\n",
              "    </tr>\n",
              "    <tr>\n",
              "      <th>2</th>\n",
              "      <td>3</td>\n",
              "      <td>L47182</td>\n",
              "      <td>L</td>\n",
              "      <td>298.1</td>\n",
              "      <td>308.5</td>\n",
              "      <td>1498</td>\n",
              "      <td>49.4</td>\n",
              "      <td>5</td>\n",
              "      <td>0</td>\n",
              "      <td>No Failure</td>\n",
              "    </tr>\n",
              "    <tr>\n",
              "      <th>3</th>\n",
              "      <td>4</td>\n",
              "      <td>L47183</td>\n",
              "      <td>L</td>\n",
              "      <td>298.2</td>\n",
              "      <td>308.6</td>\n",
              "      <td>1433</td>\n",
              "      <td>39.5</td>\n",
              "      <td>7</td>\n",
              "      <td>0</td>\n",
              "      <td>No Failure</td>\n",
              "    </tr>\n",
              "    <tr>\n",
              "      <th>4</th>\n",
              "      <td>5</td>\n",
              "      <td>L47184</td>\n",
              "      <td>L</td>\n",
              "      <td>298.2</td>\n",
              "      <td>308.7</td>\n",
              "      <td>1408</td>\n",
              "      <td>40.0</td>\n",
              "      <td>9</td>\n",
              "      <td>0</td>\n",
              "      <td>No Failure</td>\n",
              "    </tr>\n",
              "  </tbody>\n",
              "</table>\n",
              "</div>\n",
              "      <button class=\"colab-df-convert\" onclick=\"convertToInteractive('df-357bfdd4-2d6b-4db3-bfb3-651e9e81f458')\"\n",
              "              title=\"Convert this dataframe to an interactive table.\"\n",
              "              style=\"display:none;\">\n",
              "        \n",
              "  <svg xmlns=\"http://www.w3.org/2000/svg\" height=\"24px\"viewBox=\"0 0 24 24\"\n",
              "       width=\"24px\">\n",
              "    <path d=\"M0 0h24v24H0V0z\" fill=\"none\"/>\n",
              "    <path d=\"M18.56 5.44l.94 2.06.94-2.06 2.06-.94-2.06-.94-.94-2.06-.94 2.06-2.06.94zm-11 1L8.5 8.5l.94-2.06 2.06-.94-2.06-.94L8.5 2.5l-.94 2.06-2.06.94zm10 10l.94 2.06.94-2.06 2.06-.94-2.06-.94-.94-2.06-.94 2.06-2.06.94z\"/><path d=\"M17.41 7.96l-1.37-1.37c-.4-.4-.92-.59-1.43-.59-.52 0-1.04.2-1.43.59L10.3 9.45l-7.72 7.72c-.78.78-.78 2.05 0 2.83L4 21.41c.39.39.9.59 1.41.59.51 0 1.02-.2 1.41-.59l7.78-7.78 2.81-2.81c.8-.78.8-2.07 0-2.86zM5.41 20L4 18.59l7.72-7.72 1.47 1.35L5.41 20z\"/>\n",
              "  </svg>\n",
              "      </button>\n",
              "      \n",
              "  <style>\n",
              "    .colab-df-container {\n",
              "      display:flex;\n",
              "      flex-wrap:wrap;\n",
              "      gap: 12px;\n",
              "    }\n",
              "\n",
              "    .colab-df-convert {\n",
              "      background-color: #E8F0FE;\n",
              "      border: none;\n",
              "      border-radius: 50%;\n",
              "      cursor: pointer;\n",
              "      display: none;\n",
              "      fill: #1967D2;\n",
              "      height: 32px;\n",
              "      padding: 0 0 0 0;\n",
              "      width: 32px;\n",
              "    }\n",
              "\n",
              "    .colab-df-convert:hover {\n",
              "      background-color: #E2EBFA;\n",
              "      box-shadow: 0px 1px 2px rgba(60, 64, 67, 0.3), 0px 1px 3px 1px rgba(60, 64, 67, 0.15);\n",
              "      fill: #174EA6;\n",
              "    }\n",
              "\n",
              "    [theme=dark] .colab-df-convert {\n",
              "      background-color: #3B4455;\n",
              "      fill: #D2E3FC;\n",
              "    }\n",
              "\n",
              "    [theme=dark] .colab-df-convert:hover {\n",
              "      background-color: #434B5C;\n",
              "      box-shadow: 0px 1px 3px 1px rgba(0, 0, 0, 0.15);\n",
              "      filter: drop-shadow(0px 1px 2px rgba(0, 0, 0, 0.3));\n",
              "      fill: #FFFFFF;\n",
              "    }\n",
              "  </style>\n",
              "\n",
              "      <script>\n",
              "        const buttonEl =\n",
              "          document.querySelector('#df-357bfdd4-2d6b-4db3-bfb3-651e9e81f458 button.colab-df-convert');\n",
              "        buttonEl.style.display =\n",
              "          google.colab.kernel.accessAllowed ? 'block' : 'none';\n",
              "\n",
              "        async function convertToInteractive(key) {\n",
              "          const element = document.querySelector('#df-357bfdd4-2d6b-4db3-bfb3-651e9e81f458');\n",
              "          const dataTable =\n",
              "            await google.colab.kernel.invokeFunction('convertToInteractive',\n",
              "                                                     [key], {});\n",
              "          if (!dataTable) return;\n",
              "\n",
              "          const docLinkHtml = 'Like what you see? Visit the ' +\n",
              "            '<a target=\"_blank\" href=https://colab.research.google.com/notebooks/data_table.ipynb>data table notebook</a>'\n",
              "            + ' to learn more about interactive tables.';\n",
              "          element.innerHTML = '';\n",
              "          dataTable['output_type'] = 'display_data';\n",
              "          await google.colab.output.renderOutput(dataTable, element);\n",
              "          const docLink = document.createElement('div');\n",
              "          docLink.innerHTML = docLinkHtml;\n",
              "          element.appendChild(docLink);\n",
              "        }\n",
              "      </script>\n",
              "    </div>\n",
              "  </div>\n",
              "  "
            ]
          },
          "metadata": {},
          "execution_count": 38
        }
      ],
      "source": [
        "tabela = pd.read_csv('/content/drive/MyDrive/Projeto de Pesquisa/Artigo - Um Estudo sobre o Uso de Modelos de Machine Learning para Manutenção Preditiva Industrial/dataset/predictive_maintenance.csv')\n",
        "tabela.head()"
      ]
    },
    {
      "cell_type": "code",
      "execution_count": 39,
      "metadata": {
        "colab": {
          "base_uri": "https://localhost:8080/"
        },
        "id": "V8guDe5UHotr",
        "outputId": "b5c984f1-1f49-4892-ac05-f0482b49fff8"
      },
      "outputs": [
        {
          "output_type": "stream",
          "name": "stdout",
          "text": [
            "<class 'pandas.core.frame.DataFrame'>\n",
            "RangeIndex: 10000 entries, 0 to 9999\n",
            "Data columns (total 10 columns):\n",
            " #   Column                   Non-Null Count  Dtype  \n",
            "---  ------                   --------------  -----  \n",
            " 0   UDI                      10000 non-null  int64  \n",
            " 1   Product ID               10000 non-null  object \n",
            " 2   Type                     10000 non-null  object \n",
            " 3   Air temperature [K]      10000 non-null  float64\n",
            " 4   Process temperature [K]  10000 non-null  float64\n",
            " 5   Rotational speed [rpm]   10000 non-null  int64  \n",
            " 6   Torque [Nm]              10000 non-null  float64\n",
            " 7   Tool wear [min]          10000 non-null  int64  \n",
            " 8   Target                   10000 non-null  int64  \n",
            " 9   Failure Type             10000 non-null  object \n",
            "dtypes: float64(3), int64(4), object(3)\n",
            "memory usage: 781.4+ KB\n"
          ]
        }
      ],
      "source": [
        "tabela.info()"
      ]
    },
    {
      "cell_type": "code",
      "execution_count": 40,
      "metadata": {
        "colab": {
          "base_uri": "https://localhost:8080/"
        },
        "id": "QEqc3SDZM1sC",
        "outputId": "ab0548da-0c20-40dd-b90f-6b1c2db410b3"
      },
      "outputs": [
        {
          "output_type": "execute_result",
          "data": {
            "text/plain": [
              "No Failure                  9652\n",
              "Heat Dissipation Failure     112\n",
              "Power Failure                 95\n",
              "Overstrain Failure            78\n",
              "Tool Wear Failure             45\n",
              "Random Failures               18\n",
              "Name: Failure Type, dtype: int64"
            ]
          },
          "metadata": {},
          "execution_count": 40
        }
      ],
      "source": [
        "tabela['Failure Type'].value_counts()"
      ]
    },
    {
      "cell_type": "markdown",
      "metadata": {
        "id": "cataWlpy388N"
      },
      "source": [
        "# Proposta"
      ]
    },
    {
      "cell_type": "markdown",
      "metadata": {
        "id": "xiecFpJr4B3J"
      },
      "source": [
        "## Pré-processamento"
      ]
    },
    {
      "cell_type": "code",
      "execution_count": 41,
      "metadata": {
        "colab": {
          "base_uri": "https://localhost:8080/"
        },
        "id": "MqaOQa0jAI7P",
        "outputId": "96565de6-be9d-4636-d09c-77b9870511aa"
      },
      "outputs": [
        {
          "output_type": "execute_result",
          "data": {
            "text/plain": [
              "No Failure                  9652\n",
              "Heat Dissipation Failure     112\n",
              "Power Failure                 95\n",
              "Overstrain Failure            78\n",
              "Tool Wear Failure             45\n",
              "Random Failures               18\n",
              "Name: Failure Type, dtype: int64"
            ]
          },
          "metadata": {},
          "execution_count": 41
        }
      ],
      "source": [
        "tabela['Failure Type'].value_counts()"
      ]
    },
    {
      "cell_type": "code",
      "execution_count": 42,
      "metadata": {
        "colab": {
          "base_uri": "https://localhost:8080/"
        },
        "id": "Y5mt0_Wh7vDB",
        "outputId": "a24c48e9-7db3-4850-9c97-d39591888fdc"
      },
      "outputs": [
        {
          "output_type": "execute_result",
          "data": {
            "text/plain": [
              "No Failure                  9652\n",
              "Heat Dissipation Failure     112\n",
              "Power Failure                 95\n",
              "Overstrain Failure            78\n",
              "Name: Failure Type, dtype: int64"
            ]
          },
          "metadata": {},
          "execution_count": 42
        }
      ],
      "source": [
        "falhas_aleatorias = tabela[tabela['Failure Type'] == 'Random Failures'].index\n",
        "falha_de_desgaste_de_ferramenta = tabela[tabela['Failure Type'] == 'Tool Wear Failure'].index\n",
        "\n",
        "tabela = tabela.drop(falhas_aleatorias, axis=0)\n",
        "tabela = tabela.drop(falha_de_desgaste_de_ferramenta, axis=0)\n",
        "\n",
        "tabela['Failure Type'].value_counts()"
      ]
    },
    {
      "cell_type": "code",
      "execution_count": 43,
      "metadata": {
        "colab": {
          "base_uri": "https://localhost:8080/",
          "height": 285
        },
        "id": "-XhbCvQ94BMS",
        "outputId": "437de10e-f449-4651-b27d-fab9f2e5d3c6"
      },
      "outputs": [
        {
          "output_type": "execute_result",
          "data": {
            "text/plain": [
              "  Type  Air temperature [K]  Process temperature [K]  Rotational speed [rpm]  \\\n",
              "0    M                298.1                    308.6                    1551   \n",
              "1    L                298.2                    308.7                    1408   \n",
              "2    L                298.1                    308.5                    1498   \n",
              "3    L                298.2                    308.6                    1433   \n",
              "4    L                298.2                    308.7                    1408   \n",
              "\n",
              "   Torque [Nm]  Tool wear [min]  Target  \n",
              "0         42.8                0       0  \n",
              "1         46.3                3       0  \n",
              "2         49.4                5       0  \n",
              "3         39.5                7       0  \n",
              "4         40.0                9       0  "
            ],
            "text/html": [
              "\n",
              "  <div id=\"df-fde56424-5785-48d1-b004-bde1c33576c1\">\n",
              "    <div class=\"colab-df-container\">\n",
              "      <div>\n",
              "<style scoped>\n",
              "    .dataframe tbody tr th:only-of-type {\n",
              "        vertical-align: middle;\n",
              "    }\n",
              "\n",
              "    .dataframe tbody tr th {\n",
              "        vertical-align: top;\n",
              "    }\n",
              "\n",
              "    .dataframe thead th {\n",
              "        text-align: right;\n",
              "    }\n",
              "</style>\n",
              "<table border=\"1\" class=\"dataframe\">\n",
              "  <thead>\n",
              "    <tr style=\"text-align: right;\">\n",
              "      <th></th>\n",
              "      <th>Type</th>\n",
              "      <th>Air temperature [K]</th>\n",
              "      <th>Process temperature [K]</th>\n",
              "      <th>Rotational speed [rpm]</th>\n",
              "      <th>Torque [Nm]</th>\n",
              "      <th>Tool wear [min]</th>\n",
              "      <th>Target</th>\n",
              "    </tr>\n",
              "  </thead>\n",
              "  <tbody>\n",
              "    <tr>\n",
              "      <th>0</th>\n",
              "      <td>M</td>\n",
              "      <td>298.1</td>\n",
              "      <td>308.6</td>\n",
              "      <td>1551</td>\n",
              "      <td>42.8</td>\n",
              "      <td>0</td>\n",
              "      <td>0</td>\n",
              "    </tr>\n",
              "    <tr>\n",
              "      <th>1</th>\n",
              "      <td>L</td>\n",
              "      <td>298.2</td>\n",
              "      <td>308.7</td>\n",
              "      <td>1408</td>\n",
              "      <td>46.3</td>\n",
              "      <td>3</td>\n",
              "      <td>0</td>\n",
              "    </tr>\n",
              "    <tr>\n",
              "      <th>2</th>\n",
              "      <td>L</td>\n",
              "      <td>298.1</td>\n",
              "      <td>308.5</td>\n",
              "      <td>1498</td>\n",
              "      <td>49.4</td>\n",
              "      <td>5</td>\n",
              "      <td>0</td>\n",
              "    </tr>\n",
              "    <tr>\n",
              "      <th>3</th>\n",
              "      <td>L</td>\n",
              "      <td>298.2</td>\n",
              "      <td>308.6</td>\n",
              "      <td>1433</td>\n",
              "      <td>39.5</td>\n",
              "      <td>7</td>\n",
              "      <td>0</td>\n",
              "    </tr>\n",
              "    <tr>\n",
              "      <th>4</th>\n",
              "      <td>L</td>\n",
              "      <td>298.2</td>\n",
              "      <td>308.7</td>\n",
              "      <td>1408</td>\n",
              "      <td>40.0</td>\n",
              "      <td>9</td>\n",
              "      <td>0</td>\n",
              "    </tr>\n",
              "  </tbody>\n",
              "</table>\n",
              "</div>\n",
              "      <button class=\"colab-df-convert\" onclick=\"convertToInteractive('df-fde56424-5785-48d1-b004-bde1c33576c1')\"\n",
              "              title=\"Convert this dataframe to an interactive table.\"\n",
              "              style=\"display:none;\">\n",
              "        \n",
              "  <svg xmlns=\"http://www.w3.org/2000/svg\" height=\"24px\"viewBox=\"0 0 24 24\"\n",
              "       width=\"24px\">\n",
              "    <path d=\"M0 0h24v24H0V0z\" fill=\"none\"/>\n",
              "    <path d=\"M18.56 5.44l.94 2.06.94-2.06 2.06-.94-2.06-.94-.94-2.06-.94 2.06-2.06.94zm-11 1L8.5 8.5l.94-2.06 2.06-.94-2.06-.94L8.5 2.5l-.94 2.06-2.06.94zm10 10l.94 2.06.94-2.06 2.06-.94-2.06-.94-.94-2.06-.94 2.06-2.06.94z\"/><path d=\"M17.41 7.96l-1.37-1.37c-.4-.4-.92-.59-1.43-.59-.52 0-1.04.2-1.43.59L10.3 9.45l-7.72 7.72c-.78.78-.78 2.05 0 2.83L4 21.41c.39.39.9.59 1.41.59.51 0 1.02-.2 1.41-.59l7.78-7.78 2.81-2.81c.8-.78.8-2.07 0-2.86zM5.41 20L4 18.59l7.72-7.72 1.47 1.35L5.41 20z\"/>\n",
              "  </svg>\n",
              "      </button>\n",
              "      \n",
              "  <style>\n",
              "    .colab-df-container {\n",
              "      display:flex;\n",
              "      flex-wrap:wrap;\n",
              "      gap: 12px;\n",
              "    }\n",
              "\n",
              "    .colab-df-convert {\n",
              "      background-color: #E8F0FE;\n",
              "      border: none;\n",
              "      border-radius: 50%;\n",
              "      cursor: pointer;\n",
              "      display: none;\n",
              "      fill: #1967D2;\n",
              "      height: 32px;\n",
              "      padding: 0 0 0 0;\n",
              "      width: 32px;\n",
              "    }\n",
              "\n",
              "    .colab-df-convert:hover {\n",
              "      background-color: #E2EBFA;\n",
              "      box-shadow: 0px 1px 2px rgba(60, 64, 67, 0.3), 0px 1px 3px 1px rgba(60, 64, 67, 0.15);\n",
              "      fill: #174EA6;\n",
              "    }\n",
              "\n",
              "    [theme=dark] .colab-df-convert {\n",
              "      background-color: #3B4455;\n",
              "      fill: #D2E3FC;\n",
              "    }\n",
              "\n",
              "    [theme=dark] .colab-df-convert:hover {\n",
              "      background-color: #434B5C;\n",
              "      box-shadow: 0px 1px 3px 1px rgba(0, 0, 0, 0.15);\n",
              "      filter: drop-shadow(0px 1px 2px rgba(0, 0, 0, 0.3));\n",
              "      fill: #FFFFFF;\n",
              "    }\n",
              "  </style>\n",
              "\n",
              "      <script>\n",
              "        const buttonEl =\n",
              "          document.querySelector('#df-fde56424-5785-48d1-b004-bde1c33576c1 button.colab-df-convert');\n",
              "        buttonEl.style.display =\n",
              "          google.colab.kernel.accessAllowed ? 'block' : 'none';\n",
              "\n",
              "        async function convertToInteractive(key) {\n",
              "          const element = document.querySelector('#df-fde56424-5785-48d1-b004-bde1c33576c1');\n",
              "          const dataTable =\n",
              "            await google.colab.kernel.invokeFunction('convertToInteractive',\n",
              "                                                     [key], {});\n",
              "          if (!dataTable) return;\n",
              "\n",
              "          const docLinkHtml = 'Like what you see? Visit the ' +\n",
              "            '<a target=\"_blank\" href=https://colab.research.google.com/notebooks/data_table.ipynb>data table notebook</a>'\n",
              "            + ' to learn more about interactive tables.';\n",
              "          element.innerHTML = '';\n",
              "          dataTable['output_type'] = 'display_data';\n",
              "          await google.colab.output.renderOutput(dataTable, element);\n",
              "          const docLink = document.createElement('div');\n",
              "          docLink.innerHTML = docLinkHtml;\n",
              "          element.appendChild(docLink);\n",
              "        }\n",
              "      </script>\n",
              "    </div>\n",
              "  </div>\n",
              "  "
            ]
          },
          "metadata": {},
          "execution_count": 43
        }
      ],
      "source": [
        "# Remoção de colunas desnecessárias\n",
        "colunas = ['UDI', 'Product ID', 'Failure Type']\n",
        "tabela = tabela.drop(colunas, axis=1)\n",
        "tabela.head()"
      ]
    },
    {
      "cell_type": "code",
      "execution_count": 44,
      "metadata": {
        "colab": {
          "base_uri": "https://localhost:8080/",
          "height": 268
        },
        "id": "J9bzLMp1ZHYf",
        "outputId": "d8868d72-9269-4947-d11f-e669a23a4cb6"
      },
      "outputs": [
        {
          "output_type": "execute_result",
          "data": {
            "text/plain": [
              "   H  L  M  Air Temperature  Process Temperature  Rotational Speed  Torque  \\\n",
              "0  0  0  1            298.1                308.6              1551    42.8   \n",
              "1  0  1  0            298.2                308.7              1408    46.3   \n",
              "2  0  1  0            298.1                308.5              1498    49.4   \n",
              "3  0  1  0            298.2                308.6              1433    39.5   \n",
              "4  0  1  0            298.2                308.7              1408    40.0   \n",
              "\n",
              "   Tool Wear  Target  \n",
              "0          0       0  \n",
              "1          3       0  \n",
              "2          5       0  \n",
              "3          7       0  \n",
              "4          9       0  "
            ],
            "text/html": [
              "\n",
              "  <div id=\"df-eafbae9c-72e0-4422-8de9-8bf3bab0a51e\">\n",
              "    <div class=\"colab-df-container\">\n",
              "      <div>\n",
              "<style scoped>\n",
              "    .dataframe tbody tr th:only-of-type {\n",
              "        vertical-align: middle;\n",
              "    }\n",
              "\n",
              "    .dataframe tbody tr th {\n",
              "        vertical-align: top;\n",
              "    }\n",
              "\n",
              "    .dataframe thead th {\n",
              "        text-align: right;\n",
              "    }\n",
              "</style>\n",
              "<table border=\"1\" class=\"dataframe\">\n",
              "  <thead>\n",
              "    <tr style=\"text-align: right;\">\n",
              "      <th></th>\n",
              "      <th>H</th>\n",
              "      <th>L</th>\n",
              "      <th>M</th>\n",
              "      <th>Air Temperature</th>\n",
              "      <th>Process Temperature</th>\n",
              "      <th>Rotational Speed</th>\n",
              "      <th>Torque</th>\n",
              "      <th>Tool Wear</th>\n",
              "      <th>Target</th>\n",
              "    </tr>\n",
              "  </thead>\n",
              "  <tbody>\n",
              "    <tr>\n",
              "      <th>0</th>\n",
              "      <td>0</td>\n",
              "      <td>0</td>\n",
              "      <td>1</td>\n",
              "      <td>298.1</td>\n",
              "      <td>308.6</td>\n",
              "      <td>1551</td>\n",
              "      <td>42.8</td>\n",
              "      <td>0</td>\n",
              "      <td>0</td>\n",
              "    </tr>\n",
              "    <tr>\n",
              "      <th>1</th>\n",
              "      <td>0</td>\n",
              "      <td>1</td>\n",
              "      <td>0</td>\n",
              "      <td>298.2</td>\n",
              "      <td>308.7</td>\n",
              "      <td>1408</td>\n",
              "      <td>46.3</td>\n",
              "      <td>3</td>\n",
              "      <td>0</td>\n",
              "    </tr>\n",
              "    <tr>\n",
              "      <th>2</th>\n",
              "      <td>0</td>\n",
              "      <td>1</td>\n",
              "      <td>0</td>\n",
              "      <td>298.1</td>\n",
              "      <td>308.5</td>\n",
              "      <td>1498</td>\n",
              "      <td>49.4</td>\n",
              "      <td>5</td>\n",
              "      <td>0</td>\n",
              "    </tr>\n",
              "    <tr>\n",
              "      <th>3</th>\n",
              "      <td>0</td>\n",
              "      <td>1</td>\n",
              "      <td>0</td>\n",
              "      <td>298.2</td>\n",
              "      <td>308.6</td>\n",
              "      <td>1433</td>\n",
              "      <td>39.5</td>\n",
              "      <td>7</td>\n",
              "      <td>0</td>\n",
              "    </tr>\n",
              "    <tr>\n",
              "      <th>4</th>\n",
              "      <td>0</td>\n",
              "      <td>1</td>\n",
              "      <td>0</td>\n",
              "      <td>298.2</td>\n",
              "      <td>308.7</td>\n",
              "      <td>1408</td>\n",
              "      <td>40.0</td>\n",
              "      <td>9</td>\n",
              "      <td>0</td>\n",
              "    </tr>\n",
              "  </tbody>\n",
              "</table>\n",
              "</div>\n",
              "      <button class=\"colab-df-convert\" onclick=\"convertToInteractive('df-eafbae9c-72e0-4422-8de9-8bf3bab0a51e')\"\n",
              "              title=\"Convert this dataframe to an interactive table.\"\n",
              "              style=\"display:none;\">\n",
              "        \n",
              "  <svg xmlns=\"http://www.w3.org/2000/svg\" height=\"24px\"viewBox=\"0 0 24 24\"\n",
              "       width=\"24px\">\n",
              "    <path d=\"M0 0h24v24H0V0z\" fill=\"none\"/>\n",
              "    <path d=\"M18.56 5.44l.94 2.06.94-2.06 2.06-.94-2.06-.94-.94-2.06-.94 2.06-2.06.94zm-11 1L8.5 8.5l.94-2.06 2.06-.94-2.06-.94L8.5 2.5l-.94 2.06-2.06.94zm10 10l.94 2.06.94-2.06 2.06-.94-2.06-.94-.94-2.06-.94 2.06-2.06.94z\"/><path d=\"M17.41 7.96l-1.37-1.37c-.4-.4-.92-.59-1.43-.59-.52 0-1.04.2-1.43.59L10.3 9.45l-7.72 7.72c-.78.78-.78 2.05 0 2.83L4 21.41c.39.39.9.59 1.41.59.51 0 1.02-.2 1.41-.59l7.78-7.78 2.81-2.81c.8-.78.8-2.07 0-2.86zM5.41 20L4 18.59l7.72-7.72 1.47 1.35L5.41 20z\"/>\n",
              "  </svg>\n",
              "      </button>\n",
              "      \n",
              "  <style>\n",
              "    .colab-df-container {\n",
              "      display:flex;\n",
              "      flex-wrap:wrap;\n",
              "      gap: 12px;\n",
              "    }\n",
              "\n",
              "    .colab-df-convert {\n",
              "      background-color: #E8F0FE;\n",
              "      border: none;\n",
              "      border-radius: 50%;\n",
              "      cursor: pointer;\n",
              "      display: none;\n",
              "      fill: #1967D2;\n",
              "      height: 32px;\n",
              "      padding: 0 0 0 0;\n",
              "      width: 32px;\n",
              "    }\n",
              "\n",
              "    .colab-df-convert:hover {\n",
              "      background-color: #E2EBFA;\n",
              "      box-shadow: 0px 1px 2px rgba(60, 64, 67, 0.3), 0px 1px 3px 1px rgba(60, 64, 67, 0.15);\n",
              "      fill: #174EA6;\n",
              "    }\n",
              "\n",
              "    [theme=dark] .colab-df-convert {\n",
              "      background-color: #3B4455;\n",
              "      fill: #D2E3FC;\n",
              "    }\n",
              "\n",
              "    [theme=dark] .colab-df-convert:hover {\n",
              "      background-color: #434B5C;\n",
              "      box-shadow: 0px 1px 3px 1px rgba(0, 0, 0, 0.15);\n",
              "      filter: drop-shadow(0px 1px 2px rgba(0, 0, 0, 0.3));\n",
              "      fill: #FFFFFF;\n",
              "    }\n",
              "  </style>\n",
              "\n",
              "      <script>\n",
              "        const buttonEl =\n",
              "          document.querySelector('#df-eafbae9c-72e0-4422-8de9-8bf3bab0a51e button.colab-df-convert');\n",
              "        buttonEl.style.display =\n",
              "          google.colab.kernel.accessAllowed ? 'block' : 'none';\n",
              "\n",
              "        async function convertToInteractive(key) {\n",
              "          const element = document.querySelector('#df-eafbae9c-72e0-4422-8de9-8bf3bab0a51e');\n",
              "          const dataTable =\n",
              "            await google.colab.kernel.invokeFunction('convertToInteractive',\n",
              "                                                     [key], {});\n",
              "          if (!dataTable) return;\n",
              "\n",
              "          const docLinkHtml = 'Like what you see? Visit the ' +\n",
              "            '<a target=\"_blank\" href=https://colab.research.google.com/notebooks/data_table.ipynb>data table notebook</a>'\n",
              "            + ' to learn more about interactive tables.';\n",
              "          element.innerHTML = '';\n",
              "          dataTable['output_type'] = 'display_data';\n",
              "          await google.colab.output.renderOutput(dataTable, element);\n",
              "          const docLink = document.createElement('div');\n",
              "          docLink.innerHTML = docLinkHtml;\n",
              "          element.appendChild(docLink);\n",
              "        }\n",
              "      </script>\n",
              "    </div>\n",
              "  </div>\n",
              "  "
            ]
          },
          "metadata": {},
          "execution_count": 44
        }
      ],
      "source": [
        "# Alterando o tipo da coluna Type de categórico para numérico\n",
        "type_columns_converting = pd.get_dummies(data=tabela['Type'])\n",
        "\n",
        "tabela = tabela.assign(H=type_columns_converting['H'],\n",
        "                             L=type_columns_converting['L'],\n",
        "                             M=type_columns_converting['M'])\n",
        "\n",
        "tabela = tabela[['H', 'L', 'M',\n",
        "                 'Air temperature [K]',\n",
        "                 'Process temperature [K]',\n",
        "                 'Rotational speed [rpm]',\n",
        "                 'Torque [Nm]',\n",
        "                 'Tool wear [min]',\n",
        "                 'Target']]\n",
        "\n",
        "tabela.columns = ['H', 'L', 'M',\n",
        "                  'Air Temperature',\n",
        "                  'Process Temperature',\n",
        "                  'Rotational Speed',\n",
        "                  'Torque',\n",
        "                  'Tool Wear',\n",
        "                  'Target']\n",
        "\n",
        "tabela.head()"
      ]
    },
    {
      "cell_type": "code",
      "source": [
        "tabela.describe()"
      ],
      "metadata": {
        "colab": {
          "base_uri": "https://localhost:8080/",
          "height": 382
        },
        "id": "uK4ABfGZjP1G",
        "outputId": "71ec022e-8210-4b16-f3aa-fd820246ee09"
      },
      "execution_count": 45,
      "outputs": [
        {
          "output_type": "execute_result",
          "data": {
            "text/plain": [
              "                 H            L            M  Air Temperature  \\\n",
              "count  9937.000000  9937.000000  9937.000000      9937.000000   \n",
              "mean      0.099930     0.600081     0.299990       300.002264   \n",
              "std       0.299921     0.489906     0.458276         2.000662   \n",
              "min       0.000000     0.000000     0.000000       295.300000   \n",
              "25%       0.000000     0.000000     0.000000       298.300000   \n",
              "50%       0.000000     1.000000     0.000000       300.100000   \n",
              "75%       0.000000     1.000000     1.000000       301.500000   \n",
              "max       1.000000     1.000000     1.000000       304.500000   \n",
              "\n",
              "       Process Temperature  Rotational Speed       Torque    Tool Wear  \\\n",
              "count          9937.000000       9937.000000  9937.000000  9937.000000   \n",
              "mean            310.003482       1538.721043    39.993006   107.437557   \n",
              "std               1.483394        179.245643     9.967446    63.363141   \n",
              "min             305.700000       1168.000000     3.800000     0.000000   \n",
              "25%             308.800000       1423.000000    33.200000    53.000000   \n",
              "50%             310.100000       1503.000000    40.100000   107.000000   \n",
              "75%             311.100000       1612.000000    46.800000   162.000000   \n",
              "max             313.800000       2886.000000    76.600000   251.000000   \n",
              "\n",
              "            Target  \n",
              "count  9937.000000  \n",
              "mean      0.029586  \n",
              "std       0.169452  \n",
              "min       0.000000  \n",
              "25%       0.000000  \n",
              "50%       0.000000  \n",
              "75%       0.000000  \n",
              "max       1.000000  "
            ],
            "text/html": [
              "\n",
              "  <div id=\"df-5002a33e-b23f-4079-815a-9a919a85a89d\">\n",
              "    <div class=\"colab-df-container\">\n",
              "      <div>\n",
              "<style scoped>\n",
              "    .dataframe tbody tr th:only-of-type {\n",
              "        vertical-align: middle;\n",
              "    }\n",
              "\n",
              "    .dataframe tbody tr th {\n",
              "        vertical-align: top;\n",
              "    }\n",
              "\n",
              "    .dataframe thead th {\n",
              "        text-align: right;\n",
              "    }\n",
              "</style>\n",
              "<table border=\"1\" class=\"dataframe\">\n",
              "  <thead>\n",
              "    <tr style=\"text-align: right;\">\n",
              "      <th></th>\n",
              "      <th>H</th>\n",
              "      <th>L</th>\n",
              "      <th>M</th>\n",
              "      <th>Air Temperature</th>\n",
              "      <th>Process Temperature</th>\n",
              "      <th>Rotational Speed</th>\n",
              "      <th>Torque</th>\n",
              "      <th>Tool Wear</th>\n",
              "      <th>Target</th>\n",
              "    </tr>\n",
              "  </thead>\n",
              "  <tbody>\n",
              "    <tr>\n",
              "      <th>count</th>\n",
              "      <td>9937.000000</td>\n",
              "      <td>9937.000000</td>\n",
              "      <td>9937.000000</td>\n",
              "      <td>9937.000000</td>\n",
              "      <td>9937.000000</td>\n",
              "      <td>9937.000000</td>\n",
              "      <td>9937.000000</td>\n",
              "      <td>9937.000000</td>\n",
              "      <td>9937.000000</td>\n",
              "    </tr>\n",
              "    <tr>\n",
              "      <th>mean</th>\n",
              "      <td>0.099930</td>\n",
              "      <td>0.600081</td>\n",
              "      <td>0.299990</td>\n",
              "      <td>300.002264</td>\n",
              "      <td>310.003482</td>\n",
              "      <td>1538.721043</td>\n",
              "      <td>39.993006</td>\n",
              "      <td>107.437557</td>\n",
              "      <td>0.029586</td>\n",
              "    </tr>\n",
              "    <tr>\n",
              "      <th>std</th>\n",
              "      <td>0.299921</td>\n",
              "      <td>0.489906</td>\n",
              "      <td>0.458276</td>\n",
              "      <td>2.000662</td>\n",
              "      <td>1.483394</td>\n",
              "      <td>179.245643</td>\n",
              "      <td>9.967446</td>\n",
              "      <td>63.363141</td>\n",
              "      <td>0.169452</td>\n",
              "    </tr>\n",
              "    <tr>\n",
              "      <th>min</th>\n",
              "      <td>0.000000</td>\n",
              "      <td>0.000000</td>\n",
              "      <td>0.000000</td>\n",
              "      <td>295.300000</td>\n",
              "      <td>305.700000</td>\n",
              "      <td>1168.000000</td>\n",
              "      <td>3.800000</td>\n",
              "      <td>0.000000</td>\n",
              "      <td>0.000000</td>\n",
              "    </tr>\n",
              "    <tr>\n",
              "      <th>25%</th>\n",
              "      <td>0.000000</td>\n",
              "      <td>0.000000</td>\n",
              "      <td>0.000000</td>\n",
              "      <td>298.300000</td>\n",
              "      <td>308.800000</td>\n",
              "      <td>1423.000000</td>\n",
              "      <td>33.200000</td>\n",
              "      <td>53.000000</td>\n",
              "      <td>0.000000</td>\n",
              "    </tr>\n",
              "    <tr>\n",
              "      <th>50%</th>\n",
              "      <td>0.000000</td>\n",
              "      <td>1.000000</td>\n",
              "      <td>0.000000</td>\n",
              "      <td>300.100000</td>\n",
              "      <td>310.100000</td>\n",
              "      <td>1503.000000</td>\n",
              "      <td>40.100000</td>\n",
              "      <td>107.000000</td>\n",
              "      <td>0.000000</td>\n",
              "    </tr>\n",
              "    <tr>\n",
              "      <th>75%</th>\n",
              "      <td>0.000000</td>\n",
              "      <td>1.000000</td>\n",
              "      <td>1.000000</td>\n",
              "      <td>301.500000</td>\n",
              "      <td>311.100000</td>\n",
              "      <td>1612.000000</td>\n",
              "      <td>46.800000</td>\n",
              "      <td>162.000000</td>\n",
              "      <td>0.000000</td>\n",
              "    </tr>\n",
              "    <tr>\n",
              "      <th>max</th>\n",
              "      <td>1.000000</td>\n",
              "      <td>1.000000</td>\n",
              "      <td>1.000000</td>\n",
              "      <td>304.500000</td>\n",
              "      <td>313.800000</td>\n",
              "      <td>2886.000000</td>\n",
              "      <td>76.600000</td>\n",
              "      <td>251.000000</td>\n",
              "      <td>1.000000</td>\n",
              "    </tr>\n",
              "  </tbody>\n",
              "</table>\n",
              "</div>\n",
              "      <button class=\"colab-df-convert\" onclick=\"convertToInteractive('df-5002a33e-b23f-4079-815a-9a919a85a89d')\"\n",
              "              title=\"Convert this dataframe to an interactive table.\"\n",
              "              style=\"display:none;\">\n",
              "        \n",
              "  <svg xmlns=\"http://www.w3.org/2000/svg\" height=\"24px\"viewBox=\"0 0 24 24\"\n",
              "       width=\"24px\">\n",
              "    <path d=\"M0 0h24v24H0V0z\" fill=\"none\"/>\n",
              "    <path d=\"M18.56 5.44l.94 2.06.94-2.06 2.06-.94-2.06-.94-.94-2.06-.94 2.06-2.06.94zm-11 1L8.5 8.5l.94-2.06 2.06-.94-2.06-.94L8.5 2.5l-.94 2.06-2.06.94zm10 10l.94 2.06.94-2.06 2.06-.94-2.06-.94-.94-2.06-.94 2.06-2.06.94z\"/><path d=\"M17.41 7.96l-1.37-1.37c-.4-.4-.92-.59-1.43-.59-.52 0-1.04.2-1.43.59L10.3 9.45l-7.72 7.72c-.78.78-.78 2.05 0 2.83L4 21.41c.39.39.9.59 1.41.59.51 0 1.02-.2 1.41-.59l7.78-7.78 2.81-2.81c.8-.78.8-2.07 0-2.86zM5.41 20L4 18.59l7.72-7.72 1.47 1.35L5.41 20z\"/>\n",
              "  </svg>\n",
              "      </button>\n",
              "      \n",
              "  <style>\n",
              "    .colab-df-container {\n",
              "      display:flex;\n",
              "      flex-wrap:wrap;\n",
              "      gap: 12px;\n",
              "    }\n",
              "\n",
              "    .colab-df-convert {\n",
              "      background-color: #E8F0FE;\n",
              "      border: none;\n",
              "      border-radius: 50%;\n",
              "      cursor: pointer;\n",
              "      display: none;\n",
              "      fill: #1967D2;\n",
              "      height: 32px;\n",
              "      padding: 0 0 0 0;\n",
              "      width: 32px;\n",
              "    }\n",
              "\n",
              "    .colab-df-convert:hover {\n",
              "      background-color: #E2EBFA;\n",
              "      box-shadow: 0px 1px 2px rgba(60, 64, 67, 0.3), 0px 1px 3px 1px rgba(60, 64, 67, 0.15);\n",
              "      fill: #174EA6;\n",
              "    }\n",
              "\n",
              "    [theme=dark] .colab-df-convert {\n",
              "      background-color: #3B4455;\n",
              "      fill: #D2E3FC;\n",
              "    }\n",
              "\n",
              "    [theme=dark] .colab-df-convert:hover {\n",
              "      background-color: #434B5C;\n",
              "      box-shadow: 0px 1px 3px 1px rgba(0, 0, 0, 0.15);\n",
              "      filter: drop-shadow(0px 1px 2px rgba(0, 0, 0, 0.3));\n",
              "      fill: #FFFFFF;\n",
              "    }\n",
              "  </style>\n",
              "\n",
              "      <script>\n",
              "        const buttonEl =\n",
              "          document.querySelector('#df-5002a33e-b23f-4079-815a-9a919a85a89d button.colab-df-convert');\n",
              "        buttonEl.style.display =\n",
              "          google.colab.kernel.accessAllowed ? 'block' : 'none';\n",
              "\n",
              "        async function convertToInteractive(key) {\n",
              "          const element = document.querySelector('#df-5002a33e-b23f-4079-815a-9a919a85a89d');\n",
              "          const dataTable =\n",
              "            await google.colab.kernel.invokeFunction('convertToInteractive',\n",
              "                                                     [key], {});\n",
              "          if (!dataTable) return;\n",
              "\n",
              "          const docLinkHtml = 'Like what you see? Visit the ' +\n",
              "            '<a target=\"_blank\" href=https://colab.research.google.com/notebooks/data_table.ipynb>data table notebook</a>'\n",
              "            + ' to learn more about interactive tables.';\n",
              "          element.innerHTML = '';\n",
              "          dataTable['output_type'] = 'display_data';\n",
              "          await google.colab.output.renderOutput(dataTable, element);\n",
              "          const docLink = document.createElement('div');\n",
              "          docLink.innerHTML = docLinkHtml;\n",
              "          element.appendChild(docLink);\n",
              "        }\n",
              "      </script>\n",
              "    </div>\n",
              "  </div>\n",
              "  "
            ]
          },
          "metadata": {},
          "execution_count": 45
        }
      ]
    },
    {
      "cell_type": "code",
      "execution_count": 46,
      "metadata": {
        "id": "HyCnKzb4U1eT"
      },
      "outputs": [],
      "source": [
        "x = tabela.drop('Target', axis=1)\n",
        "y = tabela['Target']"
      ]
    },
    {
      "cell_type": "code",
      "execution_count": 47,
      "metadata": {
        "colab": {
          "base_uri": "https://localhost:8080/",
          "height": 382
        },
        "id": "Qmol1b3z7Xsk",
        "outputId": "53ca184a-f639-480b-8456-26e5a587a4a7"
      },
      "outputs": [
        {
          "output_type": "execute_result",
          "data": {
            "text/plain": [
              "                 H            L            M  Air Temperature  \\\n",
              "count  9937.000000  9937.000000  9937.000000      9937.000000   \n",
              "mean      0.099930     0.600081     0.299990         0.511116   \n",
              "std       0.299921     0.489906     0.458276         0.217463   \n",
              "min       0.000000     0.000000     0.000000         0.000000   \n",
              "25%       0.000000     0.000000     0.000000         0.326087   \n",
              "50%       0.000000     1.000000     0.000000         0.521739   \n",
              "75%       0.000000     1.000000     1.000000         0.673913   \n",
              "max       1.000000     1.000000     1.000000         1.000000   \n",
              "\n",
              "       Process Temperature  Rotational Speed       Torque    Tool Wear  \n",
              "count          9937.000000       9937.000000  9937.000000  9937.000000  \n",
              "mean              0.531294          0.215786     0.497157     0.428038  \n",
              "std               0.183135          0.104334     0.136915     0.252443  \n",
              "min               0.000000          0.000000     0.000000     0.000000  \n",
              "25%               0.382716          0.148428     0.403846     0.211155  \n",
              "50%               0.543210          0.194994     0.498626     0.426295  \n",
              "75%               0.666667          0.258440     0.590659     0.645418  \n",
              "max               1.000000          1.000000     1.000000     1.000000  "
            ],
            "text/html": [
              "\n",
              "  <div id=\"df-454f4f32-7582-4fd3-b3b5-10802ab3654d\">\n",
              "    <div class=\"colab-df-container\">\n",
              "      <div>\n",
              "<style scoped>\n",
              "    .dataframe tbody tr th:only-of-type {\n",
              "        vertical-align: middle;\n",
              "    }\n",
              "\n",
              "    .dataframe tbody tr th {\n",
              "        vertical-align: top;\n",
              "    }\n",
              "\n",
              "    .dataframe thead th {\n",
              "        text-align: right;\n",
              "    }\n",
              "</style>\n",
              "<table border=\"1\" class=\"dataframe\">\n",
              "  <thead>\n",
              "    <tr style=\"text-align: right;\">\n",
              "      <th></th>\n",
              "      <th>H</th>\n",
              "      <th>L</th>\n",
              "      <th>M</th>\n",
              "      <th>Air Temperature</th>\n",
              "      <th>Process Temperature</th>\n",
              "      <th>Rotational Speed</th>\n",
              "      <th>Torque</th>\n",
              "      <th>Tool Wear</th>\n",
              "    </tr>\n",
              "  </thead>\n",
              "  <tbody>\n",
              "    <tr>\n",
              "      <th>count</th>\n",
              "      <td>9937.000000</td>\n",
              "      <td>9937.000000</td>\n",
              "      <td>9937.000000</td>\n",
              "      <td>9937.000000</td>\n",
              "      <td>9937.000000</td>\n",
              "      <td>9937.000000</td>\n",
              "      <td>9937.000000</td>\n",
              "      <td>9937.000000</td>\n",
              "    </tr>\n",
              "    <tr>\n",
              "      <th>mean</th>\n",
              "      <td>0.099930</td>\n",
              "      <td>0.600081</td>\n",
              "      <td>0.299990</td>\n",
              "      <td>0.511116</td>\n",
              "      <td>0.531294</td>\n",
              "      <td>0.215786</td>\n",
              "      <td>0.497157</td>\n",
              "      <td>0.428038</td>\n",
              "    </tr>\n",
              "    <tr>\n",
              "      <th>std</th>\n",
              "      <td>0.299921</td>\n",
              "      <td>0.489906</td>\n",
              "      <td>0.458276</td>\n",
              "      <td>0.217463</td>\n",
              "      <td>0.183135</td>\n",
              "      <td>0.104334</td>\n",
              "      <td>0.136915</td>\n",
              "      <td>0.252443</td>\n",
              "    </tr>\n",
              "    <tr>\n",
              "      <th>min</th>\n",
              "      <td>0.000000</td>\n",
              "      <td>0.000000</td>\n",
              "      <td>0.000000</td>\n",
              "      <td>0.000000</td>\n",
              "      <td>0.000000</td>\n",
              "      <td>0.000000</td>\n",
              "      <td>0.000000</td>\n",
              "      <td>0.000000</td>\n",
              "    </tr>\n",
              "    <tr>\n",
              "      <th>25%</th>\n",
              "      <td>0.000000</td>\n",
              "      <td>0.000000</td>\n",
              "      <td>0.000000</td>\n",
              "      <td>0.326087</td>\n",
              "      <td>0.382716</td>\n",
              "      <td>0.148428</td>\n",
              "      <td>0.403846</td>\n",
              "      <td>0.211155</td>\n",
              "    </tr>\n",
              "    <tr>\n",
              "      <th>50%</th>\n",
              "      <td>0.000000</td>\n",
              "      <td>1.000000</td>\n",
              "      <td>0.000000</td>\n",
              "      <td>0.521739</td>\n",
              "      <td>0.543210</td>\n",
              "      <td>0.194994</td>\n",
              "      <td>0.498626</td>\n",
              "      <td>0.426295</td>\n",
              "    </tr>\n",
              "    <tr>\n",
              "      <th>75%</th>\n",
              "      <td>0.000000</td>\n",
              "      <td>1.000000</td>\n",
              "      <td>1.000000</td>\n",
              "      <td>0.673913</td>\n",
              "      <td>0.666667</td>\n",
              "      <td>0.258440</td>\n",
              "      <td>0.590659</td>\n",
              "      <td>0.645418</td>\n",
              "    </tr>\n",
              "    <tr>\n",
              "      <th>max</th>\n",
              "      <td>1.000000</td>\n",
              "      <td>1.000000</td>\n",
              "      <td>1.000000</td>\n",
              "      <td>1.000000</td>\n",
              "      <td>1.000000</td>\n",
              "      <td>1.000000</td>\n",
              "      <td>1.000000</td>\n",
              "      <td>1.000000</td>\n",
              "    </tr>\n",
              "  </tbody>\n",
              "</table>\n",
              "</div>\n",
              "      <button class=\"colab-df-convert\" onclick=\"convertToInteractive('df-454f4f32-7582-4fd3-b3b5-10802ab3654d')\"\n",
              "              title=\"Convert this dataframe to an interactive table.\"\n",
              "              style=\"display:none;\">\n",
              "        \n",
              "  <svg xmlns=\"http://www.w3.org/2000/svg\" height=\"24px\"viewBox=\"0 0 24 24\"\n",
              "       width=\"24px\">\n",
              "    <path d=\"M0 0h24v24H0V0z\" fill=\"none\"/>\n",
              "    <path d=\"M18.56 5.44l.94 2.06.94-2.06 2.06-.94-2.06-.94-.94-2.06-.94 2.06-2.06.94zm-11 1L8.5 8.5l.94-2.06 2.06-.94-2.06-.94L8.5 2.5l-.94 2.06-2.06.94zm10 10l.94 2.06.94-2.06 2.06-.94-2.06-.94-.94-2.06-.94 2.06-2.06.94z\"/><path d=\"M17.41 7.96l-1.37-1.37c-.4-.4-.92-.59-1.43-.59-.52 0-1.04.2-1.43.59L10.3 9.45l-7.72 7.72c-.78.78-.78 2.05 0 2.83L4 21.41c.39.39.9.59 1.41.59.51 0 1.02-.2 1.41-.59l7.78-7.78 2.81-2.81c.8-.78.8-2.07 0-2.86zM5.41 20L4 18.59l7.72-7.72 1.47 1.35L5.41 20z\"/>\n",
              "  </svg>\n",
              "      </button>\n",
              "      \n",
              "  <style>\n",
              "    .colab-df-container {\n",
              "      display:flex;\n",
              "      flex-wrap:wrap;\n",
              "      gap: 12px;\n",
              "    }\n",
              "\n",
              "    .colab-df-convert {\n",
              "      background-color: #E8F0FE;\n",
              "      border: none;\n",
              "      border-radius: 50%;\n",
              "      cursor: pointer;\n",
              "      display: none;\n",
              "      fill: #1967D2;\n",
              "      height: 32px;\n",
              "      padding: 0 0 0 0;\n",
              "      width: 32px;\n",
              "    }\n",
              "\n",
              "    .colab-df-convert:hover {\n",
              "      background-color: #E2EBFA;\n",
              "      box-shadow: 0px 1px 2px rgba(60, 64, 67, 0.3), 0px 1px 3px 1px rgba(60, 64, 67, 0.15);\n",
              "      fill: #174EA6;\n",
              "    }\n",
              "\n",
              "    [theme=dark] .colab-df-convert {\n",
              "      background-color: #3B4455;\n",
              "      fill: #D2E3FC;\n",
              "    }\n",
              "\n",
              "    [theme=dark] .colab-df-convert:hover {\n",
              "      background-color: #434B5C;\n",
              "      box-shadow: 0px 1px 3px 1px rgba(0, 0, 0, 0.15);\n",
              "      filter: drop-shadow(0px 1px 2px rgba(0, 0, 0, 0.3));\n",
              "      fill: #FFFFFF;\n",
              "    }\n",
              "  </style>\n",
              "\n",
              "      <script>\n",
              "        const buttonEl =\n",
              "          document.querySelector('#df-454f4f32-7582-4fd3-b3b5-10802ab3654d button.colab-df-convert');\n",
              "        buttonEl.style.display =\n",
              "          google.colab.kernel.accessAllowed ? 'block' : 'none';\n",
              "\n",
              "        async function convertToInteractive(key) {\n",
              "          const element = document.querySelector('#df-454f4f32-7582-4fd3-b3b5-10802ab3654d');\n",
              "          const dataTable =\n",
              "            await google.colab.kernel.invokeFunction('convertToInteractive',\n",
              "                                                     [key], {});\n",
              "          if (!dataTable) return;\n",
              "\n",
              "          const docLinkHtml = 'Like what you see? Visit the ' +\n",
              "            '<a target=\"_blank\" href=https://colab.research.google.com/notebooks/data_table.ipynb>data table notebook</a>'\n",
              "            + ' to learn more about interactive tables.';\n",
              "          element.innerHTML = '';\n",
              "          dataTable['output_type'] = 'display_data';\n",
              "          await google.colab.output.renderOutput(dataTable, element);\n",
              "          const docLink = document.createElement('div');\n",
              "          docLink.innerHTML = docLinkHtml;\n",
              "          element.appendChild(docLink);\n",
              "        }\n",
              "      </script>\n",
              "    </div>\n",
              "  </div>\n",
              "  "
            ]
          },
          "metadata": {},
          "execution_count": 47
        }
      ],
      "source": [
        "escalador = MinMaxScaler()\n",
        "x = escalador.fit_transform(x)\n",
        "x = pd.DataFrame(data=x, columns=['H', 'L', 'M',\n",
        "                  'Air Temperature',\n",
        "                  'Process Temperature',\n",
        "                  'Rotational Speed',\n",
        "                  'Torque',\n",
        "                  'Tool Wear',])\n",
        "x.describe()"
      ]
    },
    {
      "cell_type": "code",
      "source": [
        "x_boxplot = x[['Air Temperature', 'Process Temperature', 'Rotational Speed', 'Torque', 'Tool Wear']]\n",
        "x_boxplot.columns = ['Air\\nTemperature', 'Process\\nTemperature', 'Rotational\\nSpeed', 'Torque', 'Tool\\nWear']\n",
        "boxplot = sns.boxplot(data=x_boxplot[['Air\\nTemperature', 'Process\\nTemperature', 'Rotational\\nSpeed', 'Torque', 'Tool\\nWear']]);\n",
        "boxplot.figure.set_size_inches(9, 5)\n",
        "plt.title('Gráfico de distribuição')\n",
        "plt.xlabel('Colunas')\n",
        "plt.ylabel('Valores')\n",
        "plt.savefig('Boxplot.png')"
      ],
      "metadata": {
        "colab": {
          "base_uri": "https://localhost:8080/",
          "height": 422
        },
        "id": "s_efh5FDcIXy",
        "outputId": "5d073299-0a20-4fe8-b054-32f4e9db5675"
      },
      "execution_count": 48,
      "outputs": [
        {
          "output_type": "display_data",
          "data": {
            "text/plain": [
              "<Figure size 720x400 with 1 Axes>"
            ],
            "image/png": "[encoded data removed]"
          },
          "metadata": {}
        }
      ]
    },
    {
      "cell_type": "markdown",
      "metadata": {
        "id": "0P9C1enG4LVx"
      },
      "source": [
        "## Separação dos subconjuntos de treino, teste e validação"
      ]
    },
    {
      "cell_type": "code",
      "execution_count": 49,
      "metadata": {
        "id": "PodbZOZzWGTX"
      },
      "outputs": [],
      "source": [
        "x_treino, x_teste, y_treino, y_teste = train_test_split(x, y, random_state=42, stratify=y, train_size=0.80)\n",
        "x_teste, x_validacao, y_teste, y_validacao = train_test_split(x_teste, y_teste, random_state=42, stratify=y_teste, train_size=0.5)"
      ]
    },
    {
      "cell_type": "code",
      "execution_count": 50,
      "metadata": {
        "colab": {
          "base_uri": "https://localhost:8080/"
        },
        "id": "-T4jFKbtdh3n",
        "outputId": "1f6d7622-1b21-459d-bb28-a00a6f6dc923"
      },
      "outputs": [
        {
          "output_type": "stream",
          "name": "stdout",
          "text": [
            "Tamanho dos conjuntos\n",
            "Conjunto\tQtd. Linhas\tQtd. Colunas\n",
            "X Treino\t7949\t\t8\n",
            "Y Treino\t7949\t\t1\n",
            "X Teste\t\t994\t\t8\n",
            "Y Teste\t\t994\t\t1\n",
            "X Validação\t994\t\t8\n",
            "Y Validação\t994\t\t1\n"
          ]
        }
      ],
      "source": [
        "print('Tamanho dos conjuntos')\n",
        "print('Conjunto\\tQtd. Linhas\\tQtd. Colunas')\n",
        "print(f'X Treino\\t{x_treino.shape[0]}\\t\\t{x_treino.shape[1]}')\n",
        "print(f'Y Treino\\t{y_treino.shape[0]}\\t\\t1')\n",
        "print(f'X Teste\\t\\t{x_teste.shape[0]}\\t\\t{x_teste.shape[1]}')\n",
        "print(f'Y Teste\\t\\t{y_teste.shape[0]}\\t\\t1')\n",
        "print(f'X Validação\\t{x_validacao.shape[0]}\\t\\t{x_validacao.shape[1]}')\n",
        "print(f'Y Validação\\t{y_validacao.shape[0]}\\t\\t1')"
      ]
    },
    {
      "cell_type": "markdown",
      "metadata": {
        "id": "7210DEag4TX7"
      },
      "source": [
        "## Aplicação dos modelos"
      ]
    },
    {
      "cell_type": "markdown",
      "metadata": {
        "id": "i3QwHoIx4Vxi"
      },
      "source": [
        "### Árvore de Decisão"
      ]
    },
    {
      "cell_type": "code",
      "execution_count": 51,
      "metadata": {
        "colab": {
          "base_uri": "https://localhost:8080/"
        },
        "id": "hlYGLO4kiW-H",
        "outputId": "4b37e109-a79b-45c9-81a1-3ef2115fb2ab"
      },
      "outputs": [
        {
          "output_type": "execute_result",
          "data": {
            "text/plain": [
              "{'max_depth': 10}"
            ]
          },
          "metadata": {},
          "execution_count": 51
        }
      ],
      "source": [
        "parametros_arvore_decisao = {\n",
        "   'max_depth': np.arange(1, 20) \n",
        "}\n",
        "\n",
        "grid_search_arvore_decisao = GridSearchCV(DecisionTreeClassifier(), parametros_arvore_decisao, cv=5, scoring='recall')\n",
        "grid_search_arvore_decisao.fit(x_treino, y_treino)\n",
        "melhores_parametros_arvore_decisao = grid_search_arvore_decisao.best_params_\n",
        "melhores_parametros_arvore_decisao"
      ]
    },
    {
      "cell_type": "code",
      "execution_count": 52,
      "metadata": {
        "colab": {
          "base_uri": "https://localhost:8080/"
        },
        "id": "s0zXzVwQOKtw",
        "outputId": "fcfd9591-cca6-4788-9e78-28a80e8c5396"
      },
      "outputs": [
        {
          "output_type": "execute_result",
          "data": {
            "text/plain": [
              "{'fit_time': array([0.00726318, 0.00745678, 0.00846171, 0.00649071, 0.00554919]),\n",
              " 'score_time': array([0.02279091, 0.00316978, 0.00338459, 0.00408411, 0.00913477]),\n",
              " 'test_score': array([0.98492462, 0.9798995 , 0.96984925, 0.98994975, 0.97474747]),\n",
              " 'train_score': array([0.97987421, 0.98113208, 0.9836478 , 0.97861635, 0.98241206])}"
            ]
          },
          "metadata": {},
          "execution_count": 52
        }
      ],
      "source": [
        "clf_tree = DecisionTreeClassifier(max_depth=2)\n",
        "validacao_cruzada_arvore_decisao = cross_validate(estimator=clf_tree, X=x_validacao, y=y_validacao, cv=5, return_train_score=True)\n",
        "validacao_cruzada_arvore_decisao"
      ]
    },
    {
      "cell_type": "code",
      "source": [
        "print(validacao_cruzada_arvore_decisao['train_score'].mean()* 100)\n",
        "print(validacao_cruzada_arvore_decisao['test_score'].mean()* 100)"
      ],
      "metadata": {
        "colab": {
          "base_uri": "https://localhost:8080/"
        },
        "id": "_pCpO1DFDg9v",
        "outputId": "170212e8-c7d8-45f7-fd43-dd9a567215b0"
      },
      "execution_count": 91,
      "outputs": [
        {
          "output_type": "stream",
          "name": "stdout",
          "text": [
            "98.11365001106161\n",
            "97.9874118065073\n"
          ]
        }
      ]
    },
    {
      "cell_type": "code",
      "execution_count": 53,
      "metadata": {
        "id": "My8q2y98PGc6"
      },
      "outputs": [],
      "source": [
        "clf_tree.fit(x_treino, y_treino)\n",
        "predicao = clf_tree.predict(x_teste)"
      ]
    },
    {
      "cell_type": "code",
      "execution_count": 54,
      "metadata": {
        "colab": {
          "base_uri": "https://localhost:8080/"
        },
        "id": "4MABtDjX4VQO",
        "outputId": "73ed90e2-da0c-4fb1-e4fb-4b2d81fddc67"
      },
      "outputs": [
        {
          "output_type": "stream",
          "name": "stdout",
          "text": [
            "              precision    recall  f1-score   support\n",
            "\n",
            "           0      0.978     0.999     0.988       964\n",
            "           1      0.889     0.267     0.410        30\n",
            "\n",
            "    accuracy                          0.977       994\n",
            "   macro avg      0.933     0.633     0.699       994\n",
            "weighted avg      0.975     0.977     0.971       994\n",
            "\n",
            "Acurácia: 97.686\n",
            "Precisão Média: 97.499\n",
            "Revocação Média: 97.686\n",
            "F1 Média: 97.076\n"
          ]
        }
      ],
      "source": [
        "resultados = classification_report(y_teste, predicao, digits=3) \n",
        "print(resultados)\n",
        "\n",
        "acuracia_arvore_decisao = clf_tree.score(x_teste, y_teste) * 100\n",
        "precisao_arvore_decisao = precision_score(y_teste, predicao, average=\"weighted\") * 100\n",
        "revocacao_arvore_decisao = recall_score(y_teste, predicao, average=\"weighted\") * 100\n",
        "f1_arvore_decisao = f1_score(y_teste, predicao, average=\"weighted\") * 100\n",
        "print(f'Acurácia: {acuracia_arvore_decisao:.3f}')\n",
        "print(f'Precisão Média: {precisao_arvore_decisao:.3f}')\n",
        "print(f'Revocação Média: {revocacao_arvore_decisao:.3f}')\n",
        "print(f'F1 Média: {f1_arvore_decisao:.3f}')"
      ]
    },
    {
      "cell_type": "code",
      "source": [
        "export_graphviz(clf_tree, out_file='outfile.dot', feature_names=x_teste.columns)"
      ],
      "metadata": {
        "id": "VzpLwmVd4W4j"
      },
      "execution_count": 55,
      "outputs": []
    },
    {
      "cell_type": "code",
      "source": [
        "!dot -Tpng outfile.dot -o /content/results/arvore.png"
      ],
      "metadata": {
        "id": "PTiMdqhs4zKL"
      },
      "execution_count": 56,
      "outputs": []
    },
    {
      "cell_type": "markdown",
      "metadata": {
        "id": "nUn-b63w4Xs1"
      },
      "source": [
        "### Teorema de Bayes"
      ]
    },
    {
      "cell_type": "code",
      "execution_count": 57,
      "metadata": {
        "id": "XDesVy-xm2yF"
      },
      "outputs": [],
      "source": [
        "clf_bayes = GaussianNB()"
      ]
    },
    {
      "cell_type": "code",
      "execution_count": 58,
      "metadata": {
        "colab": {
          "base_uri": "https://localhost:8080/"
        },
        "id": "mH04snF2moEc",
        "outputId": "efaa8577-2d08-4530-a2c4-209feaf6e069"
      },
      "outputs": [
        {
          "output_type": "execute_result",
          "data": {
            "text/plain": [
              "{'fit_time': array([0.01141953, 0.00479054, 0.01209641, 0.00421929, 0.00422025]),\n",
              " 'score_time': array([0.00301433, 0.02360582, 0.00276542, 0.00239086, 0.00249052]),\n",
              " 'test_score': array([0.98492462, 0.97487437, 0.96984925, 0.98994975, 0.97474747]),\n",
              " 'train_score': array([0.97987421, 0.98113208, 0.9836478 , 0.97861635, 0.98241206])}"
            ]
          },
          "metadata": {},
          "execution_count": 58
        }
      ],
      "source": [
        "validacao_cruzada_naive_bayes = cross_validate(estimator=clf_tree, X=x_validacao, y=y_validacao, return_train_score=True)\n",
        "validacao_cruzada_naive_bayes"
      ]
    },
    {
      "cell_type": "code",
      "source": [
        "print(validacao_cruzada_naive_bayes['train_score'].mean()* 100)\n",
        "print(validacao_cruzada_naive_bayes['test_score'].mean()* 100)"
      ],
      "metadata": {
        "colab": {
          "base_uri": "https://localhost:8080/"
        },
        "id": "PP1OYpUYDd1O",
        "outputId": "1fcf6ceb-ef9b-4397-cdf7-fc1ccde42f2c"
      },
      "execution_count": 90,
      "outputs": [
        {
          "output_type": "stream",
          "name": "stdout",
          "text": [
            "98.11365001106161\n",
            "97.88690929394447\n"
          ]
        }
      ]
    },
    {
      "cell_type": "code",
      "execution_count": 59,
      "metadata": {
        "id": "MK3t2zfXO-lA"
      },
      "outputs": [],
      "source": [
        "clf_bayes.fit(x_treino, y_treino)\n",
        "predicao_naive_bayes = clf_bayes.predict(x_teste)"
      ]
    },
    {
      "cell_type": "code",
      "execution_count": 60,
      "metadata": {
        "colab": {
          "base_uri": "https://localhost:8080/"
        },
        "id": "27AVySer4ajG",
        "outputId": "741a5ddf-7339-4d5c-deeb-b5df589412ea"
      },
      "outputs": [
        {
          "output_type": "stream",
          "name": "stdout",
          "text": [
            "              precision    recall  f1-score   support\n",
            "\n",
            "           0      0.973     0.985     0.979       964\n",
            "           1      0.222     0.133     0.167        30\n",
            "\n",
            "    accuracy                          0.960       994\n",
            "   macro avg      0.598     0.559     0.573       994\n",
            "weighted avg      0.951     0.960     0.955       994\n",
            "\n",
            "Acurácia: 95.98\n",
            "Precisão Média: 95.07\n",
            "Revocação Média: 95.98\n",
            "F1 Média: 95.49\n"
          ]
        }
      ],
      "source": [
        "print(classification_report(y_teste, predicao_naive_bayes, digits=3))\n",
        "\n",
        "acuracia_naive_bayes = clf_bayes.score(x_teste, y_teste) * 100\n",
        "precisao_naive_bayes = precision_score(y_teste, predicao_naive_bayes, average=\"weighted\") * 100\n",
        "revocacao_naive_bayes = recall_score(y_teste, predicao_naive_bayes, average=\"weighted\") * 100\n",
        "f1_naive_bayes = f1_score(y_teste, predicao_naive_bayes, average=\"weighted\") * 100\n",
        "print(f'Acurácia: {acuracia_naive_bayes:.2f}')\n",
        "print(f'Precisão Média: {precisao_naive_bayes:.2f}')\n",
        "print(f'Revocação Média: {revocacao_naive_bayes:.2f}')\n",
        "print(f'F1 Média: {f1_naive_bayes:.2f}')"
      ]
    },
    {
      "cell_type": "markdown",
      "metadata": {
        "id": "vnFtNkeyyblC"
      },
      "source": [
        "### SVM"
      ]
    },
    {
      "cell_type": "code",
      "execution_count": 61,
      "metadata": {
        "colab": {
          "base_uri": "https://localhost:8080/"
        },
        "id": "UtoLpwUwzHPn",
        "outputId": "dd26d0a6-5183-4381-a48b-7506e20f6ae9"
      },
      "outputs": [
        {
          "output_type": "execute_result",
          "data": {
            "text/plain": [
              "{'fit_time': array([0.03638411, 0.01513124, 0.01437879, 0.03016949, 0.02376628]),\n",
              " 'score_time': array([0.01185083, 0.00432754, 0.00438857, 0.00447035, 0.00448751]),\n",
              " 'test_score': array([0.98492462, 0.95979899, 0.97487437, 0.97487437, 0.96969697]),\n",
              " 'train_score': array([0.98490566, 0.98993711, 0.98993711, 0.98993711, 0.99246231])}"
            ]
          },
          "metadata": {},
          "execution_count": 61
        }
      ],
      "source": [
        "clf_svm = SVC(C=100, kernel='rbf', gamma='scale')\n",
        "validacao_cruzada_svm = cross_validate(estimator=clf_svm, X=x_validacao, y=y_validacao, return_train_score=True)\n",
        "validacao_cruzada_svm"
      ]
    },
    {
      "cell_type": "code",
      "source": [
        "print(validacao_cruzada_svm['train_score'].mean()* 100)\n",
        "print(validacao_cruzada_svm['test_score'].mean()* 100)"
      ],
      "metadata": {
        "colab": {
          "base_uri": "https://localhost:8080/"
        },
        "id": "xBdoD5EyDbHx",
        "outputId": "2013901e-56d3-49af-c823-ecb1623dcb70"
      },
      "execution_count": 89,
      "outputs": [
        {
          "output_type": "stream",
          "name": "stdout",
          "text": [
            "98.94358585379729\n",
            "97.2833866301203\n"
          ]
        }
      ]
    },
    {
      "cell_type": "code",
      "execution_count": 62,
      "metadata": {
        "id": "UsWY2inuz6bQ"
      },
      "outputs": [],
      "source": [
        "clf_svm.fit(x_treino, y_treino)\n",
        "predicao_svm = clf_svm.predict(x_teste)"
      ]
    },
    {
      "cell_type": "code",
      "execution_count": 63,
      "metadata": {
        "colab": {
          "base_uri": "https://localhost:8080/"
        },
        "id": "XBTi8vaB0Dem",
        "outputId": "4d1892e0-dd71-433b-8db3-d5908e6e8df6"
      },
      "outputs": [
        {
          "output_type": "stream",
          "name": "stdout",
          "text": [
            "              precision    recall  f1-score   support\n",
            "\n",
            "           0      0.978     0.999     0.988       964\n",
            "           1      0.889     0.267     0.410        30\n",
            "\n",
            "    accuracy                          0.977       994\n",
            "   macro avg      0.933     0.633     0.699       994\n",
            "weighted avg      0.975     0.977     0.971       994\n",
            "\n",
            "Acurácia: 98.390\n",
            "Precisão Média: 98.254\n",
            "Revocação Média: 98.390\n",
            "F1 Média: 97.076\n"
          ]
        }
      ],
      "source": [
        "print(classification_report(y_teste, predicao, digits=3))\n",
        "\n",
        "acuracia_svm = clf_svm.score(x_teste, y_teste) * 100\n",
        "precisao_svm = precision_score(y_teste, predicao_svm, average=\"weighted\") * 100\n",
        "revocacao_svm = recall_score(y_teste, predicao_svm, average=\"weighted\") * 100\n",
        "f1_svm = f1_score(y_teste, predicao, average=\"weighted\") * 100\n",
        "print(f'Acurácia: {acuracia_svm:.3f}')\n",
        "print(f'Precisão Média: {precisao_svm:.3f}')\n",
        "print(f'Revocação Média: {revocacao_svm:.3f}')\n",
        "print(f'F1 Média: {f1_svm:.3f}')"
      ]
    },
    {
      "cell_type": "markdown",
      "metadata": {
        "id": "6OpOWeeH0vbA"
      },
      "source": [
        "### XGBoost"
      ]
    },
    {
      "cell_type": "code",
      "execution_count": 64,
      "metadata": {
        "colab": {
          "base_uri": "https://localhost:8080/"
        },
        "id": "j__dmjC1tIpL",
        "outputId": "cded210f-1f21-4d2c-c01f-8e8b5f3992b6"
      },
      "outputs": [
        {
          "output_type": "execute_result",
          "data": {
            "text/plain": [
              "{'tree_method': 'auto',\n",
              " 'objective': 'binary:hinge',\n",
              " 'max_depth': 7,\n",
              " 'gamma': 3,\n",
              " 'eval_metric': 'auc',\n",
              " 'eta': 0.15000000000000002,\n",
              " 'booster': 'gbtree'}"
            ]
          },
          "metadata": {},
          "execution_count": 64
        }
      ],
      "source": [
        "parametros_xgb = {\n",
        "    'booster': ['dart', 'gbtree'],\n",
        "    'tree_method': ['auto', 'approx', 'hist', 'exact'],\n",
        "    'eta': np.arange(0.1, 0.205, 0.05),\n",
        "    'gamma': np.arange(0, 101),\n",
        "    'max_depth': np.arange(3, 12),\n",
        "    'objective': ['binary:hinge'],\n",
        "    'eval_metric': ['error', 'auc', 'aucpr']\n",
        "}\n",
        "\n",
        "randomized_search_xgb = RandomizedSearchCV(estimator=XGBClassifier(),\n",
        "                                           param_distributions=parametros_xgb,\n",
        "                                           n_iter=10,\n",
        "                                           scoring='accuracy',\n",
        "                                           cv=5,\n",
        "                                           return_train_score=True)\n",
        "\n",
        "randomized_search_xgb.fit(x_treino, y_treino)\n",
        "melhores_parametros_xgb = randomized_search_xgb.best_params_\n",
        "melhores_parametros_xgb"
      ]
    },
    {
      "cell_type": "code",
      "execution_count": 65,
      "metadata": {
        "colab": {
          "base_uri": "https://localhost:8080/"
        },
        "id": "ksnujZQA13Iq",
        "outputId": "422fad7a-6594-4849-d76f-839993d446ce"
      },
      "outputs": [
        {
          "output_type": "execute_result",
          "data": {
            "text/plain": [
              "array([0.98125557, 0.97043653, 0.97207238, 0.97182057, 0.9899356 ,\n",
              "       0.971569  , 0.97043653, 0.97962066, 0.96943064, 0.971569  ])"
            ]
          },
          "metadata": {},
          "execution_count": 65
        }
      ],
      "source": [
        "randomized_search_xgb.cv_results_['mean_test_score']"
      ]
    },
    {
      "cell_type": "code",
      "execution_count": 66,
      "metadata": {
        "colab": {
          "base_uri": "https://localhost:8080/"
        },
        "id": "hfa8dqUjvt9c",
        "outputId": "56f924e8-df7f-4819-f5a0-aa338a20dce3"
      },
      "outputs": [
        {
          "output_type": "execute_result",
          "data": {
            "text/plain": [
              "array([0.98603611, 0.97043653, 0.97578308, 0.97288962, 0.99962259,\n",
              "       0.9725122 , 0.97043653, 0.98345699, 0.97200897, 0.9725122 ])"
            ]
          },
          "metadata": {},
          "execution_count": 66
        }
      ],
      "source": [
        "randomized_search_xgb.cv_results_['mean_train_score']"
      ]
    },
    {
      "cell_type": "code",
      "execution_count": 67,
      "metadata": {
        "colab": {
          "base_uri": "https://localhost:8080/"
        },
        "id": "Q1Ty_p8f02sd",
        "outputId": "123a29a3-49e6-458d-f4d0-39dff33bbc49"
      },
      "outputs": [
        {
          "output_type": "execute_result",
          "data": {
            "text/plain": [
              "{'fit_time': array([2.3354032 , 1.92081261, 1.49720097, 1.45197415, 1.47822833]),\n",
              " 'score_time': array([0.01234102, 0.00886869, 0.00847006, 0.01053524, 0.00874329]),\n",
              " 'test_score': array([0.98930818, 0.98993711, 0.99056604, 0.98867925, 0.98678414]),\n",
              " 'train_score': array([0.99905646, 0.99905646, 0.99858468, 0.99937097, 0.99937107])}"
            ]
          },
          "metadata": {},
          "execution_count": 67
        }
      ],
      "source": [
        "clf_xgb = XGBClassifier(booster='dart',\n",
        "                        max_depth=4,\n",
        "                        objective='binary:hinge',\n",
        "                        eval_metric='error',\n",
        "                        eta=0.15)\n",
        "validacao_cruzada = cross_validate(estimator=clf_xgb, X=x_treino, y=y_treino, cv=5, return_train_score=True)\n",
        "validacao_cruzada"
      ]
    },
    {
      "cell_type": "code",
      "source": [
        "print(validacao_cruzada['train_score'].mean()* 100)\n",
        "print(validacao_cruzada['test_score'].mean()* 100)"
      ],
      "metadata": {
        "colab": {
          "base_uri": "https://localhost:8080/"
        },
        "id": "nf4lZd3ADVou",
        "outputId": "d76019aa-8a9b-4995-9f09-b7ce641245e3"
      },
      "execution_count": 88,
      "outputs": [
        {
          "output_type": "stream",
          "name": "stdout",
          "text": [
            "99.90879266844101\n",
            "98.90549414013798\n"
          ]
        }
      ]
    },
    {
      "cell_type": "code",
      "execution_count": 68,
      "metadata": {
        "colab": {
          "base_uri": "https://localhost:8080/"
        },
        "id": "s_s5Wxfk1zd0",
        "outputId": "d8a804d0-6a56-427d-803e-87df9cb4e873"
      },
      "outputs": [
        {
          "output_type": "execute_result",
          "data": {
            "text/plain": [
              "XGBClassifier(booster='dart', eta=0.15, eval_metric='error', max_depth=4,\n",
              "              objective='binary:hinge')"
            ]
          },
          "metadata": {},
          "execution_count": 68
        }
      ],
      "source": [
        "clf_xgb.fit(x_treino, y_treino)"
      ]
    },
    {
      "cell_type": "code",
      "execution_count": 69,
      "metadata": {
        "colab": {
          "base_uri": "https://localhost:8080/"
        },
        "id": "BWx5G1gX19XM",
        "outputId": "3f60a32d-f3be-41b3-aa05-2f12d044244c"
      },
      "outputs": [
        {
          "output_type": "stream",
          "name": "stdout",
          "text": [
            "              precision    recall  f1-score   support\n",
            "\n",
            "           0      0.978     0.999     0.988       964\n",
            "           1      0.889     0.267     0.410        30\n",
            "\n",
            "    accuracy                          0.977       994\n",
            "   macro avg      0.933     0.633     0.699       994\n",
            "weighted avg      0.975     0.977     0.971       994\n",
            "\n",
            "Acurácia: 99.195\n",
            "Precisão Média: 99.226\n",
            "Revocação Média: 99.195\n",
            "F1 Média: 99.208\n"
          ]
        }
      ],
      "source": [
        "predicao_xgb = clf_xgb.predict(x_teste)\n",
        "print(classification_report(y_teste, predicao, digits=3))\n",
        "\n",
        "acuracia_xgb = clf_xgb.score(x_teste, y_teste) * 100\n",
        "precisao_xgb = precision_score(y_teste, predicao_xgb, average='weighted') * 100\n",
        "revocacao_xgb = recall_score(y_teste, predicao_xgb, average='weighted') * 100\n",
        "f1_xgb = f1_score(y_teste, predicao_xgb, average='weighted') * 100\n",
        "print(f'Acurácia: {acuracia_xgb:.3f}')\n",
        "print(f'Precisão Média: {precisao_xgb:.3f}')\n",
        "print(f'Revocação Média: {revocacao_xgb:.3f}')\n",
        "print(f'F1 Média: {f1_xgb:.3f}')"
      ]
    },
    {
      "cell_type": "markdown",
      "source": [
        "### Rede Neural Artificial (ANN)"
      ],
      "metadata": {
        "id": "Ini-0qJCSK3R"
      }
    },
    {
      "cell_type": "code",
      "source": [
        "layer_sizes = []\n",
        "for i in range(1, 20):\n",
        "  size = (i,)\n",
        "  layer_sizes.append(size)"
      ],
      "metadata": {
        "id": "9oA0uPTnSvWu"
      },
      "execution_count": 70,
      "outputs": []
    },
    {
      "cell_type": "code",
      "source": [
        "mlp_params = {\n",
        "  'hidden_layer_sizes': layer_sizes,\n",
        "  'activation': ['identity', 'logistic', 'tanh', 'relu'],\n",
        "  'solver': ['sgd', 'adam'],\n",
        "  'learning_rate': ['constant', 'invscaling', 'adaptive'], # Only solver is sgd\n",
        "  'random_state': [0],\n",
        "  'validation_fraction': [0.1, 0.2, 0.3],\n",
        "  'max_iter': [200]\n",
        "}\n",
        "\n",
        "randomized_search_mlp = RandomizedSearchCV(estimator=MLPClassifier(), param_distributions=mlp_params,\n",
        "                                           n_iter=10, scoring='accuracy', cv=5,\n",
        "                                           return_train_score=True)\n",
        "randomized_search_mlp.fit(x_treino, y_treino)\n",
        "melhores_parametros_mlp = randomized_search_mlp.best_params_\n",
        "melhores_parametros_mlp"
      ],
      "metadata": {
        "colab": {
          "base_uri": "https://localhost:8080/"
        },
        "id": "FwLRAIMwSQkk",
        "outputId": "7e723d9a-af32-48c2-f627-d4c26086d299"
      },
      "execution_count": 71,
      "outputs": [
        {
          "output_type": "stream",
          "name": "stderr",
          "text": [
            "/usr/local/lib/python3.7/dist-packages/sklearn/neural_network/_multilayer_perceptron.py:696: ConvergenceWarning: Stochastic Optimizer: Maximum iterations (200) reached and the optimization hasn't converged yet.\n",
            "  ConvergenceWarning,\n",
            "/usr/local/lib/python3.7/dist-packages/sklearn/neural_network/_multilayer_perceptron.py:696: ConvergenceWarning: Stochastic Optimizer: Maximum iterations (200) reached and the optimization hasn't converged yet.\n",
            "  ConvergenceWarning,\n",
            "/usr/local/lib/python3.7/dist-packages/sklearn/neural_network/_multilayer_perceptron.py:696: ConvergenceWarning: Stochastic Optimizer: Maximum iterations (200) reached and the optimization hasn't converged yet.\n",
            "  ConvergenceWarning,\n",
            "/usr/local/lib/python3.7/dist-packages/sklearn/neural_network/_multilayer_perceptron.py:696: ConvergenceWarning: Stochastic Optimizer: Maximum iterations (200) reached and the optimization hasn't converged yet.\n",
            "  ConvergenceWarning,\n",
            "/usr/local/lib/python3.7/dist-packages/sklearn/neural_network/_multilayer_perceptron.py:696: ConvergenceWarning: Stochastic Optimizer: Maximum iterations (200) reached and the optimization hasn't converged yet.\n",
            "  ConvergenceWarning,\n",
            "/usr/local/lib/python3.7/dist-packages/sklearn/neural_network/_multilayer_perceptron.py:696: ConvergenceWarning: Stochastic Optimizer: Maximum iterations (200) reached and the optimization hasn't converged yet.\n",
            "  ConvergenceWarning,\n",
            "/usr/local/lib/python3.7/dist-packages/sklearn/neural_network/_multilayer_perceptron.py:696: ConvergenceWarning: Stochastic Optimizer: Maximum iterations (200) reached and the optimization hasn't converged yet.\n",
            "  ConvergenceWarning,\n",
            "/usr/local/lib/python3.7/dist-packages/sklearn/neural_network/_multilayer_perceptron.py:696: ConvergenceWarning: Stochastic Optimizer: Maximum iterations (200) reached and the optimization hasn't converged yet.\n",
            "  ConvergenceWarning,\n",
            "/usr/local/lib/python3.7/dist-packages/sklearn/neural_network/_multilayer_perceptron.py:696: ConvergenceWarning: Stochastic Optimizer: Maximum iterations (200) reached and the optimization hasn't converged yet.\n",
            "  ConvergenceWarning,\n",
            "/usr/local/lib/python3.7/dist-packages/sklearn/neural_network/_multilayer_perceptron.py:696: ConvergenceWarning: Stochastic Optimizer: Maximum iterations (200) reached and the optimization hasn't converged yet.\n",
            "  ConvergenceWarning,\n",
            "/usr/local/lib/python3.7/dist-packages/sklearn/neural_network/_multilayer_perceptron.py:696: ConvergenceWarning: Stochastic Optimizer: Maximum iterations (200) reached and the optimization hasn't converged yet.\n",
            "  ConvergenceWarning,\n",
            "/usr/local/lib/python3.7/dist-packages/sklearn/neural_network/_multilayer_perceptron.py:696: ConvergenceWarning: Stochastic Optimizer: Maximum iterations (200) reached and the optimization hasn't converged yet.\n",
            "  ConvergenceWarning,\n",
            "/usr/local/lib/python3.7/dist-packages/sklearn/neural_network/_multilayer_perceptron.py:696: ConvergenceWarning: Stochastic Optimizer: Maximum iterations (200) reached and the optimization hasn't converged yet.\n",
            "  ConvergenceWarning,\n",
            "/usr/local/lib/python3.7/dist-packages/sklearn/neural_network/_multilayer_perceptron.py:696: ConvergenceWarning: Stochastic Optimizer: Maximum iterations (200) reached and the optimization hasn't converged yet.\n",
            "  ConvergenceWarning,\n",
            "/usr/local/lib/python3.7/dist-packages/sklearn/neural_network/_multilayer_perceptron.py:696: ConvergenceWarning: Stochastic Optimizer: Maximum iterations (200) reached and the optimization hasn't converged yet.\n",
            "  ConvergenceWarning,\n",
            "/usr/local/lib/python3.7/dist-packages/sklearn/neural_network/_multilayer_perceptron.py:696: ConvergenceWarning: Stochastic Optimizer: Maximum iterations (200) reached and the optimization hasn't converged yet.\n",
            "  ConvergenceWarning,\n",
            "/usr/local/lib/python3.7/dist-packages/sklearn/neural_network/_multilayer_perceptron.py:696: ConvergenceWarning: Stochastic Optimizer: Maximum iterations (200) reached and the optimization hasn't converged yet.\n",
            "  ConvergenceWarning,\n",
            "/usr/local/lib/python3.7/dist-packages/sklearn/neural_network/_multilayer_perceptron.py:696: ConvergenceWarning: Stochastic Optimizer: Maximum iterations (200) reached and the optimization hasn't converged yet.\n",
            "  ConvergenceWarning,\n",
            "/usr/local/lib/python3.7/dist-packages/sklearn/neural_network/_multilayer_perceptron.py:696: ConvergenceWarning: Stochastic Optimizer: Maximum iterations (200) reached and the optimization hasn't converged yet.\n",
            "  ConvergenceWarning,\n",
            "/usr/local/lib/python3.7/dist-packages/sklearn/neural_network/_multilayer_perceptron.py:696: ConvergenceWarning: Stochastic Optimizer: Maximum iterations (200) reached and the optimization hasn't converged yet.\n",
            "  ConvergenceWarning,\n",
            "/usr/local/lib/python3.7/dist-packages/sklearn/neural_network/_multilayer_perceptron.py:696: ConvergenceWarning: Stochastic Optimizer: Maximum iterations (200) reached and the optimization hasn't converged yet.\n",
            "  ConvergenceWarning,\n",
            "/usr/local/lib/python3.7/dist-packages/sklearn/neural_network/_multilayer_perceptron.py:696: ConvergenceWarning: Stochastic Optimizer: Maximum iterations (200) reached and the optimization hasn't converged yet.\n",
            "  ConvergenceWarning,\n"
          ]
        },
        {
          "output_type": "execute_result",
          "data": {
            "text/plain": [
              "{'validation_fraction': 0.1,\n",
              " 'solver': 'adam',\n",
              " 'random_state': 0,\n",
              " 'max_iter': 200,\n",
              " 'learning_rate': 'invscaling',\n",
              " 'hidden_layer_sizes': (17,),\n",
              " 'activation': 'tanh'}"
            ]
          },
          "metadata": {},
          "execution_count": 71
        }
      ]
    },
    {
      "cell_type": "code",
      "source": [
        "randomized_search_mlp.cv_results_['mean_train_score']"
      ],
      "metadata": {
        "colab": {
          "base_uri": "https://localhost:8080/"
        },
        "id": "WGjQWvxtXgnl",
        "outputId": "9e889091-598e-44c4-9b18-34d33500eadc"
      },
      "execution_count": 72,
      "outputs": [
        {
          "output_type": "execute_result",
          "data": {
            "text/plain": [
              "array([0.97043653, 0.97043653, 0.97043653, 0.97043653, 0.97043653,\n",
              "       0.97122279, 0.97402189, 0.97043653, 0.97043653, 0.97408478])"
            ]
          },
          "metadata": {},
          "execution_count": 72
        }
      ]
    },
    {
      "cell_type": "code",
      "source": [
        "randomized_search_mlp.cv_results_['mean_test_score']"
      ],
      "metadata": {
        "colab": {
          "base_uri": "https://localhost:8080/"
        },
        "id": "G_SpgzCIU2-P",
        "outputId": "fa6ea1af-04ab-4ff8-f99e-ef09d612e275"
      },
      "execution_count": 73,
      "outputs": [
        {
          "output_type": "execute_result",
          "data": {
            "text/plain": [
              "array([0.97043653, 0.97043653, 0.97043653, 0.97043653, 0.97043653,\n",
              "       0.97081389, 0.97383323, 0.97043653, 0.97043653, 0.97358142])"
            ]
          },
          "metadata": {},
          "execution_count": 73
        }
      ]
    },
    {
      "cell_type": "code",
      "source": [
        "mlp = MLPClassifier(hidden_layer_sizes=melhores_parametros_mlp['hidden_layer_sizes'],\n",
        "                    solver=melhores_parametros_mlp['solver'], \n",
        "                    random_state=melhores_parametros_mlp['random_state'],\n",
        "                    max_iter=melhores_parametros_mlp['max_iter'],\n",
        "                    learning_rate=melhores_parametros_mlp['learning_rate'],\n",
        "                    activation=melhores_parametros_mlp['activation'],\n",
        "                    validation_fraction=melhores_parametros_mlp['validation_fraction'])"
      ],
      "metadata": {
        "id": "lmgCwpQTYBz5"
      },
      "execution_count": 74,
      "outputs": []
    },
    {
      "cell_type": "code",
      "source": [
        "validacao_cruzada_mlp = cross_validate(estimator=mlp, X=x_treino, y=y_treino, cv=5, return_train_score=True)"
      ],
      "metadata": {
        "colab": {
          "base_uri": "https://localhost:8080/"
        },
        "id": "MGPgs_3_YBp6",
        "outputId": "b20145f4-2b28-4cf4-a1e8-8b54dae717cb"
      },
      "execution_count": 75,
      "outputs": [
        {
          "output_type": "stream",
          "name": "stderr",
          "text": [
            "/usr/local/lib/python3.7/dist-packages/sklearn/neural_network/_multilayer_perceptron.py:696: ConvergenceWarning: Stochastic Optimizer: Maximum iterations (200) reached and the optimization hasn't converged yet.\n",
            "  ConvergenceWarning,\n",
            "/usr/local/lib/python3.7/dist-packages/sklearn/neural_network/_multilayer_perceptron.py:696: ConvergenceWarning: Stochastic Optimizer: Maximum iterations (200) reached and the optimization hasn't converged yet.\n",
            "  ConvergenceWarning,\n",
            "/usr/local/lib/python3.7/dist-packages/sklearn/neural_network/_multilayer_perceptron.py:696: ConvergenceWarning: Stochastic Optimizer: Maximum iterations (200) reached and the optimization hasn't converged yet.\n",
            "  ConvergenceWarning,\n",
            "/usr/local/lib/python3.7/dist-packages/sklearn/neural_network/_multilayer_perceptron.py:696: ConvergenceWarning: Stochastic Optimizer: Maximum iterations (200) reached and the optimization hasn't converged yet.\n",
            "  ConvergenceWarning,\n",
            "/usr/local/lib/python3.7/dist-packages/sklearn/neural_network/_multilayer_perceptron.py:696: ConvergenceWarning: Stochastic Optimizer: Maximum iterations (200) reached and the optimization hasn't converged yet.\n",
            "  ConvergenceWarning,\n"
          ]
        }
      ]
    },
    {
      "cell_type": "code",
      "source": [
        "validacao_cruzada_mlp"
      ],
      "metadata": {
        "colab": {
          "base_uri": "https://localhost:8080/"
        },
        "id": "GJNGh7VLY_HX",
        "outputId": "bb34d646-82e9-41bd-dbab-0fe112d21c49"
      },
      "execution_count": 76,
      "outputs": [
        {
          "output_type": "execute_result",
          "data": {
            "text/plain": [
              "{'fit_time': array([7.62446404, 5.45691276, 3.51274514, 3.46806216, 4.64581037]),\n",
              " 'score_time': array([0.00380039, 0.00369048, 0.0043323 , 0.01508689, 0.0046742 ]),\n",
              " 'test_score': array([0.97358491, 0.97295597, 0.97295597, 0.9754717 , 0.97419761]),\n",
              " 'train_score': array([0.97405252, 0.9745243 , 0.97420978, 0.97342349, 0.97389937])}"
            ]
          },
          "metadata": {},
          "execution_count": 76
        }
      ]
    },
    {
      "cell_type": "code",
      "source": [
        "print(validacao_cruzada_mlp['train_score'].mean()* 100)\n",
        "print(validacao_cruzada_mlp['test_score'].mean()* 100)"
      ],
      "metadata": {
        "colab": {
          "base_uri": "https://localhost:8080/"
        },
        "id": "xLEHYXhKDDSu",
        "outputId": "cc694a01-5515-4f04-ea56-bb20cfb4f93c"
      },
      "execution_count": 87,
      "outputs": [
        {
          "output_type": "stream",
          "name": "stdout",
          "text": [
            "97.4021893399243\n",
            "97.38332324035923\n"
          ]
        }
      ]
    },
    {
      "cell_type": "code",
      "source": [
        "mlp.fit(x_treino, y_treino)"
      ],
      "metadata": {
        "colab": {
          "base_uri": "https://localhost:8080/"
        },
        "id": "dF6f1aAkZKQ4",
        "outputId": "8b1885ab-c675-4aaf-8a47-2e07214910e0"
      },
      "execution_count": 77,
      "outputs": [
        {
          "output_type": "stream",
          "name": "stderr",
          "text": [
            "/usr/local/lib/python3.7/dist-packages/sklearn/neural_network/_multilayer_perceptron.py:696: ConvergenceWarning: Stochastic Optimizer: Maximum iterations (200) reached and the optimization hasn't converged yet.\n",
            "  ConvergenceWarning,\n"
          ]
        },
        {
          "output_type": "execute_result",
          "data": {
            "text/plain": [
              "MLPClassifier(activation='tanh', hidden_layer_sizes=(17,),\n",
              "              learning_rate='invscaling', random_state=0)"
            ]
          },
          "metadata": {},
          "execution_count": 77
        }
      ]
    },
    {
      "cell_type": "code",
      "source": [
        "predicao_mlp = mlp.predict(x_teste)\n",
        "print(classification_report(y_teste, predicao_mlp, digits=3))\n",
        "\n",
        "acuracia_mlp = mlp.score(x_teste, y_teste) * 100\n",
        "precisao_mlp = precision_score(y_teste, predicao_mlp, average='weighted') * 100\n",
        "revocacao_mlp = recall_score(y_teste, predicao_mlp, average='weighted') * 100\n",
        "f1_mlp = f1_score(y_teste, predicao_mlp, average='weighted') * 100\n",
        "print(f'Acurácia: {acuracia_mlp:.3f}')\n",
        "print(f'Precisão Média: {precisao_mlp:.3f}')\n",
        "print(f'Revocação Média: {revocacao_mlp:.3f}')\n",
        "print(f'F1 Média: {f1_mlp:.3f}')"
      ],
      "metadata": {
        "colab": {
          "base_uri": "https://localhost:8080/"
        },
        "id": "yVlvVzh3ZNGA",
        "outputId": "fdfa1228-2440-4dab-d6d3-9e7f9a8fa782"
      },
      "execution_count": 78,
      "outputs": [
        {
          "output_type": "stream",
          "name": "stdout",
          "text": [
            "              precision    recall  f1-score   support\n",
            "\n",
            "           0      0.977     0.998     0.987       964\n",
            "           1      0.778     0.233     0.359        30\n",
            "\n",
            "    accuracy                          0.975       994\n",
            "   macro avg      0.877     0.616     0.673       994\n",
            "weighted avg      0.971     0.975     0.968       994\n",
            "\n",
            "Acurácia: 97.485\n",
            "Precisão Média: 97.065\n",
            "Revocação Média: 97.485\n",
            "F1 Média: 96.821\n"
          ]
        }
      ]
    },
    {
      "cell_type": "markdown",
      "metadata": {
        "id": "1qdPITzrPs7D"
      },
      "source": [
        "# Resultados"
      ]
    },
    {
      "cell_type": "markdown",
      "metadata": {
        "id": "8T12-lmvfhYH"
      },
      "source": [
        "## Acurácia"
      ]
    },
    {
      "cell_type": "code",
      "execution_count": 79,
      "metadata": {
        "colab": {
          "base_uri": "https://localhost:8080/",
          "height": 485
        },
        "id": "yIkqv_ihfoei",
        "outputId": "e5879f72-a329-409c-b2ed-95099d7d7297"
      },
      "outputs": [
        {
          "output_type": "display_data",
          "data": {
            "text/plain": [
              "<Figure size 640x480 with 1 Axes>"
            ],
            "image/png": "[encoded data removed]"
          },
          "metadata": {}
        }
      ],
      "source": [
        "modelos = ['SVM', 'Árvore\\nde Decisão', 'Naive\\nBayes', 'XGBoost', 'ANN']\n",
        "figure_acuracia, ax_acuracia = plt.subplots()\n",
        "plt.title('Acurácia dos modelos')\n",
        "ax_acuracia.bar(2.8, acuracia_svm, label='SVM')\n",
        "plt.text(2.6, acuracia_svm + 0.8, round(acuracia_svm, 2))\n",
        "ax_acuracia.bar(3.9, acuracia_arvore_decisao, label='Árvore de Decisão')\n",
        "plt.text(3.7, acuracia_arvore_decisao + 0.8, round(acuracia_arvore_decisao, 2))\n",
        "ax_acuracia.bar(5, acuracia_naive_bayes, label='Naive Bayes')\n",
        "plt.text(4.8, acuracia_naive_bayes + 0.8, round(acuracia_naive_bayes, 2))\n",
        "ax_acuracia.bar(6.1, acuracia_xgb, label='XGBoost')\n",
        "plt.text(5.9, acuracia_xgb + 0.8, round(acuracia_xgb, 2))\n",
        "ax_acuracia.bar(7.2, acuracia_mlp, label='ANN')\n",
        "plt.text(7, acuracia_mlp + 0.8, round(acuracia_mlp, 2))\n",
        "plt.xticks([2.8, 3.9, 5, 6.1, 7.2], modelos)\n",
        "plt.xlabel('Modelos')\n",
        "ax_acuracia.set_ylabel('Acurácia')\n",
        "ax_acuracia.set_ylim([0, 105])\n",
        "#plt.legend(bbox_to_anchor = (0.72, -0.15))\n",
        "#plt.legend(loc='lower right')\n",
        "\n",
        "plt.savefig('/content/results/Resultados-Acurácia.png')\n",
        "\n",
        "plt.show();"
      ]
    },
    {
      "cell_type": "markdown",
      "metadata": {
        "id": "qjStbNryhyc3"
      },
      "source": [
        "## Precisão"
      ]
    },
    {
      "cell_type": "code",
      "execution_count": 80,
      "metadata": {
        "colab": {
          "base_uri": "https://localhost:8080/",
          "height": 485
        },
        "id": "pYfk-xuQh32G",
        "outputId": "e790408d-3428-4cbd-92b1-a09dbdb577f1"
      },
      "outputs": [
        {
          "output_type": "display_data",
          "data": {
            "text/plain": [
              "<Figure size 640x480 with 1 Axes>"
            ],
            "image/png": "[encoded data removed]"
          },
          "metadata": {}
        }
      ],
      "source": [
        "figure_precisao, ax_precisao = plt.subplots()\n",
        "plt.title('Precisões dos modelos')\n",
        "ax_precisao.bar(2.8, precisao_svm, label='SVM')\n",
        "plt.text(2.6, precisao_svm + 0.8, round(precisao_svm, 2))\n",
        "ax_precisao.bar(3.9, precisao_arvore_decisao, label='Árvore de Decisão')\n",
        "plt.text(3.7, precisao_arvore_decisao + 0.8, round(precisao_arvore_decisao, 2))\n",
        "ax_precisao.bar(5, precisao_naive_bayes, label='Naive Bayes')\n",
        "plt.text(4.8, precisao_naive_bayes + 0.8, round(precisao_naive_bayes, 2))\n",
        "ax_precisao.bar(6.1, precisao_xgb, label='XGBoost')\n",
        "plt.text(5.9, precisao_xgb + 0.8, round(precisao_xgb, 2))\n",
        "ax_precisao.bar(7.2, precisao_mlp, label='ANN')\n",
        "plt.text(7, precisao_mlp + 0.8, round(precisao_mlp, 2))\n",
        "plt.xticks([2.8, 3.9, 5, 6.1, 7.2], modelos)\n",
        "ax_precisao.set_xlabel('Modelos')\n",
        "ax_precisao.set_ylabel('Precisão Média')\n",
        "ax_precisao.set_ylim([0, 105])\n",
        "#plt.legend(loc='lower right')\n",
        "\n",
        "plt.savefig('/content/results/Resultados-Precisão.png')\n",
        "\n",
        "plt.show()"
      ]
    },
    {
      "cell_type": "markdown",
      "metadata": {
        "id": "EKUVoK6kHbIV"
      },
      "source": [
        "## Revocação"
      ]
    },
    {
      "cell_type": "code",
      "execution_count": 81,
      "metadata": {
        "colab": {
          "base_uri": "https://localhost:8080/",
          "height": 485
        },
        "id": "Vv8bqvY_HVVH",
        "outputId": "9cd5f08a-e117-4594-dcc5-397285448b03"
      },
      "outputs": [
        {
          "output_type": "display_data",
          "data": {
            "text/plain": [
              "<Figure size 640x480 with 1 Axes>"
            ],
            "image/png": "[encoded data removed]"
          },
          "metadata": {}
        }
      ],
      "source": [
        "figure_revocacao, ax_revocacao = plt.subplots()\n",
        "plt.title('Revocação dos modelos')\n",
        "ax_revocacao.bar(2.8, revocacao_svm, label='SVM')\n",
        "plt.text(2.6, revocacao_svm + 0.8, round(revocacao_svm, 2))\n",
        "ax_revocacao.bar(3.9, revocacao_arvore_decisao, label='Árvore de Decisão')\n",
        "plt.text(3.7, revocacao_arvore_decisao + 0.8, round(revocacao_arvore_decisao, 2))\n",
        "ax_revocacao.bar(5, revocacao_naive_bayes, label='Naive Bayes')\n",
        "plt.text(4.8, revocacao_naive_bayes + 0.8, round(revocacao_naive_bayes, 2))\n",
        "ax_revocacao.bar(6.1, revocacao_xgb, label='XGBoost')\n",
        "plt.text(5.9, revocacao_xgb + 0.8, round(revocacao_xgb, 2))\n",
        "ax_revocacao.bar(7.2, revocacao_mlp, label='ANN')\n",
        "plt.text(7, revocacao_mlp + 0.8, round(revocacao_mlp, 2))\n",
        "plt.xticks([2.8, 3.9, 5, 6.1, 7.2], modelos)\n",
        "ax_revocacao.set_xlabel('Modelos')\n",
        "ax_revocacao.set_ylabel('Revocação Média')\n",
        "ax_revocacao.set_ylim([0, 105])\n",
        "#plt.legend(loc='lower right')\n",
        "\n",
        "plt.savefig('/content/results/Resultados-Revocação.png')\n",
        "\n",
        "plt.show()"
      ]
    },
    {
      "cell_type": "markdown",
      "source": [
        "### F1"
      ],
      "metadata": {
        "id": "RODxQUfUxlTl"
      }
    },
    {
      "cell_type": "code",
      "source": [
        "figure_f1, ax_f1 = plt.subplots()\n",
        "plt.title('Revocação dos modelos')\n",
        "ax_f1.bar(2.8, f1_svm, label='SVM')\n",
        "plt.text(2.6, f1_svm + 0.8, round(f1_svm, 2))\n",
        "ax_f1.bar(3.9, f1_arvore_decisao, label='Árvore de Decisão')\n",
        "plt.text(3.7, f1_arvore_decisao + 0.8, round(f1_arvore_decisao, 2))\n",
        "ax_f1.bar(5, f1_naive_bayes, label='Naive Bayes')\n",
        "plt.text(4.8, f1_naive_bayes + 0.8, round(f1_naive_bayes, 2))\n",
        "ax_f1.bar(6.1, f1_xgb, label='XGBoost')\n",
        "plt.text(5.9, f1_xgb + 0.8, round(f1_xgb, 2))\n",
        "ax_f1.bar(7.2, f1_mlp, label='ANN')\n",
        "plt.text(7, f1_mlp + 0.8, round(f1_mlp, 2))\n",
        "plt.xticks([2.8, 3.9, 5, 6.1, 7.2], modelos)\n",
        "ax_f1.set_xlabel('Modelos')\n",
        "ax_f1.set_ylabel('Revocação Média')\n",
        "ax_f1.set_ylim([0, 105])\n",
        "#plt.legend(loc='lower right')\n",
        "\n",
        "plt.savefig('/content/results/Resultados-F1.png')\n",
        "\n",
        "plt.show()"
      ],
      "metadata": {
        "colab": {
          "base_uri": "https://localhost:8080/",
          "height": 485
        },
        "id": "UW_VwLe1xmrw",
        "outputId": "730092ad-7da1-40f7-f7b1-1aef2413a902"
      },
      "execution_count": 82,
      "outputs": [
        {
          "output_type": "display_data",
          "data": {
            "text/plain": [
              "<Figure size 640x480 with 1 Axes>"
            ],
            "image/png": "[encoded data removed]"
          },
          "metadata": {}
        }
      ]
    },
    {
      "cell_type": "markdown",
      "source": [
        "## Tempo de Treinamento"
      ],
      "metadata": {
        "id": "kS6IzL46nRwq"
      }
    },
    {
      "cell_type": "code",
      "source": [
        "figure_tempo, ax_tempo = plt.subplots()\n",
        "plt.title('Tempo de treinamento dos modelos')\n",
        "ax_tempo.bar(2.8, validacao_cruzada_svm['fit_time'].mean(), label='SVM')\n",
        "plt.text(2.6, validacao_cruzada_svm['fit_time'].mean() + 0.05, round(validacao_cruzada_svm['fit_time'].mean(), 4))\n",
        "ax_tempo.bar(3.9, validacao_cruzada_arvore_decisao['fit_time'].mean(), label='Árvore de Decisão')\n",
        "plt.text(3.7, validacao_cruzada_arvore_decisao['fit_time'].mean() + 0.05, round(validacao_cruzada_arvore_decisao['fit_time'].mean(), 3))\n",
        "ax_tempo.bar(5, validacao_cruzada_naive_bayes['fit_time'].mean(), label='Naive Bayes')\n",
        "plt.text(4.8, validacao_cruzada_naive_bayes['fit_time'].mean() + 0.05, round(validacao_cruzada_naive_bayes['fit_time'].mean(), 3))\n",
        "ax_tempo.bar(6.1, validacao_cruzada['fit_time'].mean(), label='XGBoost')\n",
        "plt.text(5.9, validacao_cruzada['fit_time'].mean() + 0.05, round(validacao_cruzada['fit_time'].mean(), 3))\n",
        "ax_tempo.bar(7.2, validacao_cruzada_mlp['fit_time'].mean(), label='ANN')\n",
        "plt.text(7, validacao_cruzada_mlp['fit_time'].mean() + 0.05, round(validacao_cruzada_mlp['fit_time'].mean(), 3))\n",
        "plt.xticks([2.8, 3.9, 5, 6.1, 7.2], modelos)\n",
        "ax_tempo.set_xlabel('Modelos')\n",
        "ax_tempo.set_ylabel('Tempo (segundos)')\n",
        "ax_tempo.set_ylim([0, 5.5])\n",
        "#plt.legend(loc='upper left')\n",
        "\n",
        "plt.savefig('/content/results/Resultados-TempoDeTreinamento.png')\n",
        "\n",
        "plt.show()"
      ],
      "metadata": {
        "colab": {
          "base_uri": "https://localhost:8080/",
          "height": 485
        },
        "id": "zo6lTSvYnQ_p",
        "outputId": "bd87ab24-2516-4ae3-df2e-6168a99e3728"
      },
      "execution_count": 84,
      "outputs": [
        {
          "output_type": "display_data",
          "data": {
            "text/plain": [
              "<Figure size 640x480 with 1 Axes>"
            ],
            "image/png": "[encoded data removed]"
          },
          "metadata": {}
        }
      ]
    }
  ],
  "metadata": {
    "colab": {
      "collapsed_sections": [
        "wbdQ_6mM32-g",
        "IeHn0uUp36sY",
        "xiecFpJr4B3J"
      ],
      "provenance": [],
      "mount_file_id": "10zhOHPiM3arFgJhSUa9ed_AbnyiiVwrh",
      "authorship_tag": "ABX9TyMWFKFpHrZ9k2b0Q8ju3k4G"
    },
    "kernelspec": {
      "display_name": "Python 3",
      "name": "python3"
    },
    "language_info": {
      "name": "python"
    }
  },
  "nbformat": 4,
  "nbformat_minor": 0
}