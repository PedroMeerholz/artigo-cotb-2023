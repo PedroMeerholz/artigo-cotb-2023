{
  "cells": [
    {
      "cell_type": "markdown",
      "metadata": {
        "id": "wbdQ_6mM32-g"
      },
      "source": [
        "# Importação das bibliotecas"
      ]
    },
    {
      "cell_type": "code",
      "execution_count": null,
      "metadata": {
        "id": "DdvudjHd3q_d"
      },
      "outputs": [],
      "source": [
        "import matplotlib.pyplot as plt\n",
        "import numpy as np\n",
        "import pandas as pd\n",
        "import seaborn as sns\n",
        "from sklearn.metrics import accuracy_score\n",
        "from sklearn.metrics import f1_score\n",
        "from sklearn.metrics import precision_score\n",
        "from sklearn.metrics import recall_score\n",
        "from sklearn.metrics import classification_report\n",
        "from sklearn.model_selection import cross_validate\n",
        "from sklearn.model_selection import cross_val_score\n",
        "from sklearn.model_selection import GridSearchCV\n",
        "from sklearn.model_selection import RandomizedSearchCV\n",
        "from sklearn.model_selection import train_test_split\n",
        "from sklearn.naive_bayes import GaussianNB\n",
        "from sklearn.preprocessing import MinMaxScaler\n",
        "from sklearn.svm import SVC\n",
        "from sklearn.tree import DecisionTreeClassifier\n",
        "from xgboost import XGBClassifier"
      ]
    },
    {
      "cell_type": "markdown",
      "metadata": {
        "id": "IeHn0uUp36sY"
      },
      "source": [
        "# Importação do dataset"
      ]
    },
    {
      "cell_type": "code",
      "execution_count": null,
      "metadata": {
        "colab": {
          "base_uri": "https://localhost:8080/"
        },
        "id": "y1GsxoH438a7",
        "outputId": "745c4983-ee21-47ce-faab-5f1e92b95c64"
      },
      "outputs": [
        {
          "output_type": "execute_result",
          "data": {
            "text/plain": [
              "   UDI Product ID Type  Air temperature [K]  Process temperature [K]  \\\n",
              "0    1     M14860    M                298.1                    308.6   \n",
              "1    2     L47181    L                298.2                    308.7   \n",
              "2    3     L47182    L                298.1                    308.5   \n",
              "3    4     L47183    L                298.2                    308.6   \n",
              "4    5     L47184    L                298.2                    308.7   \n",
              "\n",
              "   Rotational speed [rpm]  Torque [Nm]  Tool wear [min]  Target Failure Type  \n",
              "0                    1551         42.8                0       0   No Failure  \n",
              "1                    1408         46.3                3       0   No Failure  \n",
              "2                    1498         49.4                5       0   No Failure  \n",
              "3                    1433         39.5                7       0   No Failure  \n",
              "4                    1408         40.0                9       0   No Failure  "
            ],
            "text/html": [
              "\n",
              "  <div id=\"df-7b80e187-482e-4687-80c1-e65b85071bd5\">\n",
              "    <div class=\"colab-df-container\">\n",
              "      <div>\n",
              "<style scoped>\n",
              "    .dataframe tbody tr th:only-of-type {\n",
              "        vertical-align: middle;\n",
              "    }\n",
              "\n",
              "    .dataframe tbody tr th {\n",
              "        vertical-align: top;\n",
              "    }\n",
              "\n",
              "    .dataframe thead th {\n",
              "        text-align: right;\n",
              "    }\n",
              "</style>\n",
              "<table border=\"1\" class=\"dataframe\">\n",
              "  <thead>\n",
              "    <tr style=\"text-align: right;\">\n",
              "      <th></th>\n",
              "      <th>UDI</th>\n",
              "      <th>Product ID</th>\n",
              "      <th>Type</th>\n",
              "      <th>Air temperature [K]</th>\n",
              "      <th>Process temperature [K]</th>\n",
              "      <th>Rotational speed [rpm]</th>\n",
              "      <th>Torque [Nm]</th>\n",
              "      <th>Tool wear [min]</th>\n",
              "      <th>Target</th>\n",
              "      <th>Failure Type</th>\n",
              "    </tr>\n",
              "  </thead>\n",
              "  <tbody>\n",
              "    <tr>\n",
              "      <th>0</th>\n",
              "      <td>1</td>\n",
              "      <td>M14860</td>\n",
              "      <td>M</td>\n",
              "      <td>298.1</td>\n",
              "      <td>308.6</td>\n",
              "      <td>1551</td>\n",
              "      <td>42.8</td>\n",
              "      <td>0</td>\n",
              "      <td>0</td>\n",
              "      <td>No Failure</td>\n",
              "    </tr>\n",
              "    <tr>\n",
              "      <th>1</th>\n",
              "      <td>2</td>\n",
              "      <td>L47181</td>\n",
              "      <td>L</td>\n",
              "      <td>298.2</td>\n",
              "      <td>308.7</td>\n",
              "      <td>1408</td>\n",
              "      <td>46.3</td>\n",
              "      <td>3</td>\n",
              "      <td>0</td>\n",
              "      <td>No Failure</td>\n",
              "    </tr>\n",
              "    <tr>\n",
              "      <th>2</th>\n",
              "      <td>3</td>\n",
              "      <td>L47182</td>\n",
              "      <td>L</td>\n",
              "      <td>298.1</td>\n",
              "      <td>308.5</td>\n",
              "      <td>1498</td>\n",
              "      <td>49.4</td>\n",
              "      <td>5</td>\n",
              "      <td>0</td>\n",
              "      <td>No Failure</td>\n",
              "    </tr>\n",
              "    <tr>\n",
              "      <th>3</th>\n",
              "      <td>4</td>\n",
              "      <td>L47183</td>\n",
              "      <td>L</td>\n",
              "      <td>298.2</td>\n",
              "      <td>308.6</td>\n",
              "      <td>1433</td>\n",
              "      <td>39.5</td>\n",
              "      <td>7</td>\n",
              "      <td>0</td>\n",
              "      <td>No Failure</td>\n",
              "    </tr>\n",
              "    <tr>\n",
              "      <th>4</th>\n",
              "      <td>5</td>\n",
              "      <td>L47184</td>\n",
              "      <td>L</td>\n",
              "      <td>298.2</td>\n",
              "      <td>308.7</td>\n",
              "      <td>1408</td>\n",
              "      <td>40.0</td>\n",
              "      <td>9</td>\n",
              "      <td>0</td>\n",
              "      <td>No Failure</td>\n",
              "    </tr>\n",
              "  </tbody>\n",
              "</table>\n",
              "</div>\n",
              "      <button class=\"colab-df-convert\" onclick=\"convertToInteractive('df-7b80e187-482e-4687-80c1-e65b85071bd5')\"\n",
              "              title=\"Convert this dataframe to an interactive table.\"\n",
              "              style=\"display:none;\">\n",
              "        \n",
              "  <svg xmlns=\"http://www.w3.org/2000/svg\" height=\"24px\"viewBox=\"0 0 24 24\"\n",
              "       width=\"24px\">\n",
              "    <path d=\"M0 0h24v24H0V0z\" fill=\"none\"/>\n",
              "    <path d=\"M18.56 5.44l.94 2.06.94-2.06 2.06-.94-2.06-.94-.94-2.06-.94 2.06-2.06.94zm-11 1L8.5 8.5l.94-2.06 2.06-.94-2.06-.94L8.5 2.5l-.94 2.06-2.06.94zm10 10l.94 2.06.94-2.06 2.06-.94-2.06-.94-.94-2.06-.94 2.06-2.06.94z\"/><path d=\"M17.41 7.96l-1.37-1.37c-.4-.4-.92-.59-1.43-.59-.52 0-1.04.2-1.43.59L10.3 9.45l-7.72 7.72c-.78.78-.78 2.05 0 2.83L4 21.41c.39.39.9.59 1.41.59.51 0 1.02-.2 1.41-.59l7.78-7.78 2.81-2.81c.8-.78.8-2.07 0-2.86zM5.41 20L4 18.59l7.72-7.72 1.47 1.35L5.41 20z\"/>\n",
              "  </svg>\n",
              "      </button>\n",
              "      \n",
              "  <style>\n",
              "    .colab-df-container {\n",
              "      display:flex;\n",
              "      flex-wrap:wrap;\n",
              "      gap: 12px;\n",
              "    }\n",
              "\n",
              "    .colab-df-convert {\n",
              "      background-color: #E8F0FE;\n",
              "      border: none;\n",
              "      border-radius: 50%;\n",
              "      cursor: pointer;\n",
              "      display: none;\n",
              "      fill: #1967D2;\n",
              "      height: 32px;\n",
              "      padding: 0 0 0 0;\n",
              "      width: 32px;\n",
              "    }\n",
              "\n",
              "    .colab-df-convert:hover {\n",
              "      background-color: #E2EBFA;\n",
              "      box-shadow: 0px 1px 2px rgba(60, 64, 67, 0.3), 0px 1px 3px 1px rgba(60, 64, 67, 0.15);\n",
              "      fill: #174EA6;\n",
              "    }\n",
              "\n",
              "    [theme=dark] .colab-df-convert {\n",
              "      background-color: #3B4455;\n",
              "      fill: #D2E3FC;\n",
              "    }\n",
              "\n",
              "    [theme=dark] .colab-df-convert:hover {\n",
              "      background-color: #434B5C;\n",
              "      box-shadow: 0px 1px 3px 1px rgba(0, 0, 0, 0.15);\n",
              "      filter: drop-shadow(0px 1px 2px rgba(0, 0, 0, 0.3));\n",
              "      fill: #FFFFFF;\n",
              "    }\n",
              "  </style>\n",
              "\n",
              "      <script>\n",
              "        const buttonEl =\n",
              "          document.querySelector('#df-7b80e187-482e-4687-80c1-e65b85071bd5 button.colab-df-convert');\n",
              "        buttonEl.style.display =\n",
              "          google.colab.kernel.accessAllowed ? 'block' : 'none';\n",
              "\n",
              "        async function convertToInteractive(key) {\n",
              "          const element = document.querySelector('#df-7b80e187-482e-4687-80c1-e65b85071bd5');\n",
              "          const dataTable =\n",
              "            await google.colab.kernel.invokeFunction('convertToInteractive',\n",
              "                                                     [key], {});\n",
              "          if (!dataTable) return;\n",
              "\n",
              "          const docLinkHtml = 'Like what you see? Visit the ' +\n",
              "            '<a target=\"_blank\" href=https://colab.research.google.com/notebooks/data_table.ipynb>data table notebook</a>'\n",
              "            + ' to learn more about interactive tables.';\n",
              "          element.innerHTML = '';\n",
              "          dataTable['output_type'] = 'display_data';\n",
              "          await google.colab.output.renderOutput(dataTable, element);\n",
              "          const docLink = document.createElement('div');\n",
              "          docLink.innerHTML = docLinkHtml;\n",
              "          element.appendChild(docLink);\n",
              "        }\n",
              "      </script>\n",
              "    </div>\n",
              "  </div>\n",
              "  "
            ]
          },
          "metadata": {},
          "execution_count": 72
        }
      ],
      "source": [
        "tabela = pd.read_csv('/content/drive/MyDrive/Projeto de Pesquisa/Artigo/dataset/predictive_maintenance.csv')\n",
        "tabela.head()"
      ]
    },
    {
      "cell_type": "code",
      "execution_count": null,
      "metadata": {
        "colab": {
          "base_uri": "https://localhost:8080/"
        },
        "id": "V8guDe5UHotr",
        "outputId": "06846766-8039-4310-d0d4-cb03ea8326f1"
      },
      "outputs": [
        {
          "output_type": "stream",
          "name": "stdout",
          "text": [
            "<class 'pandas.core.frame.DataFrame'>\n",
            "RangeIndex: 10000 entries, 0 to 9999\n",
            "Data columns (total 10 columns):\n",
            " #   Column                   Non-Null Count  Dtype  \n",
            "---  ------                   --------------  -----  \n",
            " 0   UDI                      10000 non-null  int64  \n",
            " 1   Product ID               10000 non-null  object \n",
            " 2   Type                     10000 non-null  object \n",
            " 3   Air temperature [K]      10000 non-null  float64\n",
            " 4   Process temperature [K]  10000 non-null  float64\n",
            " 5   Rotational speed [rpm]   10000 non-null  int64  \n",
            " 6   Torque [Nm]              10000 non-null  float64\n",
            " 7   Tool wear [min]          10000 non-null  int64  \n",
            " 8   Target                   10000 non-null  int64  \n",
            " 9   Failure Type             10000 non-null  object \n",
            "dtypes: float64(3), int64(4), object(3)\n",
            "memory usage: 781.4+ KB\n"
          ]
        }
      ],
      "source": [
        "tabela.info()"
      ]
    },
    {
      "cell_type": "code",
      "execution_count": null,
      "metadata": {
        "colab": {
          "base_uri": "https://localhost:8080/"
        },
        "id": "QEqc3SDZM1sC",
        "outputId": "4b5863b2-97f6-43cf-865d-e09e991fcd6c"
      },
      "outputs": [
        {
          "output_type": "execute_result",
          "data": {
            "text/plain": [
              "No Failure                  9652\n",
              "Heat Dissipation Failure     112\n",
              "Power Failure                 95\n",
              "Overstrain Failure            78\n",
              "Tool Wear Failure             45\n",
              "Random Failures               18\n",
              "Name: Failure Type, dtype: int64"
            ]
          },
          "metadata": {},
          "execution_count": 74
        }
      ],
      "source": [
        "tabela['Failure Type'].value_counts()"
      ]
    },
    {
      "cell_type": "markdown",
      "metadata": {
        "id": "cataWlpy388N"
      },
      "source": [
        "# Proposta"
      ]
    },
    {
      "cell_type": "markdown",
      "metadata": {
        "id": "xiecFpJr4B3J"
      },
      "source": [
        "## Pré-processamento"
      ]
    },
    {
      "cell_type": "code",
      "execution_count": null,
      "metadata": {
        "colab": {
          "base_uri": "https://localhost:8080/"
        },
        "id": "MqaOQa0jAI7P",
        "outputId": "b1ea0d92-79c6-4bf7-e99c-e747635cfa06"
      },
      "outputs": [
        {
          "output_type": "execute_result",
          "data": {
            "text/plain": [
              "No Failure                  9652\n",
              "Heat Dissipation Failure     112\n",
              "Power Failure                 95\n",
              "Overstrain Failure            78\n",
              "Tool Wear Failure             45\n",
              "Random Failures               18\n",
              "Name: Failure Type, dtype: int64"
            ]
          },
          "metadata": {},
          "execution_count": 75
        }
      ],
      "source": [
        "tabela['Failure Type'].value_counts()"
      ]
    },
    {
      "cell_type": "code",
      "execution_count": null,
      "metadata": {
        "colab": {
          "base_uri": "https://localhost:8080/"
        },
        "id": "Y5mt0_Wh7vDB",
        "outputId": "4dd925cb-913d-4a46-b46f-a1046e01729d"
      },
      "outputs": [
        {
          "output_type": "execute_result",
          "data": {
            "text/plain": [
              "No Failure                  9652\n",
              "Heat Dissipation Failure     112\n",
              "Power Failure                 95\n",
              "Overstrain Failure            78\n",
              "Name: Failure Type, dtype: int64"
            ]
          },
          "metadata": {},
          "execution_count": 76
        }
      ],
      "source": [
        "falhas_aleatorias = tabela[tabela['Failure Type'] == 'Random Failures'].index\n",
        "falha_de_desgaste_de_ferramenta = tabela[tabela['Failure Type'] == 'Tool Wear Failure'].index\n",
        "\n",
        "tabela = tabela.drop(falhas_aleatorias, axis=0)\n",
        "tabela = tabela.drop(falha_de_desgaste_de_ferramenta, axis=0)\n",
        "\n",
        "tabela['Failure Type'].value_counts()"
      ]
    },
    {
      "cell_type": "code",
      "execution_count": null,
      "metadata": {
        "colab": {
          "base_uri": "https://localhost:8080/"
        },
        "id": "-XhbCvQ94BMS",
        "outputId": "caec571d-12c0-4c3f-a8e5-975f2d0f4225"
      },
      "outputs": [
        {
          "output_type": "execute_result",
          "data": {
            "text/plain": [
              "  Type  Air temperature [K]  Process temperature [K]  Rotational speed [rpm]  \\\n",
              "0    M                298.1                    308.6                    1551   \n",
              "1    L                298.2                    308.7                    1408   \n",
              "2    L                298.1                    308.5                    1498   \n",
              "3    L                298.2                    308.6                    1433   \n",
              "4    L                298.2                    308.7                    1408   \n",
              "\n",
              "   Torque [Nm]  Tool wear [min]  Target  \n",
              "0         42.8                0       0  \n",
              "1         46.3                3       0  \n",
              "2         49.4                5       0  \n",
              "3         39.5                7       0  \n",
              "4         40.0                9       0  "
            ],
            "text/html": [
              "\n",
              "  <div id=\"df-e578a1d3-f992-41e8-8792-8bf1be3e8bbf\">\n",
              "    <div class=\"colab-df-container\">\n",
              "      <div>\n",
              "<style scoped>\n",
              "    .dataframe tbody tr th:only-of-type {\n",
              "        vertical-align: middle;\n",
              "    }\n",
              "\n",
              "    .dataframe tbody tr th {\n",
              "        vertical-align: top;\n",
              "    }\n",
              "\n",
              "    .dataframe thead th {\n",
              "        text-align: right;\n",
              "    }\n",
              "</style>\n",
              "<table border=\"1\" class=\"dataframe\">\n",
              "  <thead>\n",
              "    <tr style=\"text-align: right;\">\n",
              "      <th></th>\n",
              "      <th>Type</th>\n",
              "      <th>Air temperature [K]</th>\n",
              "      <th>Process temperature [K]</th>\n",
              "      <th>Rotational speed [rpm]</th>\n",
              "      <th>Torque [Nm]</th>\n",
              "      <th>Tool wear [min]</th>\n",
              "      <th>Target</th>\n",
              "    </tr>\n",
              "  </thead>\n",
              "  <tbody>\n",
              "    <tr>\n",
              "      <th>0</th>\n",
              "      <td>M</td>\n",
              "      <td>298.1</td>\n",
              "      <td>308.6</td>\n",
              "      <td>1551</td>\n",
              "      <td>42.8</td>\n",
              "      <td>0</td>\n",
              "      <td>0</td>\n",
              "    </tr>\n",
              "    <tr>\n",
              "      <th>1</th>\n",
              "      <td>L</td>\n",
              "      <td>298.2</td>\n",
              "      <td>308.7</td>\n",
              "      <td>1408</td>\n",
              "      <td>46.3</td>\n",
              "      <td>3</td>\n",
              "      <td>0</td>\n",
              "    </tr>\n",
              "    <tr>\n",
              "      <th>2</th>\n",
              "      <td>L</td>\n",
              "      <td>298.1</td>\n",
              "      <td>308.5</td>\n",
              "      <td>1498</td>\n",
              "      <td>49.4</td>\n",
              "      <td>5</td>\n",
              "      <td>0</td>\n",
              "    </tr>\n",
              "    <tr>\n",
              "      <th>3</th>\n",
              "      <td>L</td>\n",
              "      <td>298.2</td>\n",
              "      <td>308.6</td>\n",
              "      <td>1433</td>\n",
              "      <td>39.5</td>\n",
              "      <td>7</td>\n",
              "      <td>0</td>\n",
              "    </tr>\n",
              "    <tr>\n",
              "      <th>4</th>\n",
              "      <td>L</td>\n",
              "      <td>298.2</td>\n",
              "      <td>308.7</td>\n",
              "      <td>1408</td>\n",
              "      <td>40.0</td>\n",
              "      <td>9</td>\n",
              "      <td>0</td>\n",
              "    </tr>\n",
              "  </tbody>\n",
              "</table>\n",
              "</div>\n",
              "      <button class=\"colab-df-convert\" onclick=\"convertToInteractive('df-e578a1d3-f992-41e8-8792-8bf1be3e8bbf')\"\n",
              "              title=\"Convert this dataframe to an interactive table.\"\n",
              "              style=\"display:none;\">\n",
              "        \n",
              "  <svg xmlns=\"http://www.w3.org/2000/svg\" height=\"24px\"viewBox=\"0 0 24 24\"\n",
              "       width=\"24px\">\n",
              "    <path d=\"M0 0h24v24H0V0z\" fill=\"none\"/>\n",
              "    <path d=\"M18.56 5.44l.94 2.06.94-2.06 2.06-.94-2.06-.94-.94-2.06-.94 2.06-2.06.94zm-11 1L8.5 8.5l.94-2.06 2.06-.94-2.06-.94L8.5 2.5l-.94 2.06-2.06.94zm10 10l.94 2.06.94-2.06 2.06-.94-2.06-.94-.94-2.06-.94 2.06-2.06.94z\"/><path d=\"M17.41 7.96l-1.37-1.37c-.4-.4-.92-.59-1.43-.59-.52 0-1.04.2-1.43.59L10.3 9.45l-7.72 7.72c-.78.78-.78 2.05 0 2.83L4 21.41c.39.39.9.59 1.41.59.51 0 1.02-.2 1.41-.59l7.78-7.78 2.81-2.81c.8-.78.8-2.07 0-2.86zM5.41 20L4 18.59l7.72-7.72 1.47 1.35L5.41 20z\"/>\n",
              "  </svg>\n",
              "      </button>\n",
              "      \n",
              "  <style>\n",
              "    .colab-df-container {\n",
              "      display:flex;\n",
              "      flex-wrap:wrap;\n",
              "      gap: 12px;\n",
              "    }\n",
              "\n",
              "    .colab-df-convert {\n",
              "      background-color: #E8F0FE;\n",
              "      border: none;\n",
              "      border-radius: 50%;\n",
              "      cursor: pointer;\n",
              "      display: none;\n",
              "      fill: #1967D2;\n",
              "      height: 32px;\n",
              "      padding: 0 0 0 0;\n",
              "      width: 32px;\n",
              "    }\n",
              "\n",
              "    .colab-df-convert:hover {\n",
              "      background-color: #E2EBFA;\n",
              "      box-shadow: 0px 1px 2px rgba(60, 64, 67, 0.3), 0px 1px 3px 1px rgba(60, 64, 67, 0.15);\n",
              "      fill: #174EA6;\n",
              "    }\n",
              "\n",
              "    [theme=dark] .colab-df-convert {\n",
              "      background-color: #3B4455;\n",
              "      fill: #D2E3FC;\n",
              "    }\n",
              "\n",
              "    [theme=dark] .colab-df-convert:hover {\n",
              "      background-color: #434B5C;\n",
              "      box-shadow: 0px 1px 3px 1px rgba(0, 0, 0, 0.15);\n",
              "      filter: drop-shadow(0px 1px 2px rgba(0, 0, 0, 0.3));\n",
              "      fill: #FFFFFF;\n",
              "    }\n",
              "  </style>\n",
              "\n",
              "      <script>\n",
              "        const buttonEl =\n",
              "          document.querySelector('#df-e578a1d3-f992-41e8-8792-8bf1be3e8bbf button.colab-df-convert');\n",
              "        buttonEl.style.display =\n",
              "          google.colab.kernel.accessAllowed ? 'block' : 'none';\n",
              "\n",
              "        async function convertToInteractive(key) {\n",
              "          const element = document.querySelector('#df-e578a1d3-f992-41e8-8792-8bf1be3e8bbf');\n",
              "          const dataTable =\n",
              "            await google.colab.kernel.invokeFunction('convertToInteractive',\n",
              "                                                     [key], {});\n",
              "          if (!dataTable) return;\n",
              "\n",
              "          const docLinkHtml = 'Like what you see? Visit the ' +\n",
              "            '<a target=\"_blank\" href=https://colab.research.google.com/notebooks/data_table.ipynb>data table notebook</a>'\n",
              "            + ' to learn more about interactive tables.';\n",
              "          element.innerHTML = '';\n",
              "          dataTable['output_type'] = 'display_data';\n",
              "          await google.colab.output.renderOutput(dataTable, element);\n",
              "          const docLink = document.createElement('div');\n",
              "          docLink.innerHTML = docLinkHtml;\n",
              "          element.appendChild(docLink);\n",
              "        }\n",
              "      </script>\n",
              "    </div>\n",
              "  </div>\n",
              "  "
            ]
          },
          "metadata": {},
          "execution_count": 77
        }
      ],
      "source": [
        "# Remoção de colunas desnecessárias\n",
        "colunas = ['UDI', 'Product ID', 'Failure Type']\n",
        "tabela = tabela.drop(colunas, axis=1)\n",
        "tabela.head()"
      ]
    },
    {
      "cell_type": "code",
      "execution_count": null,
      "metadata": {
        "colab": {
          "base_uri": "https://localhost:8080/"
        },
        "id": "J9bzLMp1ZHYf",
        "outputId": "77361e02-fa7f-4024-cf18-a5236f1650a7"
      },
      "outputs": [
        {
          "output_type": "execute_result",
          "data": {
            "text/plain": [
              "   H  L  M  Air Temperature  Process Temperature  Rotational Speed  Torque  \\\n",
              "0  0  0  1            298.1                308.6              1551    42.8   \n",
              "1  0  1  0            298.2                308.7              1408    46.3   \n",
              "2  0  1  0            298.1                308.5              1498    49.4   \n",
              "3  0  1  0            298.2                308.6              1433    39.5   \n",
              "4  0  1  0            298.2                308.7              1408    40.0   \n",
              "\n",
              "   Tool Wear  Target  \n",
              "0          0       0  \n",
              "1          3       0  \n",
              "2          5       0  \n",
              "3          7       0  \n",
              "4          9       0  "
            ],
            "text/html": [
              "\n",
              "  <div id=\"df-b85a97f4-cf4d-456e-ace8-c13ab8903db1\">\n",
              "    <div class=\"colab-df-container\">\n",
              "      <div>\n",
              "<style scoped>\n",
              "    .dataframe tbody tr th:only-of-type {\n",
              "        vertical-align: middle;\n",
              "    }\n",
              "\n",
              "    .dataframe tbody tr th {\n",
              "        vertical-align: top;\n",
              "    }\n",
              "\n",
              "    .dataframe thead th {\n",
              "        text-align: right;\n",
              "    }\n",
              "</style>\n",
              "<table border=\"1\" class=\"dataframe\">\n",
              "  <thead>\n",
              "    <tr style=\"text-align: right;\">\n",
              "      <th></th>\n",
              "      <th>H</th>\n",
              "      <th>L</th>\n",
              "      <th>M</th>\n",
              "      <th>Air Temperature</th>\n",
              "      <th>Process Temperature</th>\n",
              "      <th>Rotational Speed</th>\n",
              "      <th>Torque</th>\n",
              "      <th>Tool Wear</th>\n",
              "      <th>Target</th>\n",
              "    </tr>\n",
              "  </thead>\n",
              "  <tbody>\n",
              "    <tr>\n",
              "      <th>0</th>\n",
              "      <td>0</td>\n",
              "      <td>0</td>\n",
              "      <td>1</td>\n",
              "      <td>298.1</td>\n",
              "      <td>308.6</td>\n",
              "      <td>1551</td>\n",
              "      <td>42.8</td>\n",
              "      <td>0</td>\n",
              "      <td>0</td>\n",
              "    </tr>\n",
              "    <tr>\n",
              "      <th>1</th>\n",
              "      <td>0</td>\n",
              "      <td>1</td>\n",
              "      <td>0</td>\n",
              "      <td>298.2</td>\n",
              "      <td>308.7</td>\n",
              "      <td>1408</td>\n",
              "      <td>46.3</td>\n",
              "      <td>3</td>\n",
              "      <td>0</td>\n",
              "    </tr>\n",
              "    <tr>\n",
              "      <th>2</th>\n",
              "      <td>0</td>\n",
              "      <td>1</td>\n",
              "      <td>0</td>\n",
              "      <td>298.1</td>\n",
              "      <td>308.5</td>\n",
              "      <td>1498</td>\n",
              "      <td>49.4</td>\n",
              "      <td>5</td>\n",
              "      <td>0</td>\n",
              "    </tr>\n",
              "    <tr>\n",
              "      <th>3</th>\n",
              "      <td>0</td>\n",
              "      <td>1</td>\n",
              "      <td>0</td>\n",
              "      <td>298.2</td>\n",
              "      <td>308.6</td>\n",
              "      <td>1433</td>\n",
              "      <td>39.5</td>\n",
              "      <td>7</td>\n",
              "      <td>0</td>\n",
              "    </tr>\n",
              "    <tr>\n",
              "      <th>4</th>\n",
              "      <td>0</td>\n",
              "      <td>1</td>\n",
              "      <td>0</td>\n",
              "      <td>298.2</td>\n",
              "      <td>308.7</td>\n",
              "      <td>1408</td>\n",
              "      <td>40.0</td>\n",
              "      <td>9</td>\n",
              "      <td>0</td>\n",
              "    </tr>\n",
              "  </tbody>\n",
              "</table>\n",
              "</div>\n",
              "      <button class=\"colab-df-convert\" onclick=\"convertToInteractive('df-b85a97f4-cf4d-456e-ace8-c13ab8903db1')\"\n",
              "              title=\"Convert this dataframe to an interactive table.\"\n",
              "              style=\"display:none;\">\n",
              "        \n",
              "  <svg xmlns=\"http://www.w3.org/2000/svg\" height=\"24px\"viewBox=\"0 0 24 24\"\n",
              "       width=\"24px\">\n",
              "    <path d=\"M0 0h24v24H0V0z\" fill=\"none\"/>\n",
              "    <path d=\"M18.56 5.44l.94 2.06.94-2.06 2.06-.94-2.06-.94-.94-2.06-.94 2.06-2.06.94zm-11 1L8.5 8.5l.94-2.06 2.06-.94-2.06-.94L8.5 2.5l-.94 2.06-2.06.94zm10 10l.94 2.06.94-2.06 2.06-.94-2.06-.94-.94-2.06-.94 2.06-2.06.94z\"/><path d=\"M17.41 7.96l-1.37-1.37c-.4-.4-.92-.59-1.43-.59-.52 0-1.04.2-1.43.59L10.3 9.45l-7.72 7.72c-.78.78-.78 2.05 0 2.83L4 21.41c.39.39.9.59 1.41.59.51 0 1.02-.2 1.41-.59l7.78-7.78 2.81-2.81c.8-.78.8-2.07 0-2.86zM5.41 20L4 18.59l7.72-7.72 1.47 1.35L5.41 20z\"/>\n",
              "  </svg>\n",
              "      </button>\n",
              "      \n",
              "  <style>\n",
              "    .colab-df-container {\n",
              "      display:flex;\n",
              "      flex-wrap:wrap;\n",
              "      gap: 12px;\n",
              "    }\n",
              "\n",
              "    .colab-df-convert {\n",
              "      background-color: #E8F0FE;\n",
              "      border: none;\n",
              "      border-radius: 50%;\n",
              "      cursor: pointer;\n",
              "      display: none;\n",
              "      fill: #1967D2;\n",
              "      height: 32px;\n",
              "      padding: 0 0 0 0;\n",
              "      width: 32px;\n",
              "    }\n",
              "\n",
              "    .colab-df-convert:hover {\n",
              "      background-color: #E2EBFA;\n",
              "      box-shadow: 0px 1px 2px rgba(60, 64, 67, 0.3), 0px 1px 3px 1px rgba(60, 64, 67, 0.15);\n",
              "      fill: #174EA6;\n",
              "    }\n",
              "\n",
              "    [theme=dark] .colab-df-convert {\n",
              "      background-color: #3B4455;\n",
              "      fill: #D2E3FC;\n",
              "    }\n",
              "\n",
              "    [theme=dark] .colab-df-convert:hover {\n",
              "      background-color: #434B5C;\n",
              "      box-shadow: 0px 1px 3px 1px rgba(0, 0, 0, 0.15);\n",
              "      filter: drop-shadow(0px 1px 2px rgba(0, 0, 0, 0.3));\n",
              "      fill: #FFFFFF;\n",
              "    }\n",
              "  </style>\n",
              "\n",
              "      <script>\n",
              "        const buttonEl =\n",
              "          document.querySelector('#df-b85a97f4-cf4d-456e-ace8-c13ab8903db1 button.colab-df-convert');\n",
              "        buttonEl.style.display =\n",
              "          google.colab.kernel.accessAllowed ? 'block' : 'none';\n",
              "\n",
              "        async function convertToInteractive(key) {\n",
              "          const element = document.querySelector('#df-b85a97f4-cf4d-456e-ace8-c13ab8903db1');\n",
              "          const dataTable =\n",
              "            await google.colab.kernel.invokeFunction('convertToInteractive',\n",
              "                                                     [key], {});\n",
              "          if (!dataTable) return;\n",
              "\n",
              "          const docLinkHtml = 'Like what you see? Visit the ' +\n",
              "            '<a target=\"_blank\" href=https://colab.research.google.com/notebooks/data_table.ipynb>data table notebook</a>'\n",
              "            + ' to learn more about interactive tables.';\n",
              "          element.innerHTML = '';\n",
              "          dataTable['output_type'] = 'display_data';\n",
              "          await google.colab.output.renderOutput(dataTable, element);\n",
              "          const docLink = document.createElement('div');\n",
              "          docLink.innerHTML = docLinkHtml;\n",
              "          element.appendChild(docLink);\n",
              "        }\n",
              "      </script>\n",
              "    </div>\n",
              "  </div>\n",
              "  "
            ]
          },
          "metadata": {},
          "execution_count": 78
        }
      ],
      "source": [
        "# Alterando o tipo da coluna Type de categórico para numérico\n",
        "type_columns_converting = pd.get_dummies(data=tabela['Type'])\n",
        "\n",
        "tabela = tabela.assign(H=type_columns_converting['H'],\n",
        "                             L=type_columns_converting['L'],\n",
        "                             M=type_columns_converting['M'])\n",
        "\n",
        "tabela = tabela[['H', 'L', 'M',\n",
        "                 'Air temperature [K]',\n",
        "                 'Process temperature [K]',\n",
        "                 'Rotational speed [rpm]',\n",
        "                 'Torque [Nm]',\n",
        "                 'Tool wear [min]',\n",
        "                 'Target']]\n",
        "\n",
        "tabela.columns = ['H', 'L', 'M',\n",
        "                  'Air Temperature',\n",
        "                  'Process Temperature',\n",
        "                  'Rotational Speed',\n",
        "                  'Torque',\n",
        "                  'Tool Wear',\n",
        "                  'Target']\n",
        "\n",
        "tabela.head()"
      ]
    },
    {
      "cell_type": "code",
      "source": [
        "tabela.describe()"
      ],
      "metadata": {
        "colab": {
          "base_uri": "https://localhost:8080/"
        },
        "id": "uK4ABfGZjP1G",
        "outputId": "9dae1851-bea1-406b-966f-1062b3a074f8"
      },
      "execution_count": null,
      "outputs": [
        {
          "output_type": "execute_result",
          "data": {
            "text/plain": [
              "                 H            L            M  Air Temperature  \\\n",
              "count  9937.000000  9937.000000  9937.000000      9937.000000   \n",
              "mean      0.099930     0.600081     0.299990       300.002264   \n",
              "std       0.299921     0.489906     0.458276         2.000662   \n",
              "min       0.000000     0.000000     0.000000       295.300000   \n",
              "25%       0.000000     0.000000     0.000000       298.300000   \n",
              "50%       0.000000     1.000000     0.000000       300.100000   \n",
              "75%       0.000000     1.000000     1.000000       301.500000   \n",
              "max       1.000000     1.000000     1.000000       304.500000   \n",
              "\n",
              "       Process Temperature  Rotational Speed       Torque    Tool Wear  \\\n",
              "count          9937.000000       9937.000000  9937.000000  9937.000000   \n",
              "mean            310.003482       1538.721043    39.993006   107.437557   \n",
              "std               1.483394        179.245643     9.967446    63.363141   \n",
              "min             305.700000       1168.000000     3.800000     0.000000   \n",
              "25%             308.800000       1423.000000    33.200000    53.000000   \n",
              "50%             310.100000       1503.000000    40.100000   107.000000   \n",
              "75%             311.100000       1612.000000    46.800000   162.000000   \n",
              "max             313.800000       2886.000000    76.600000   251.000000   \n",
              "\n",
              "            Target  \n",
              "count  9937.000000  \n",
              "mean      0.029586  \n",
              "std       0.169452  \n",
              "min       0.000000  \n",
              "25%       0.000000  \n",
              "50%       0.000000  \n",
              "75%       0.000000  \n",
              "max       1.000000  "
            ],
            "text/html": [
              "\n",
              "  <div id=\"df-28ebc15e-fc6e-4fc5-9a7d-267bf4c09f31\">\n",
              "    <div class=\"colab-df-container\">\n",
              "      <div>\n",
              "<style scoped>\n",
              "    .dataframe tbody tr th:only-of-type {\n",
              "        vertical-align: middle;\n",
              "    }\n",
              "\n",
              "    .dataframe tbody tr th {\n",
              "        vertical-align: top;\n",
              "    }\n",
              "\n",
              "    .dataframe thead th {\n",
              "        text-align: right;\n",
              "    }\n",
              "</style>\n",
              "<table border=\"1\" class=\"dataframe\">\n",
              "  <thead>\n",
              "    <tr style=\"text-align: right;\">\n",
              "      <th></th>\n",
              "      <th>H</th>\n",
              "      <th>L</th>\n",
              "      <th>M</th>\n",
              "      <th>Air Temperature</th>\n",
              "      <th>Process Temperature</th>\n",
              "      <th>Rotational Speed</th>\n",
              "      <th>Torque</th>\n",
              "      <th>Tool Wear</th>\n",
              "      <th>Target</th>\n",
              "    </tr>\n",
              "  </thead>\n",
              "  <tbody>\n",
              "    <tr>\n",
              "      <th>count</th>\n",
              "      <td>9937.000000</td>\n",
              "      <td>9937.000000</td>\n",
              "      <td>9937.000000</td>\n",
              "      <td>9937.000000</td>\n",
              "      <td>9937.000000</td>\n",
              "      <td>9937.000000</td>\n",
              "      <td>9937.000000</td>\n",
              "      <td>9937.000000</td>\n",
              "      <td>9937.000000</td>\n",
              "    </tr>\n",
              "    <tr>\n",
              "      <th>mean</th>\n",
              "      <td>0.099930</td>\n",
              "      <td>0.600081</td>\n",
              "      <td>0.299990</td>\n",
              "      <td>300.002264</td>\n",
              "      <td>310.003482</td>\n",
              "      <td>1538.721043</td>\n",
              "      <td>39.993006</td>\n",
              "      <td>107.437557</td>\n",
              "      <td>0.029586</td>\n",
              "    </tr>\n",
              "    <tr>\n",
              "      <th>std</th>\n",
              "      <td>0.299921</td>\n",
              "      <td>0.489906</td>\n",
              "      <td>0.458276</td>\n",
              "      <td>2.000662</td>\n",
              "      <td>1.483394</td>\n",
              "      <td>179.245643</td>\n",
              "      <td>9.967446</td>\n",
              "      <td>63.363141</td>\n",
              "      <td>0.169452</td>\n",
              "    </tr>\n",
              "    <tr>\n",
              "      <th>min</th>\n",
              "      <td>0.000000</td>\n",
              "      <td>0.000000</td>\n",
              "      <td>0.000000</td>\n",
              "      <td>295.300000</td>\n",
              "      <td>305.700000</td>\n",
              "      <td>1168.000000</td>\n",
              "      <td>3.800000</td>\n",
              "      <td>0.000000</td>\n",
              "      <td>0.000000</td>\n",
              "    </tr>\n",
              "    <tr>\n",
              "      <th>25%</th>\n",
              "      <td>0.000000</td>\n",
              "      <td>0.000000</td>\n",
              "      <td>0.000000</td>\n",
              "      <td>298.300000</td>\n",
              "      <td>308.800000</td>\n",
              "      <td>1423.000000</td>\n",
              "      <td>33.200000</td>\n",
              "      <td>53.000000</td>\n",
              "      <td>0.000000</td>\n",
              "    </tr>\n",
              "    <tr>\n",
              "      <th>50%</th>\n",
              "      <td>0.000000</td>\n",
              "      <td>1.000000</td>\n",
              "      <td>0.000000</td>\n",
              "      <td>300.100000</td>\n",
              "      <td>310.100000</td>\n",
              "      <td>1503.000000</td>\n",
              "      <td>40.100000</td>\n",
              "      <td>107.000000</td>\n",
              "      <td>0.000000</td>\n",
              "    </tr>\n",
              "    <tr>\n",
              "      <th>75%</th>\n",
              "      <td>0.000000</td>\n",
              "      <td>1.000000</td>\n",
              "      <td>1.000000</td>\n",
              "      <td>301.500000</td>\n",
              "      <td>311.100000</td>\n",
              "      <td>1612.000000</td>\n",
              "      <td>46.800000</td>\n",
              "      <td>162.000000</td>\n",
              "      <td>0.000000</td>\n",
              "    </tr>\n",
              "    <tr>\n",
              "      <th>max</th>\n",
              "      <td>1.000000</td>\n",
              "      <td>1.000000</td>\n",
              "      <td>1.000000</td>\n",
              "      <td>304.500000</td>\n",
              "      <td>313.800000</td>\n",
              "      <td>2886.000000</td>\n",
              "      <td>76.600000</td>\n",
              "      <td>251.000000</td>\n",
              "      <td>1.000000</td>\n",
              "    </tr>\n",
              "  </tbody>\n",
              "</table>\n",
              "</div>\n",
              "      <button class=\"colab-df-convert\" onclick=\"convertToInteractive('df-28ebc15e-fc6e-4fc5-9a7d-267bf4c09f31')\"\n",
              "              title=\"Convert this dataframe to an interactive table.\"\n",
              "              style=\"display:none;\">\n",
              "        \n",
              "  <svg xmlns=\"http://www.w3.org/2000/svg\" height=\"24px\"viewBox=\"0 0 24 24\"\n",
              "       width=\"24px\">\n",
              "    <path d=\"M0 0h24v24H0V0z\" fill=\"none\"/>\n",
              "    <path d=\"M18.56 5.44l.94 2.06.94-2.06 2.06-.94-2.06-.94-.94-2.06-.94 2.06-2.06.94zm-11 1L8.5 8.5l.94-2.06 2.06-.94-2.06-.94L8.5 2.5l-.94 2.06-2.06.94zm10 10l.94 2.06.94-2.06 2.06-.94-2.06-.94-.94-2.06-.94 2.06-2.06.94z\"/><path d=\"M17.41 7.96l-1.37-1.37c-.4-.4-.92-.59-1.43-.59-.52 0-1.04.2-1.43.59L10.3 9.45l-7.72 7.72c-.78.78-.78 2.05 0 2.83L4 21.41c.39.39.9.59 1.41.59.51 0 1.02-.2 1.41-.59l7.78-7.78 2.81-2.81c.8-.78.8-2.07 0-2.86zM5.41 20L4 18.59l7.72-7.72 1.47 1.35L5.41 20z\"/>\n",
              "  </svg>\n",
              "      </button>\n",
              "      \n",
              "  <style>\n",
              "    .colab-df-container {\n",
              "      display:flex;\n",
              "      flex-wrap:wrap;\n",
              "      gap: 12px;\n",
              "    }\n",
              "\n",
              "    .colab-df-convert {\n",
              "      background-color: #E8F0FE;\n",
              "      border: none;\n",
              "      border-radius: 50%;\n",
              "      cursor: pointer;\n",
              "      display: none;\n",
              "      fill: #1967D2;\n",
              "      height: 32px;\n",
              "      padding: 0 0 0 0;\n",
              "      width: 32px;\n",
              "    }\n",
              "\n",
              "    .colab-df-convert:hover {\n",
              "      background-color: #E2EBFA;\n",
              "      box-shadow: 0px 1px 2px rgba(60, 64, 67, 0.3), 0px 1px 3px 1px rgba(60, 64, 67, 0.15);\n",
              "      fill: #174EA6;\n",
              "    }\n",
              "\n",
              "    [theme=dark] .colab-df-convert {\n",
              "      background-color: #3B4455;\n",
              "      fill: #D2E3FC;\n",
              "    }\n",
              "\n",
              "    [theme=dark] .colab-df-convert:hover {\n",
              "      background-color: #434B5C;\n",
              "      box-shadow: 0px 1px 3px 1px rgba(0, 0, 0, 0.15);\n",
              "      filter: drop-shadow(0px 1px 2px rgba(0, 0, 0, 0.3));\n",
              "      fill: #FFFFFF;\n",
              "    }\n",
              "  </style>\n",
              "\n",
              "      <script>\n",
              "        const buttonEl =\n",
              "          document.querySelector('#df-28ebc15e-fc6e-4fc5-9a7d-267bf4c09f31 button.colab-df-convert');\n",
              "        buttonEl.style.display =\n",
              "          google.colab.kernel.accessAllowed ? 'block' : 'none';\n",
              "\n",
              "        async function convertToInteractive(key) {\n",
              "          const element = document.querySelector('#df-28ebc15e-fc6e-4fc5-9a7d-267bf4c09f31');\n",
              "          const dataTable =\n",
              "            await google.colab.kernel.invokeFunction('convertToInteractive',\n",
              "                                                     [key], {});\n",
              "          if (!dataTable) return;\n",
              "\n",
              "          const docLinkHtml = 'Like what you see? Visit the ' +\n",
              "            '<a target=\"_blank\" href=https://colab.research.google.com/notebooks/data_table.ipynb>data table notebook</a>'\n",
              "            + ' to learn more about interactive tables.';\n",
              "          element.innerHTML = '';\n",
              "          dataTable['output_type'] = 'display_data';\n",
              "          await google.colab.output.renderOutput(dataTable, element);\n",
              "          const docLink = document.createElement('div');\n",
              "          docLink.innerHTML = docLinkHtml;\n",
              "          element.appendChild(docLink);\n",
              "        }\n",
              "      </script>\n",
              "    </div>\n",
              "  </div>\n",
              "  "
            ]
          },
          "metadata": {},
          "execution_count": 79
        }
      ]
    },
    {
      "cell_type": "code",
      "execution_count": null,
      "metadata": {
        "id": "HyCnKzb4U1eT"
      },
      "outputs": [],
      "source": [
        "x = tabela.drop('Target', axis=1)\n",
        "y = tabela['Target']"
      ]
    },
    {
      "cell_type": "code",
      "execution_count": null,
      "metadata": {
        "colab": {
          "base_uri": "https://localhost:8080/"
        },
        "id": "Qmol1b3z7Xsk",
        "outputId": "1c7f50d3-95fd-4cf3-abde-a53873728d8f"
      },
      "outputs": [
        {
          "output_type": "execute_result",
          "data": {
            "text/plain": [
              "                 H            L            M  Air Temperature  \\\n",
              "count  9937.000000  9937.000000  9937.000000      9937.000000   \n",
              "mean      0.099930     0.600081     0.299990         0.511116   \n",
              "std       0.299921     0.489906     0.458276         0.217463   \n",
              "min       0.000000     0.000000     0.000000         0.000000   \n",
              "25%       0.000000     0.000000     0.000000         0.326087   \n",
              "50%       0.000000     1.000000     0.000000         0.521739   \n",
              "75%       0.000000     1.000000     1.000000         0.673913   \n",
              "max       1.000000     1.000000     1.000000         1.000000   \n",
              "\n",
              "       Process Temperature  Rotational Speed       Torque    Tool Wear  \n",
              "count          9937.000000       9937.000000  9937.000000  9937.000000  \n",
              "mean              0.531294          0.215786     0.497157     0.428038  \n",
              "std               0.183135          0.104334     0.136915     0.252443  \n",
              "min               0.000000          0.000000     0.000000     0.000000  \n",
              "25%               0.382716          0.148428     0.403846     0.211155  \n",
              "50%               0.543210          0.194994     0.498626     0.426295  \n",
              "75%               0.666667          0.258440     0.590659     0.645418  \n",
              "max               1.000000          1.000000     1.000000     1.000000  "
            ],
            "text/html": [
              "\n",
              "  <div id=\"df-2155398f-07b1-4a1b-9514-07096714a5b7\">\n",
              "    <div class=\"colab-df-container\">\n",
              "      <div>\n",
              "<style scoped>\n",
              "    .dataframe tbody tr th:only-of-type {\n",
              "        vertical-align: middle;\n",
              "    }\n",
              "\n",
              "    .dataframe tbody tr th {\n",
              "        vertical-align: top;\n",
              "    }\n",
              "\n",
              "    .dataframe thead th {\n",
              "        text-align: right;\n",
              "    }\n",
              "</style>\n",
              "<table border=\"1\" class=\"dataframe\">\n",
              "  <thead>\n",
              "    <tr style=\"text-align: right;\">\n",
              "      <th></th>\n",
              "      <th>H</th>\n",
              "      <th>L</th>\n",
              "      <th>M</th>\n",
              "      <th>Air Temperature</th>\n",
              "      <th>Process Temperature</th>\n",
              "      <th>Rotational Speed</th>\n",
              "      <th>Torque</th>\n",
              "      <th>Tool Wear</th>\n",
              "    </tr>\n",
              "  </thead>\n",
              "  <tbody>\n",
              "    <tr>\n",
              "      <th>count</th>\n",
              "      <td>9937.000000</td>\n",
              "      <td>9937.000000</td>\n",
              "      <td>9937.000000</td>\n",
              "      <td>9937.000000</td>\n",
              "      <td>9937.000000</td>\n",
              "      <td>9937.000000</td>\n",
              "      <td>9937.000000</td>\n",
              "      <td>9937.000000</td>\n",
              "    </tr>\n",
              "    <tr>\n",
              "      <th>mean</th>\n",
              "      <td>0.099930</td>\n",
              "      <td>0.600081</td>\n",
              "      <td>0.299990</td>\n",
              "      <td>0.511116</td>\n",
              "      <td>0.531294</td>\n",
              "      <td>0.215786</td>\n",
              "      <td>0.497157</td>\n",
              "      <td>0.428038</td>\n",
              "    </tr>\n",
              "    <tr>\n",
              "      <th>std</th>\n",
              "      <td>0.299921</td>\n",
              "      <td>0.489906</td>\n",
              "      <td>0.458276</td>\n",
              "      <td>0.217463</td>\n",
              "      <td>0.183135</td>\n",
              "      <td>0.104334</td>\n",
              "      <td>0.136915</td>\n",
              "      <td>0.252443</td>\n",
              "    </tr>\n",
              "    <tr>\n",
              "      <th>min</th>\n",
              "      <td>0.000000</td>\n",
              "      <td>0.000000</td>\n",
              "      <td>0.000000</td>\n",
              "      <td>0.000000</td>\n",
              "      <td>0.000000</td>\n",
              "      <td>0.000000</td>\n",
              "      <td>0.000000</td>\n",
              "      <td>0.000000</td>\n",
              "    </tr>\n",
              "    <tr>\n",
              "      <th>25%</th>\n",
              "      <td>0.000000</td>\n",
              "      <td>0.000000</td>\n",
              "      <td>0.000000</td>\n",
              "      <td>0.326087</td>\n",
              "      <td>0.382716</td>\n",
              "      <td>0.148428</td>\n",
              "      <td>0.403846</td>\n",
              "      <td>0.211155</td>\n",
              "    </tr>\n",
              "    <tr>\n",
              "      <th>50%</th>\n",
              "      <td>0.000000</td>\n",
              "      <td>1.000000</td>\n",
              "      <td>0.000000</td>\n",
              "      <td>0.521739</td>\n",
              "      <td>0.543210</td>\n",
              "      <td>0.194994</td>\n",
              "      <td>0.498626</td>\n",
              "      <td>0.426295</td>\n",
              "    </tr>\n",
              "    <tr>\n",
              "      <th>75%</th>\n",
              "      <td>0.000000</td>\n",
              "      <td>1.000000</td>\n",
              "      <td>1.000000</td>\n",
              "      <td>0.673913</td>\n",
              "      <td>0.666667</td>\n",
              "      <td>0.258440</td>\n",
              "      <td>0.590659</td>\n",
              "      <td>0.645418</td>\n",
              "    </tr>\n",
              "    <tr>\n",
              "      <th>max</th>\n",
              "      <td>1.000000</td>\n",
              "      <td>1.000000</td>\n",
              "      <td>1.000000</td>\n",
              "      <td>1.000000</td>\n",
              "      <td>1.000000</td>\n",
              "      <td>1.000000</td>\n",
              "      <td>1.000000</td>\n",
              "      <td>1.000000</td>\n",
              "    </tr>\n",
              "  </tbody>\n",
              "</table>\n",
              "</div>\n",
              "      <button class=\"colab-df-convert\" onclick=\"convertToInteractive('df-2155398f-07b1-4a1b-9514-07096714a5b7')\"\n",
              "              title=\"Convert this dataframe to an interactive table.\"\n",
              "              style=\"display:none;\">\n",
              "        \n",
              "  <svg xmlns=\"http://www.w3.org/2000/svg\" height=\"24px\"viewBox=\"0 0 24 24\"\n",
              "       width=\"24px\">\n",
              "    <path d=\"M0 0h24v24H0V0z\" fill=\"none\"/>\n",
              "    <path d=\"M18.56 5.44l.94 2.06.94-2.06 2.06-.94-2.06-.94-.94-2.06-.94 2.06-2.06.94zm-11 1L8.5 8.5l.94-2.06 2.06-.94-2.06-.94L8.5 2.5l-.94 2.06-2.06.94zm10 10l.94 2.06.94-2.06 2.06-.94-2.06-.94-.94-2.06-.94 2.06-2.06.94z\"/><path d=\"M17.41 7.96l-1.37-1.37c-.4-.4-.92-.59-1.43-.59-.52 0-1.04.2-1.43.59L10.3 9.45l-7.72 7.72c-.78.78-.78 2.05 0 2.83L4 21.41c.39.39.9.59 1.41.59.51 0 1.02-.2 1.41-.59l7.78-7.78 2.81-2.81c.8-.78.8-2.07 0-2.86zM5.41 20L4 18.59l7.72-7.72 1.47 1.35L5.41 20z\"/>\n",
              "  </svg>\n",
              "      </button>\n",
              "      \n",
              "  <style>\n",
              "    .colab-df-container {\n",
              "      display:flex;\n",
              "      flex-wrap:wrap;\n",
              "      gap: 12px;\n",
              "    }\n",
              "\n",
              "    .colab-df-convert {\n",
              "      background-color: #E8F0FE;\n",
              "      border: none;\n",
              "      border-radius: 50%;\n",
              "      cursor: pointer;\n",
              "      display: none;\n",
              "      fill: #1967D2;\n",
              "      height: 32px;\n",
              "      padding: 0 0 0 0;\n",
              "      width: 32px;\n",
              "    }\n",
              "\n",
              "    .colab-df-convert:hover {\n",
              "      background-color: #E2EBFA;\n",
              "      box-shadow: 0px 1px 2px rgba(60, 64, 67, 0.3), 0px 1px 3px 1px rgba(60, 64, 67, 0.15);\n",
              "      fill: #174EA6;\n",
              "    }\n",
              "\n",
              "    [theme=dark] .colab-df-convert {\n",
              "      background-color: #3B4455;\n",
              "      fill: #D2E3FC;\n",
              "    }\n",
              "\n",
              "    [theme=dark] .colab-df-convert:hover {\n",
              "      background-color: #434B5C;\n",
              "      box-shadow: 0px 1px 3px 1px rgba(0, 0, 0, 0.15);\n",
              "      filter: drop-shadow(0px 1px 2px rgba(0, 0, 0, 0.3));\n",
              "      fill: #FFFFFF;\n",
              "    }\n",
              "  </style>\n",
              "\n",
              "      <script>\n",
              "        const buttonEl =\n",
              "          document.querySelector('#df-2155398f-07b1-4a1b-9514-07096714a5b7 button.colab-df-convert');\n",
              "        buttonEl.style.display =\n",
              "          google.colab.kernel.accessAllowed ? 'block' : 'none';\n",
              "\n",
              "        async function convertToInteractive(key) {\n",
              "          const element = document.querySelector('#df-2155398f-07b1-4a1b-9514-07096714a5b7');\n",
              "          const dataTable =\n",
              "            await google.colab.kernel.invokeFunction('convertToInteractive',\n",
              "                                                     [key], {});\n",
              "          if (!dataTable) return;\n",
              "\n",
              "          const docLinkHtml = 'Like what you see? Visit the ' +\n",
              "            '<a target=\"_blank\" href=https://colab.research.google.com/notebooks/data_table.ipynb>data table notebook</a>'\n",
              "            + ' to learn more about interactive tables.';\n",
              "          element.innerHTML = '';\n",
              "          dataTable['output_type'] = 'display_data';\n",
              "          await google.colab.output.renderOutput(dataTable, element);\n",
              "          const docLink = document.createElement('div');\n",
              "          docLink.innerHTML = docLinkHtml;\n",
              "          element.appendChild(docLink);\n",
              "        }\n",
              "      </script>\n",
              "    </div>\n",
              "  </div>\n",
              "  "
            ]
          },
          "metadata": {},
          "execution_count": 81
        }
      ],
      "source": [
        "escalador = MinMaxScaler()\n",
        "x = escalador.fit_transform(x)\n",
        "x = pd.DataFrame(data=x, columns=['H', 'L', 'M',\n",
        "                  'Air Temperature',\n",
        "                  'Process Temperature',\n",
        "                  'Rotational Speed',\n",
        "                  'Torque',\n",
        "                  'Tool Wear',])\n",
        "x.describe()"
      ]
    },
    {
      "cell_type": "code",
      "source": [
        "x_boxplot = x[['Air Temperature', 'Process Temperature', 'Rotational Speed', 'Torque', 'Tool Wear']]\n",
        "x_boxplot.columns = ['Air\\nTemperature', 'Process\\nTemperature', 'Rotational\\nSpeed', 'Torque', 'Tool\\nWear']\n",
        "boxplot = sns.boxplot(data=x_boxplot[['Air\\nTemperature', 'Process\\nTemperature', 'Rotational\\nSpeed', 'Torque', 'Tool\\nWear']]);\n",
        "boxplot.figure.set_size_inches(9, 5)\n",
        "plt.title('Gráfico de distribuição')\n",
        "plt.xlabel('Colunas')\n",
        "plt.ylabel('Valores')\n",
        "plt.savefig('Boxplot.png')"
      ],
      "metadata": {
        "colab": {
          "base_uri": "https://localhost:8080/"
        },
        "id": "s_efh5FDcIXy",
        "outputId": "eef3a016-744c-4d95-b63e-7869bac5839b"
      },
      "execution_count": null,
      "outputs": [
        {
          "output_type": "display_data",
          "data": {
            "text/plain": [
              "<Figure size 720x400 with 1 Axes>"
            ],
            "image/png": "[encoded data removed]"
          },
          "metadata": {}
        }
      ]
    },
    {
      "cell_type": "markdown",
      "metadata": {
        "id": "0P9C1enG4LVx"
      },
      "source": [
        "## Separação dos subconjuntos de treino, teste e validação"
      ]
    },
    {
      "cell_type": "code",
      "execution_count": null,
      "metadata": {
        "id": "PodbZOZzWGTX"
      },
      "outputs": [],
      "source": [
        "x_treino, x_teste, y_treino, y_teste = train_test_split(x, y, random_state=42, stratify=y, train_size=0.80)\n",
        "x_teste, x_validacao, y_teste, y_validacao = train_test_split(x_teste, y_teste, random_state=42, stratify=y_teste, train_size=0.5)"
      ]
    },
    {
      "cell_type": "code",
      "execution_count": null,
      "metadata": {
        "colab": {
          "base_uri": "https://localhost:8080/"
        },
        "id": "-T4jFKbtdh3n",
        "outputId": "eb832adc-6d4d-4193-9726-e1ea3fc6c86c"
      },
      "outputs": [
        {
          "output_type": "stream",
          "name": "stdout",
          "text": [
            "Tamanho dos conjuntos\n",
            "Conjunto\tQtd. Linhas\tQtd. Colunas\n",
            "X Treino\t7949\t\t8\n",
            "Y Treino\t7949\t\t1\n",
            "X Teste\t\t994\t\t8\n",
            "Y Teste\t\t994\t\t1\n",
            "X Validação\t994\t\t8\n",
            "Y Validação\t994\t\t1\n"
          ]
        }
      ],
      "source": [
        "print('Tamanho dos conjuntos')\n",
        "print('Conjunto\\tQtd. Linhas\\tQtd. Colunas')\n",
        "print(f'X Treino\\t{x_treino.shape[0]}\\t\\t{x_treino.shape[1]}')\n",
        "print(f'Y Treino\\t{y_treino.shape[0]}\\t\\t1')\n",
        "print(f'X Teste\\t\\t{x_teste.shape[0]}\\t\\t{x_teste.shape[1]}')\n",
        "print(f'Y Teste\\t\\t{y_teste.shape[0]}\\t\\t1')\n",
        "print(f'X Validação\\t{x_validacao.shape[0]}\\t\\t{x_validacao.shape[1]}')\n",
        "print(f'Y Validação\\t{y_validacao.shape[0]}\\t\\t1')"
      ]
    },
    {
      "cell_type": "markdown",
      "metadata": {
        "id": "7210DEag4TX7"
      },
      "source": [
        "## Aplicação dos modelos"
      ]
    },
    {
      "cell_type": "markdown",
      "metadata": {
        "id": "i3QwHoIx4Vxi"
      },
      "source": [
        "### Árvore de Decisão"
      ]
    },
    {
      "cell_type": "code",
      "execution_count": null,
      "metadata": {
        "colab": {
          "base_uri": "https://localhost:8080/"
        },
        "id": "hlYGLO4kiW-H",
        "outputId": "411607af-5d52-4c58-b963-26bf0381afb9"
      },
      "outputs": [
        {
          "output_type": "execute_result",
          "data": {
            "text/plain": [
              "{'max_depth': 19}"
            ]
          },
          "metadata": {},
          "execution_count": 85
        }
      ],
      "source": [
        "parametros_arvore_decisao = {\n",
        "   'max_depth': np.arange(1, 20) \n",
        "}\n",
        "\n",
        "grid_search_arvore_decisao = GridSearchCV(DecisionTreeClassifier(), parametros_arvore_decisao, cv=5, scoring='recall')\n",
        "grid_search_arvore_decisao.fit(x_treino, y_treino)\n",
        "melhores_parametros_arvore_decisao = grid_search_arvore_decisao.best_params_\n",
        "melhores_parametros_arvore_decisao"
      ]
    },
    {
      "cell_type": "code",
      "execution_count": null,
      "metadata": {
        "colab": {
          "base_uri": "https://localhost:8080/"
        },
        "id": "s0zXzVwQOKtw",
        "outputId": "910f12fb-c4fa-4c61-cc4e-49ad9dc00824"
      },
      "outputs": [
        {
          "output_type": "execute_result",
          "data": {
            "text/plain": [
              "{'fit_time': array([0.01040816, 0.00570774, 0.00613451, 0.0106504 , 0.02472401]),\n",
              " 'score_time': array([0.00398636, 0.0070405 , 0.00954008, 0.01235747, 0.00716996]),\n",
              " 'test_score': array([0.9798995 , 0.9798995 , 0.98492462, 0.9798995 , 0.97979798]),\n",
              " 'train_score': array([1., 1., 1., 1., 1.])}"
            ]
          },
          "metadata": {},
          "execution_count": 86
        }
      ],
      "source": [
        "clf_tree = DecisionTreeClassifier(max_depth=melhores_parametros_arvore_decisao['max_depth'])\n",
        "validacao_cruzada_arvore_decisao = cross_validate(estimator=clf_tree, X=x_validacao, y=y_validacao, cv=5, return_train_score=True)\n",
        "validacao_cruzada_arvore_decisao"
      ]
    },
    {
      "cell_type": "code",
      "execution_count": null,
      "metadata": {
        "id": "My8q2y98PGc6"
      },
      "outputs": [],
      "source": [
        "clf_tree.fit(x_treino, y_treino)\n",
        "predicao = clf_tree.predict(x_teste)"
      ]
    },
    {
      "cell_type": "code",
      "execution_count": null,
      "metadata": {
        "colab": {
          "base_uri": "https://localhost:8080/"
        },
        "id": "4MABtDjX4VQO",
        "outputId": "603eed7c-f85e-4c26-cd91-298b52ccd58e"
      },
      "outputs": [
        {
          "output_type": "stream",
          "name": "stdout",
          "text": [
            "              precision    recall  f1-score   support\n",
            "\n",
            "           0       1.00      0.99      0.99       964\n",
            "           1       0.76      0.93      0.84        30\n",
            "\n",
            "    accuracy                           0.99       994\n",
            "   macro avg       0.88      0.96      0.92       994\n",
            "weighted avg       0.99      0.99      0.99       994\n",
            "\n",
            "Acurácia: 98.89\n",
            "Precisão Média: 99.06\n",
            "Revocação Média: 98.89\n",
            "F1 Média: 98.95\n"
          ]
        }
      ],
      "source": [
        "resultados = classification_report(y_teste, predicao) \n",
        "print(resultados)\n",
        "\n",
        "acuracia_arvore_decisao = clf_tree.score(x_teste, y_teste) * 100\n",
        "precisao_arvore_decisao = precision_score(y_teste, predicao, average=\"weighted\") * 100\n",
        "revocacao_arvore_decisao = recall_score(y_teste, predicao, average=\"weighted\") * 100\n",
        "f1_arvore_decisao = f1_score(y_teste, predicao, average=\"weighted\") * 100\n",
        "print(f'Acurácia: {acuracia_arvore_decisao:.2f}')\n",
        "print(f'Precisão Média: {precisao_arvore_decisao:.2f}')\n",
        "print(f'Revocação Média: {revocacao_arvore_decisao:.2f}')\n",
        "print(f'F1 Média: {f1_arvore_decisao:.2f}')"
      ]
    },
    {
      "cell_type": "markdown",
      "metadata": {
        "id": "nUn-b63w4Xs1"
      },
      "source": [
        "### Teorema de Bayes"
      ]
    },
    {
      "cell_type": "code",
      "execution_count": null,
      "metadata": {
        "id": "XDesVy-xm2yF"
      },
      "outputs": [],
      "source": [
        "clf_bayes = GaussianNB()"
      ]
    },
    {
      "cell_type": "code",
      "execution_count": null,
      "metadata": {
        "colab": {
          "base_uri": "https://localhost:8080/"
        },
        "id": "mH04snF2moEc",
        "outputId": "11458065-562a-46eb-df78-64a045e13ce8"
      },
      "outputs": [
        {
          "output_type": "execute_result",
          "data": {
            "text/plain": [
              "{'fit_time': array([0.01307845, 0.01741099, 0.01344156, 0.01305151, 0.00550652]),\n",
              " 'score_time': array([0.00867271, 0.00401092, 0.00308967, 0.00315356, 0.00304937]),\n",
              " 'test_score': array([0.9798995 , 0.9798995 , 0.98492462, 0.9798995 , 0.98484848]),\n",
              " 'train_score': array([1., 1., 1., 1., 1.])}"
            ]
          },
          "metadata": {},
          "execution_count": 90
        }
      ],
      "source": [
        "validacao_cruzada_naive_bayes = cross_validate(estimator=clf_tree, X=x_validacao, y=y_validacao, return_train_score=True)\n",
        "validacao_cruzada_naive_bayes"
      ]
    },
    {
      "cell_type": "code",
      "execution_count": null,
      "metadata": {
        "id": "MK3t2zfXO-lA"
      },
      "outputs": [],
      "source": [
        "clf_bayes.fit(x_treino, y_treino)\n",
        "predicao_naive_bayes = clf_bayes.predict(x_teste)"
      ]
    },
    {
      "cell_type": "code",
      "execution_count": null,
      "metadata": {
        "colab": {
          "base_uri": "https://localhost:8080/"
        },
        "id": "27AVySer4ajG",
        "outputId": "0728270d-2ee3-4025-9b44-3efa9f92b932"
      },
      "outputs": [
        {
          "output_type": "stream",
          "name": "stdout",
          "text": [
            "              precision    recall  f1-score   support\n",
            "\n",
            "           0       0.97      0.99      0.98       964\n",
            "           1       0.22      0.13      0.17        30\n",
            "\n",
            "    accuracy                           0.96       994\n",
            "   macro avg       0.60      0.56      0.57       994\n",
            "weighted avg       0.95      0.96      0.95       994\n",
            "\n",
            "Acurácia: 95.98\n",
            "Precisão Média: 95.07\n",
            "Revocação Média: 95.98\n",
            "F1 Média: 95.49\n"
          ]
        }
      ],
      "source": [
        "print(classification_report(y_teste, predicao_naive_bayes))\n",
        "\n",
        "acuracia_naive_bayes = clf_bayes.score(x_teste, y_teste) * 100\n",
        "precisao_naive_bayes = precision_score(y_teste, predicao_naive_bayes, average=\"weighted\") * 100\n",
        "revocacao_naive_bayes = recall_score(y_teste, predicao_naive_bayes, average=\"weighted\") * 100\n",
        "f1_naive_bayes = f1_score(y_teste, predicao_naive_bayes, average=\"weighted\") * 100\n",
        "print(f'Acurácia: {acuracia_naive_bayes:.2f}')\n",
        "print(f'Precisão Média: {precisao_naive_bayes:.2f}')\n",
        "print(f'Revocação Média: {revocacao_naive_bayes:.2f}')\n",
        "print(f'F1 Média: {f1_naive_bayes:.2f}')"
      ]
    },
    {
      "cell_type": "markdown",
      "metadata": {
        "id": "vnFtNkeyyblC"
      },
      "source": [
        "### SVM"
      ]
    },
    {
      "cell_type": "code",
      "execution_count": null,
      "metadata": {
        "colab": {
          "base_uri": "https://localhost:8080/"
        },
        "id": "UtoLpwUwzHPn",
        "outputId": "52e1de8c-4a93-4859-80da-5f10c7658cdd"
      },
      "outputs": [
        {
          "output_type": "execute_result",
          "data": {
            "text/plain": [
              "{'fit_time': array([0.03578377, 0.01752973, 0.02848816, 0.01403308, 0.01414704]),\n",
              " 'score_time': array([0.00509405, 0.00430512, 0.01160932, 0.00448012, 0.00449347]),\n",
              " 'test_score': array([0.98492462, 0.95979899, 0.97487437, 0.97487437, 0.96969697]),\n",
              " 'train_score': array([0.98490566, 0.98993711, 0.98993711, 0.98993711, 0.99246231])}"
            ]
          },
          "metadata": {},
          "execution_count": 93
        }
      ],
      "source": [
        "clf_svm = SVC(C=100, kernel='rbf', gamma='scale')\n",
        "validacao_cruzada_svm = cross_validate(estimator=clf_svm, X=x_validacao, y=y_validacao, return_train_score=True)\n",
        "validacao_cruzada_svm"
      ]
    },
    {
      "cell_type": "code",
      "execution_count": null,
      "metadata": {
        "id": "UsWY2inuz6bQ"
      },
      "outputs": [],
      "source": [
        "clf_svm.fit(x_treino, y_treino)\n",
        "predicao_svm = clf_svm.predict(x_teste)"
      ]
    },
    {
      "cell_type": "code",
      "execution_count": null,
      "metadata": {
        "colab": {
          "base_uri": "https://localhost:8080/"
        },
        "id": "XBTi8vaB0Dem",
        "outputId": "992e4cb5-7a01-4d6a-92b2-71850d52d609"
      },
      "outputs": [
        {
          "output_type": "stream",
          "name": "stdout",
          "text": [
            "              precision    recall  f1-score   support\n",
            "\n",
            "           0       1.00      0.99      0.99       964\n",
            "           1       0.76      0.93      0.84        30\n",
            "\n",
            "    accuracy                           0.99       994\n",
            "   macro avg       0.88      0.96      0.92       994\n",
            "weighted avg       0.99      0.99      0.99       994\n",
            "\n",
            "Acurácia: 98.39\n",
            "Precisão Média: 98.25\n",
            "Revocação Média: 98.39\n",
            "F1 Média: 98.95\n"
          ]
        }
      ],
      "source": [
        "print(classification_report(y_teste, predicao))\n",
        "\n",
        "acuracia_svm = clf_svm.score(x_teste, y_teste) * 100\n",
        "precisao_svm = precision_score(y_teste, predicao_svm, average=\"weighted\") * 100\n",
        "revocacao_svm = recall_score(y_teste, predicao_svm, average=\"weighted\") * 100\n",
        "f1_svm = f1_score(y_teste, predicao, average=\"weighted\") * 100\n",
        "print(f'Acurácia: {acuracia_svm:.2f}')\n",
        "print(f'Precisão Média: {precisao_svm:.2f}')\n",
        "print(f'Revocação Média: {revocacao_svm:.2f}')\n",
        "print(f'F1 Média: {f1_svm:.2f}')"
      ]
    },
    {
      "cell_type": "markdown",
      "metadata": {
        "id": "6OpOWeeH0vbA"
      },
      "source": [
        "### XGBoost"
      ]
    },
    {
      "cell_type": "code",
      "execution_count": null,
      "metadata": {
        "colab": {
          "base_uri": "https://localhost:8080/"
        },
        "id": "j__dmjC1tIpL",
        "outputId": "e0dd2cda-e6b5-4077-bd3d-73016c8ae461"
      },
      "outputs": [
        {
          "output_type": "execute_result",
          "data": {
            "text/plain": [
              "{'booster': 'dart',\n",
              " 'eta': 0.15000000000000002,\n",
              " 'eval_metric': 'error',\n",
              " 'gamma': 0,\n",
              " 'max_depth': 7,\n",
              " 'objective': 'binary:hinge',\n",
              " 'tree_method': 'exact'}"
            ]
          },
          "metadata": {},
          "execution_count": 96
        }
      ],
      "source": [
        "parametros_xgb = {\n",
        "    'booster': ['dart', 'gbtree'],\n",
        "    'tree_method': ['auto', 'approx', 'hist', 'exact'],\n",
        "    'eta': np.arange(0.1, 0.205, 0.05),\n",
        "    'gamma': np.arange(0, 101),\n",
        "    'max_depth': np.arange(3, 12),\n",
        "    'objective': ['binary:hinge'],\n",
        "    'eval_metric': ['error', 'auc', 'aucpr']\n",
        "}\n",
        "\n",
        "randomized_search_xgb = RandomizedSearchCV(estimator=XGBClassifier(),\n",
        "                                           param_distributions=parametros_xgb,\n",
        "                                           n_iter=10,\n",
        "                                           scoring='accuracy',\n",
        "                                           cv=5,\n",
        "                                           return_train_score=True)\n",
        "\n",
        "randomized_search_xgb.fit(x_treino, y_treino)\n",
        "melhores_parametros_xgb = randomized_search_xgb.best_params_\n",
        "melhores_parametros_xgb"
      ]
    },
    {
      "cell_type": "code",
      "execution_count": null,
      "metadata": {
        "colab": {
          "base_uri": "https://localhost:8080/"
        },
        "id": "ksnujZQA13Iq",
        "outputId": "0a463c97-25df-4a3f-9bcc-1f6fef93a87a"
      },
      "outputs": [
        {
          "output_type": "execute_result",
          "data": {
            "text/plain": [
              "array([0.98679063, 0.98641335, 0.97182057, 0.97182073, 0.971569  ,\n",
              "       0.97886555, 0.96993323, 0.98918049, 0.971569  , 0.97043693])"
            ]
          },
          "metadata": {},
          "execution_count": 97
        }
      ],
      "source": [
        "randomized_search_xgb.cv_results_['mean_test_score']"
      ]
    },
    {
      "cell_type": "code",
      "execution_count": null,
      "metadata": {
        "colab": {
          "base_uri": "https://localhost:8080/"
        },
        "id": "hfa8dqUjvt9c",
        "outputId": "3322d986-6aa0-41cb-996a-e9be287c484b"
      },
      "outputs": [
        {
          "output_type": "execute_result",
          "data": {
            "text/plain": [
              "array([0.99430744, 0.99996855, 0.97288962, 0.97266948, 0.9725122 ,\n",
              "       0.98131841, 0.96993335, 1.        , 0.9725122 , 0.97213478])"
            ]
          },
          "metadata": {},
          "execution_count": 98
        }
      ],
      "source": [
        "randomized_search_xgb.cv_results_['mean_train_score']"
      ]
    },
    {
      "cell_type": "code",
      "execution_count": null,
      "metadata": {
        "colab": {
          "base_uri": "https://localhost:8080/"
        },
        "id": "Q1Ty_p8f02sd",
        "outputId": "cb01ff59-73f7-40b3-cf48-fb153bc0666e"
      },
      "outputs": [
        {
          "output_type": "execute_result",
          "data": {
            "text/plain": [
              "{'fit_time': array([1.7494607 , 1.92586422, 1.88146591, 1.54832101, 1.81839848]),\n",
              " 'score_time': array([0.00789666, 0.00919271, 0.00900888, 0.00700545, 0.00878525]),\n",
              " 'test_score': array([0.99056604, 0.99119497, 0.9918239 , 0.98742138, 0.98489616]),\n",
              " 'train_score': array([1., 1., 1., 1., 1.])}"
            ]
          },
          "metadata": {},
          "execution_count": 99
        }
      ],
      "source": [
        "clf_xgb = XGBClassifier(booster=melhores_parametros_xgb['booster'],\n",
        "                        max_depth=melhores_parametros_xgb['max_depth'],\n",
        "                        objective=melhores_parametros_xgb['objective'],\n",
        "                        eval_metric=melhores_parametros_xgb['eval_metric'])\n",
        "validacao_cruzada = cross_validate(estimator=clf_xgb, X=x_treino, y=y_treino, cv=5, return_train_score=True)\n",
        "validacao_cruzada"
      ]
    },
    {
      "cell_type": "code",
      "execution_count": null,
      "metadata": {
        "colab": {
          "base_uri": "https://localhost:8080/"
        },
        "id": "s_s5Wxfk1zd0",
        "outputId": "3d11f696-173b-4a5c-9b72-301eb2a6d6aa"
      },
      "outputs": [
        {
          "output_type": "execute_result",
          "data": {
            "text/plain": [
              "XGBClassifier(booster='dart', eval_metric='error', max_depth=7,\n",
              "              objective='binary:hinge')"
            ]
          },
          "metadata": {},
          "execution_count": 100
        }
      ],
      "source": [
        "clf_xgb.fit(x_treino, y_treino)"
      ]
    },
    {
      "cell_type": "code",
      "execution_count": null,
      "metadata": {
        "colab": {
          "base_uri": "https://localhost:8080/"
        },
        "id": "BWx5G1gX19XM",
        "outputId": "d8dc17af-1598-4faf-e7f3-7fd71475ea94"
      },
      "outputs": [
        {
          "output_type": "stream",
          "name": "stdout",
          "text": [
            "              precision    recall  f1-score   support\n",
            "\n",
            "           0       1.00      0.99      0.99       964\n",
            "           1       0.76      0.93      0.84        30\n",
            "\n",
            "    accuracy                           0.99       994\n",
            "   macro avg       0.88      0.96      0.92       994\n",
            "weighted avg       0.99      0.99      0.99       994\n",
            "\n",
            "Acurácia: 98.79\n",
            "Precisão Média: 98.79\n",
            "Revocação Média: 98.79\n",
            "F1 Média: 98.79\n"
          ]
        }
      ],
      "source": [
        "predicao_xgb = clf_xgb.predict(x_teste)\n",
        "print(classification_report(y_teste, predicao))\n",
        "\n",
        "acuracia_xgb = clf_xgb.score(x_teste, y_teste) * 100\n",
        "precisao_xgb = precision_score(y_teste, predicao_xgb, average='weighted') * 100\n",
        "revocacao_xgb = recall_score(y_teste, predicao_xgb, average='weighted') * 100\n",
        "f1_xgb = f1_score(y_teste, predicao_xgb, average='weighted') * 100\n",
        "print(f'Acurácia: {acuracia_xgb:.2f}')\n",
        "print(f'Precisão Média: {precisao_xgb:.2f}')\n",
        "print(f'Revocação Média: {revocacao_xgb:.2f}')\n",
        "print(f'F1 Média: {f1_xgb:.2f}')"
      ]
    },
    {
      "cell_type": "markdown",
      "metadata": {
        "id": "1qdPITzrPs7D"
      },
      "source": [
        "# Resultados"
      ]
    },
    {
      "cell_type": "markdown",
      "metadata": {
        "id": "8T12-lmvfhYH"
      },
      "source": [
        "## Acurácia"
      ]
    },
    {
      "cell_type": "code",
      "source": [
        "round(acuracia_svm, 2), round(acuracia_arvore_decisao, 2), round(acuracia_naive_bayes, 2), round(acuracia_xgb, 2)"
      ],
      "metadata": {
        "colab": {
          "base_uri": "https://localhost:8080/"
        },
        "id": "0BTGOfsp8Ky2",
        "outputId": "675373da-4ac0-4f8e-f9b2-de4386009f58"
      },
      "execution_count": null,
      "outputs": [
        {
          "output_type": "execute_result",
          "data": {
            "text/plain": [
              "(98.39, 98.89, 95.98, 98.79)"
            ]
          },
          "metadata": {},
          "execution_count": 102
        }
      ]
    },
    {
      "cell_type": "code",
      "execution_count": null,
      "metadata": {
        "colab": {
          "base_uri": "https://localhost:8080/",
          "height": 485
        },
        "id": "yIkqv_ihfoei",
        "outputId": "19a1e8d0-2b02-4833-bd92-ceeb5fcb7a35"
      },
      "outputs": [
        {
          "output_type": "display_data",
          "data": {
            "text/plain": [
              "<Figure size 640x480 with 1 Axes>"
            ],
            "image/png": "[encoded data removed]"
          },
          "metadata": {}
        }
      ],
      "source": [
        "plt.style.use('classic')\n",
        "modelos = ['SVM', 'Árvore\\nde Decisão', 'Naive\\nBayes', 'XGBoost']\n",
        "\n",
        "figure_acuracia, ax_acuracia = plt.subplots()\n",
        "plt.title('Acurácia dos modelos')\n",
        "ax_acuracia.bar(2 - 0.2, acuracia_svm, label='SVM')\n",
        "plt.text(1.6, acuracia_svm + 0.5, round(acuracia_svm, 2))\n",
        "ax_acuracia.bar(3 + 0.2, acuracia_arvore_decisao, label='Árvore de Decisão')\n",
        "plt.text(3, acuracia_arvore_decisao + 0.5, round(acuracia_arvore_decisao, 2))\n",
        "ax_acuracia.bar(5 - 0.2, acuracia_naive_bayes, label='Naive Bayes')\n",
        "plt.text(4.6, acuracia_naive_bayes + 0.5, round(acuracia_naive_bayes, 2))\n",
        "ax_acuracia.bar(6 + 0.2, acuracia_xgb, label='XGBoost')\n",
        "plt.text(6, acuracia_xgb + 0.5, round(acuracia_xgb, 2))\n",
        "plt.xticks([1.8, 3.2, 4.8, 6.2], modelos)\n",
        "plt.xlabel('Modelos')\n",
        "ax_acuracia.set_ylabel('Acurácia')\n",
        "ax_acuracia.set_ylim([70, 102])\n",
        "plt.legend(loc='lower right')\n",
        "\n",
        "plt.savefig('Resultados - Acurácia.png')\n",
        "\n",
        "plt.show();"
      ]
    },
    {
      "cell_type": "markdown",
      "metadata": {
        "id": "qjStbNryhyc3"
      },
      "source": [
        "## Precisão"
      ]
    },
    {
      "cell_type": "code",
      "source": [
        "round(precisao_svm, 2), round(precisao_arvore_decisao, 2), round(precisao_naive_bayes, 2), round(precisao_xgb, 2)"
      ],
      "metadata": {
        "colab": {
          "base_uri": "https://localhost:8080/"
        },
        "id": "6HaIDt1LEQow",
        "outputId": "51b14a92-ff9f-4ab9-feb2-8c19a835cbae"
      },
      "execution_count": null,
      "outputs": [
        {
          "output_type": "execute_result",
          "data": {
            "text/plain": [
              "(98.25, 99.06, 95.07, 98.79)"
            ]
          },
          "metadata": {},
          "execution_count": 104
        }
      ]
    },
    {
      "cell_type": "code",
      "execution_count": null,
      "metadata": {
        "colab": {
          "base_uri": "https://localhost:8080/",
          "height": 485
        },
        "id": "pYfk-xuQh32G",
        "outputId": "f5635061-1e35-4134-a9c7-69b4ec8283f9"
      },
      "outputs": [
        {
          "output_type": "display_data",
          "data": {
            "text/plain": [
              "<Figure size 640x480 with 1 Axes>"
            ],
            "image/png": "[encoded data removed]"
          },
          "metadata": {}
        }
      ],
      "source": [
        "figure_acuracia, ax_precisao = plt.subplots()\n",
        "plt.title('Precisões dos modelos')\n",
        "ax_precisao.bar(2 - 0.2, precisao_svm, label='SVM')\n",
        "plt.text(1.6, precisao_svm + 0.5, round(precisao_svm, 2))\n",
        "ax_precisao.bar(3 + 0.2, precisao_arvore_decisao, label='Árvore de Decisão')\n",
        "plt.text(3, precisao_arvore_decisao + 0.5, round(precisao_arvore_decisao, 2))\n",
        "ax_precisao.bar(5 - 0.2, precisao_naive_bayes, label='Naive Bayes')\n",
        "plt.text(4.6, precisao_naive_bayes + 0.5, round(precisao_naive_bayes, 2))\n",
        "ax_precisao.bar(6 + 0.2, precisao_xgb, label='XGBoost')\n",
        "plt.text(6, precisao_xgb + 0.5, round(precisao_xgb, 2))\n",
        "plt.xticks([1.8, 3.2, 4.8, 6.2], modelos)\n",
        "ax_precisao.set_xlabel('Modelos')\n",
        "ax_precisao.set_ylabel('Precisão Média')\n",
        "ax_precisao.set_ylim([70, 102])\n",
        "plt.legend(loc='lower right')\n",
        "\n",
        "plt.savefig('Resultados - Precisão.png')\n",
        "\n",
        "plt.show()"
      ]
    },
    {
      "cell_type": "markdown",
      "metadata": {
        "id": "EKUVoK6kHbIV"
      },
      "source": [
        "## Revocação"
      ]
    },
    {
      "cell_type": "code",
      "source": [
        "round(revocacao_svm, 2), round(revocacao_arvore_decisao, 2), round(revocacao_naive_bayes, 2), round(revocacao_xgb, 2)"
      ],
      "metadata": {
        "colab": {
          "base_uri": "https://localhost:8080/"
        },
        "id": "R0c0T0xACbdB",
        "outputId": "c737e4ea-df7d-4c06-849b-30850648cefd"
      },
      "execution_count": null,
      "outputs": [
        {
          "output_type": "execute_result",
          "data": {
            "text/plain": [
              "(98.39, 98.89, 95.98, 98.79)"
            ]
          },
          "metadata": {},
          "execution_count": 106
        }
      ]
    },
    {
      "cell_type": "code",
      "execution_count": null,
      "metadata": {
        "colab": {
          "base_uri": "https://localhost:8080/",
          "height": 485
        },
        "id": "Vv8bqvY_HVVH",
        "outputId": "f82b7446-7cbe-46da-d50f-8b63195837b6"
      },
      "outputs": [
        {
          "output_type": "display_data",
          "data": {
            "text/plain": [
              "<Figure size 640x480 with 1 Axes>"
            ],
            "image/png": "[encoded data removed]"
          },
          "metadata": {}
        }
      ],
      "source": [
        "figure_acuracia, ax_revocacao = plt.subplots()\n",
        "plt.title('Revocação dos modelos')\n",
        "ax_revocacao.bar(2 - 0.2, revocacao_svm, label='SVM')\n",
        "plt.text(1.6, revocacao_svm + 0.5, round(revocacao_svm, 2))\n",
        "ax_revocacao.bar(3 + 0.2, revocacao_arvore_decisao, label='Árvore de Decisão')\n",
        "plt.text(3, revocacao_arvore_decisao + 0.5, round(revocacao_arvore_decisao, 2))\n",
        "ax_revocacao.bar(5 - 0.2, revocacao_naive_bayes, label='Naive Bayes')\n",
        "plt.text(4.6, revocacao_naive_bayes + 0.5, round(revocacao_naive_bayes, 2))\n",
        "ax_revocacao.bar(6 + 0.2, revocacao_xgb, label='XGBoost')\n",
        "plt.text(6, revocacao_xgb + 0.5, round(revocacao_xgb, 2))\n",
        "plt.xticks([1.8, 3.2, 4.8, 6.2], modelos)\n",
        "ax_revocacao.set_xlabel('Modelos')\n",
        "ax_revocacao.set_ylabel('Revocação Média')\n",
        "ax_revocacao.set_ylim([70, 102])\n",
        "plt.legend(loc='lower right')\n",
        "\n",
        "plt.savefig('Resultados - Revocação.png')\n",
        "\n",
        "plt.show()"
      ]
    },
    {
      "cell_type": "markdown",
      "source": [
        "## Tempo de Treinamento"
      ],
      "metadata": {
        "id": "kS6IzL46nRwq"
      }
    },
    {
      "cell_type": "code",
      "source": [
        "round(validacao_cruzada_arvore_decisao['fit_time'].mean(), 3), round(validacao_cruzada_naive_bayes['fit_time'].mean(), 3), round(validacao_cruzada_svm['fit_time'].mean(), 3), round(validacao_cruzada['fit_time'].mean(), 3)"
      ],
      "metadata": {
        "colab": {
          "base_uri": "https://localhost:8080/"
        },
        "id": "_BnuD2IKr4qu",
        "outputId": "cec95872-1ec6-4785-d24a-460ab25af033"
      },
      "execution_count": null,
      "outputs": [
        {
          "output_type": "execute_result",
          "data": {
            "text/plain": [
              "(0.012, 0.012, 0.022, 1.785)"
            ]
          },
          "metadata": {},
          "execution_count": 109
        }
      ]
    },
    {
      "cell_type": "code",
      "source": [
        "figure_acuracia, ax_tempo = plt.subplots()\n",
        "plt.title('Tempo de treinamento dos modelos')\n",
        "ax_tempo.bar(2 - 0.2, validacao_cruzada_svm['fit_time'].mean(), label='SVM')\n",
        "plt.text(1.6, validacao_cruzada_svm['fit_time'].mean() + 0.05, round(validacao_cruzada_svm['fit_time'].mean(), 4))\n",
        "ax_tempo.bar(3 + 0.2, validacao_cruzada_arvore_decisao['fit_time'].mean(), label='Árvore de Decisão')\n",
        "plt.text(3, validacao_cruzada_arvore_decisao['fit_time'].mean() + 0.05, round(validacao_cruzada_arvore_decisao['fit_time'].mean(), 3))\n",
        "ax_tempo.bar(5 - 0.2, validacao_cruzada_naive_bayes['fit_time'].mean(), label='Naive Bayes')\n",
        "plt.text(4.6, validacao_cruzada_naive_bayes['fit_time'].mean() + 0.05, round(validacao_cruzada_naive_bayes['fit_time'].mean(), 3))\n",
        "ax_tempo.bar(6 + 0.2, validacao_cruzada['fit_time'].mean(), label='XGBoost')\n",
        "plt.text(6, validacao_cruzada['fit_time'].mean() + 0.05, round(validacao_cruzada['fit_time'].mean(), 3))\n",
        "plt.xticks([1.8, 3.2, 4.8, 6.2], modelos)\n",
        "ax_tempo.set_xlabel('Modelos')\n",
        "ax_tempo.set_ylabel('Tempo (segundos)')\n",
        "ax_tempo.set_ylim([0, 2])\n",
        "plt.legend(loc='upper left')\n",
        "\n",
        "plt.savefig('Resultados - Tempo de Treinamento.png')\n",
        "\n",
        "plt.show()"
      ],
      "metadata": {
        "colab": {
          "base_uri": "https://localhost:8080/",
          "height": 485
        },
        "id": "zo6lTSvYnQ_p",
        "outputId": "3c4eb5a0-ef5c-4a27-ff13-313cb71269a8"
      },
      "execution_count": null,
      "outputs": [
        {
          "output_type": "display_data",
          "data": {
            "text/plain": [
              "<Figure size 640x480 with 1 Axes>"
            ],
            "image/png": "[encoded data removed]"
          },
          "metadata": {}
        }
      ]
    }
  ],
  "metadata": {
    "colab": {
      "collapsed_sections": [
        "wbdQ_6mM32-g",
        "IeHn0uUp36sY",
        "xiecFpJr4B3J"
      ],
      "name": "Cópia de Artigo - 4 modelos.ipynb",
      "provenance": [],
      "mount_file_id": "1YpUx8v--OmJDSdbHZHOrMR2AUkXcmtLJ",
      "authorship_tag": "ABX9TyNcr3sDUpIeimz4W+hFDGhv"
    },
    "kernelspec": {
      "display_name": "Python 3",
      "name": "python3"
    },
    "language_info": {
      "name": "python"
    }
  },
  "nbformat": 4,
  "nbformat_minor": 0
}