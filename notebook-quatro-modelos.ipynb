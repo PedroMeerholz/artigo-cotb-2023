{
  "cells": [
    {
      "cell_type": "markdown",
      "metadata": {
        "id": "wbdQ_6mM32-g"
      },
      "source": [
        "# Importação das bibliotecas"
      ]
    },
    {
      "cell_type": "code",
      "execution_count": null,
      "metadata": {
        "id": "DdvudjHd3q_d"
      },
      "outputs": [],
      "source": [
        "import matplotlib.pyplot as plt\n",
        "import numpy as np\n",
        "import pandas as pd\n",
        "import seaborn as sns\n",
        "from sklearn.metrics import accuracy_score\n",
        "from sklearn.metrics import f1_score\n",
        "from sklearn.metrics import precision_score\n",
        "from sklearn.metrics import recall_score\n",
        "from sklearn.metrics import classification_report\n",
        "from sklearn.model_selection import cross_validate\n",
        "from sklearn.model_selection import cross_val_score\n",
        "from sklearn.model_selection import GridSearchCV\n",
        "from sklearn.model_selection import RandomizedSearchCV\n",
        "from sklearn.model_selection import train_test_split\n",
        "from sklearn.naive_bayes import GaussianNB\n",
        "from sklearn.preprocessing import MinMaxScaler\n",
        "from sklearn.svm import SVC\n",
        "from sklearn.tree import DecisionTreeClassifier\n",
        "from xgboost import XGBClassifier"
      ]
    },
    {
      "cell_type": "markdown",
      "metadata": {
        "id": "IeHn0uUp36sY"
      },
      "source": [
        "# Importação do dataset"
      ]
    },
    {
      "cell_type": "code",
      "execution_count": null,
      "metadata": {
        "colab": {
          "base_uri": "https://localhost:8080/"
        },
        "id": "y1GsxoH438a7",
        "outputId": "1b876e33-cc75-45f2-e8d7-b72e3190f0bc"
      },
      "outputs": [
        {
          "output_type": "execute_result",
          "data": {
            "text/plain": [
              "   UDI Product ID Type  Air temperature [K]  Process temperature [K]  \\\n",
              "0    1     M14860    M                298.1                    308.6   \n",
              "1    2     L47181    L                298.2                    308.7   \n",
              "2    3     L47182    L                298.1                    308.5   \n",
              "3    4     L47183    L                298.2                    308.6   \n",
              "4    5     L47184    L                298.2                    308.7   \n",
              "\n",
              "   Rotational speed [rpm]  Torque [Nm]  Tool wear [min]  Target Failure Type  \n",
              "0                    1551         42.8                0       0   No Failure  \n",
              "1                    1408         46.3                3       0   No Failure  \n",
              "2                    1498         49.4                5       0   No Failure  \n",
              "3                    1433         39.5                7       0   No Failure  \n",
              "4                    1408         40.0                9       0   No Failure  "
            ],
            "text/html": [
              "\n",
              "  <div id=\"df-4f61051a-c27f-41ae-a3aa-8fd98e87e79d\">\n",
              "    <div class=\"colab-df-container\">\n",
              "      <div>\n",
              "<style scoped>\n",
              "    .dataframe tbody tr th:only-of-type {\n",
              "        vertical-align: middle;\n",
              "    }\n",
              "\n",
              "    .dataframe tbody tr th {\n",
              "        vertical-align: top;\n",
              "    }\n",
              "\n",
              "    .dataframe thead th {\n",
              "        text-align: right;\n",
              "    }\n",
              "</style>\n",
              "<table border=\"1\" class=\"dataframe\">\n",
              "  <thead>\n",
              "    <tr style=\"text-align: right;\">\n",
              "      <th></th>\n",
              "      <th>UDI</th>\n",
              "      <th>Product ID</th>\n",
              "      <th>Type</th>\n",
              "      <th>Air temperature [K]</th>\n",
              "      <th>Process temperature [K]</th>\n",
              "      <th>Rotational speed [rpm]</th>\n",
              "      <th>Torque [Nm]</th>\n",
              "      <th>Tool wear [min]</th>\n",
              "      <th>Target</th>\n",
              "      <th>Failure Type</th>\n",
              "    </tr>\n",
              "  </thead>\n",
              "  <tbody>\n",
              "    <tr>\n",
              "      <th>0</th>\n",
              "      <td>1</td>\n",
              "      <td>M14860</td>\n",
              "      <td>M</td>\n",
              "      <td>298.1</td>\n",
              "      <td>308.6</td>\n",
              "      <td>1551</td>\n",
              "      <td>42.8</td>\n",
              "      <td>0</td>\n",
              "      <td>0</td>\n",
              "      <td>No Failure</td>\n",
              "    </tr>\n",
              "    <tr>\n",
              "      <th>1</th>\n",
              "      <td>2</td>\n",
              "      <td>L47181</td>\n",
              "      <td>L</td>\n",
              "      <td>298.2</td>\n",
              "      <td>308.7</td>\n",
              "      <td>1408</td>\n",
              "      <td>46.3</td>\n",
              "      <td>3</td>\n",
              "      <td>0</td>\n",
              "      <td>No Failure</td>\n",
              "    </tr>\n",
              "    <tr>\n",
              "      <th>2</th>\n",
              "      <td>3</td>\n",
              "      <td>L47182</td>\n",
              "      <td>L</td>\n",
              "      <td>298.1</td>\n",
              "      <td>308.5</td>\n",
              "      <td>1498</td>\n",
              "      <td>49.4</td>\n",
              "      <td>5</td>\n",
              "      <td>0</td>\n",
              "      <td>No Failure</td>\n",
              "    </tr>\n",
              "    <tr>\n",
              "      <th>3</th>\n",
              "      <td>4</td>\n",
              "      <td>L47183</td>\n",
              "      <td>L</td>\n",
              "      <td>298.2</td>\n",
              "      <td>308.6</td>\n",
              "      <td>1433</td>\n",
              "      <td>39.5</td>\n",
              "      <td>7</td>\n",
              "      <td>0</td>\n",
              "      <td>No Failure</td>\n",
              "    </tr>\n",
              "    <tr>\n",
              "      <th>4</th>\n",
              "      <td>5</td>\n",
              "      <td>L47184</td>\n",
              "      <td>L</td>\n",
              "      <td>298.2</td>\n",
              "      <td>308.7</td>\n",
              "      <td>1408</td>\n",
              "      <td>40.0</td>\n",
              "      <td>9</td>\n",
              "      <td>0</td>\n",
              "      <td>No Failure</td>\n",
              "    </tr>\n",
              "  </tbody>\n",
              "</table>\n",
              "</div>\n",
              "      <button class=\"colab-df-convert\" onclick=\"convertToInteractive('df-4f61051a-c27f-41ae-a3aa-8fd98e87e79d')\"\n",
              "              title=\"Convert this dataframe to an interactive table.\"\n",
              "              style=\"display:none;\">\n",
              "        \n",
              "  <svg xmlns=\"http://www.w3.org/2000/svg\" height=\"24px\"viewBox=\"0 0 24 24\"\n",
              "       width=\"24px\">\n",
              "    <path d=\"M0 0h24v24H0V0z\" fill=\"none\"/>\n",
              "    <path d=\"M18.56 5.44l.94 2.06.94-2.06 2.06-.94-2.06-.94-.94-2.06-.94 2.06-2.06.94zm-11 1L8.5 8.5l.94-2.06 2.06-.94-2.06-.94L8.5 2.5l-.94 2.06-2.06.94zm10 10l.94 2.06.94-2.06 2.06-.94-2.06-.94-.94-2.06-.94 2.06-2.06.94z\"/><path d=\"M17.41 7.96l-1.37-1.37c-.4-.4-.92-.59-1.43-.59-.52 0-1.04.2-1.43.59L10.3 9.45l-7.72 7.72c-.78.78-.78 2.05 0 2.83L4 21.41c.39.39.9.59 1.41.59.51 0 1.02-.2 1.41-.59l7.78-7.78 2.81-2.81c.8-.78.8-2.07 0-2.86zM5.41 20L4 18.59l7.72-7.72 1.47 1.35L5.41 20z\"/>\n",
              "  </svg>\n",
              "      </button>\n",
              "      \n",
              "  <style>\n",
              "    .colab-df-container {\n",
              "      display:flex;\n",
              "      flex-wrap:wrap;\n",
              "      gap: 12px;\n",
              "    }\n",
              "\n",
              "    .colab-df-convert {\n",
              "      background-color: #E8F0FE;\n",
              "      border: none;\n",
              "      border-radius: 50%;\n",
              "      cursor: pointer;\n",
              "      display: none;\n",
              "      fill: #1967D2;\n",
              "      height: 32px;\n",
              "      padding: 0 0 0 0;\n",
              "      width: 32px;\n",
              "    }\n",
              "\n",
              "    .colab-df-convert:hover {\n",
              "      background-color: #E2EBFA;\n",
              "      box-shadow: 0px 1px 2px rgba(60, 64, 67, 0.3), 0px 1px 3px 1px rgba(60, 64, 67, 0.15);\n",
              "      fill: #174EA6;\n",
              "    }\n",
              "\n",
              "    [theme=dark] .colab-df-convert {\n",
              "      background-color: #3B4455;\n",
              "      fill: #D2E3FC;\n",
              "    }\n",
              "\n",
              "    [theme=dark] .colab-df-convert:hover {\n",
              "      background-color: #434B5C;\n",
              "      box-shadow: 0px 1px 3px 1px rgba(0, 0, 0, 0.15);\n",
              "      filter: drop-shadow(0px 1px 2px rgba(0, 0, 0, 0.3));\n",
              "      fill: #FFFFFF;\n",
              "    }\n",
              "  </style>\n",
              "\n",
              "      <script>\n",
              "        const buttonEl =\n",
              "          document.querySelector('#df-4f61051a-c27f-41ae-a3aa-8fd98e87e79d button.colab-df-convert');\n",
              "        buttonEl.style.display =\n",
              "          google.colab.kernel.accessAllowed ? 'block' : 'none';\n",
              "\n",
              "        async function convertToInteractive(key) {\n",
              "          const element = document.querySelector('#df-4f61051a-c27f-41ae-a3aa-8fd98e87e79d');\n",
              "          const dataTable =\n",
              "            await google.colab.kernel.invokeFunction('convertToInteractive',\n",
              "                                                     [key], {});\n",
              "          if (!dataTable) return;\n",
              "\n",
              "          const docLinkHtml = 'Like what you see? Visit the ' +\n",
              "            '<a target=\"_blank\" href=https://colab.research.google.com/notebooks/data_table.ipynb>data table notebook</a>'\n",
              "            + ' to learn more about interactive tables.';\n",
              "          element.innerHTML = '';\n",
              "          dataTable['output_type'] = 'display_data';\n",
              "          await google.colab.output.renderOutput(dataTable, element);\n",
              "          const docLink = document.createElement('div');\n",
              "          docLink.innerHTML = docLinkHtml;\n",
              "          element.appendChild(docLink);\n",
              "        }\n",
              "      </script>\n",
              "    </div>\n",
              "  </div>\n",
              "  "
            ]
          },
          "metadata": {},
          "execution_count": 3
        }
      ],
      "source": [
        "tabela = pd.read_csv('/content/drive/MyDrive/Projeto de Pesquisa/Artigo/dataset/predictive_maintenance.csv')\n",
        "tabela.head()"
      ]
    },
    {
      "cell_type": "code",
      "execution_count": null,
      "metadata": {
        "colab": {
          "base_uri": "https://localhost:8080/"
        },
        "id": "V8guDe5UHotr",
        "outputId": "f5d761a4-940f-4e32-faf0-5d596713c7a4"
      },
      "outputs": [
        {
          "output_type": "stream",
          "name": "stdout",
          "text": [
            "<class 'pandas.core.frame.DataFrame'>\n",
            "RangeIndex: 10000 entries, 0 to 9999\n",
            "Data columns (total 10 columns):\n",
            " #   Column                   Non-Null Count  Dtype  \n",
            "---  ------                   --------------  -----  \n",
            " 0   UDI                      10000 non-null  int64  \n",
            " 1   Product ID               10000 non-null  object \n",
            " 2   Type                     10000 non-null  object \n",
            " 3   Air temperature [K]      10000 non-null  float64\n",
            " 4   Process temperature [K]  10000 non-null  float64\n",
            " 5   Rotational speed [rpm]   10000 non-null  int64  \n",
            " 6   Torque [Nm]              10000 non-null  float64\n",
            " 7   Tool wear [min]          10000 non-null  int64  \n",
            " 8   Target                   10000 non-null  int64  \n",
            " 9   Failure Type             10000 non-null  object \n",
            "dtypes: float64(3), int64(4), object(3)\n",
            "memory usage: 781.4+ KB\n"
          ]
        }
      ],
      "source": [
        "tabela.info()"
      ]
    },
    {
      "cell_type": "code",
      "execution_count": null,
      "metadata": {
        "colab": {
          "base_uri": "https://localhost:8080/"
        },
        "id": "QEqc3SDZM1sC",
        "outputId": "336a60d3-dbd0-4da8-93fc-d53b8645fff7"
      },
      "outputs": [
        {
          "output_type": "execute_result",
          "data": {
            "text/plain": [
              "No Failure                  9652\n",
              "Heat Dissipation Failure     112\n",
              "Power Failure                 95\n",
              "Overstrain Failure            78\n",
              "Tool Wear Failure             45\n",
              "Random Failures               18\n",
              "Name: Failure Type, dtype: int64"
            ]
          },
          "metadata": {},
          "execution_count": 5
        }
      ],
      "source": [
        "tabela['Failure Type'].value_counts()"
      ]
    },
    {
      "cell_type": "markdown",
      "metadata": {
        "id": "cataWlpy388N"
      },
      "source": [
        "# Proposta"
      ]
    },
    {
      "cell_type": "markdown",
      "metadata": {
        "id": "xiecFpJr4B3J"
      },
      "source": [
        "## Pré-processamento"
      ]
    },
    {
      "cell_type": "code",
      "execution_count": null,
      "metadata": {
        "colab": {
          "base_uri": "https://localhost:8080/"
        },
        "id": "MqaOQa0jAI7P",
        "outputId": "8ff7a6b4-3c2e-4369-93e3-cc5ab810d36c"
      },
      "outputs": [
        {
          "output_type": "execute_result",
          "data": {
            "text/plain": [
              "No Failure                  9652\n",
              "Heat Dissipation Failure     112\n",
              "Power Failure                 95\n",
              "Overstrain Failure            78\n",
              "Tool Wear Failure             45\n",
              "Random Failures               18\n",
              "Name: Failure Type, dtype: int64"
            ]
          },
          "metadata": {},
          "execution_count": 6
        }
      ],
      "source": [
        "tabela['Failure Type'].value_counts()"
      ]
    },
    {
      "cell_type": "code",
      "execution_count": null,
      "metadata": {
        "colab": {
          "base_uri": "https://localhost:8080/"
        },
        "id": "Y5mt0_Wh7vDB",
        "outputId": "9e21d846-59c6-40b6-97a1-532948ab410d"
      },
      "outputs": [
        {
          "output_type": "execute_result",
          "data": {
            "text/plain": [
              "No Failure                  9652\n",
              "Heat Dissipation Failure     112\n",
              "Power Failure                 95\n",
              "Overstrain Failure            78\n",
              "Name: Failure Type, dtype: int64"
            ]
          },
          "metadata": {},
          "execution_count": 7
        }
      ],
      "source": [
        "falhas_aleatorias = tabela[tabela['Failure Type'] == 'Random Failures'].index\n",
        "falha_de_desgaste_de_ferramenta = tabela[tabela['Failure Type'] == 'Tool Wear Failure'].index\n",
        "\n",
        "tabela = tabela.drop(falhas_aleatorias, axis=0)\n",
        "tabela = tabela.drop(falha_de_desgaste_de_ferramenta, axis=0)\n",
        "\n",
        "tabela['Failure Type'].value_counts()"
      ]
    },
    {
      "cell_type": "code",
      "execution_count": null,
      "metadata": {
        "colab": {
          "base_uri": "https://localhost:8080/",
          "height": 206
        },
        "id": "-XhbCvQ94BMS",
        "outputId": "b84bb16e-24cb-48fb-a5ab-cd52fd2943e6"
      },
      "outputs": [
        {
          "output_type": "execute_result",
          "data": {
            "text/plain": [
              "  Type  Air temperature [K]  Process temperature [K]  Rotational speed [rpm]  \\\n",
              "0    M                298.1                    308.6                    1551   \n",
              "1    L                298.2                    308.7                    1408   \n",
              "2    L                298.1                    308.5                    1498   \n",
              "3    L                298.2                    308.6                    1433   \n",
              "4    L                298.2                    308.7                    1408   \n",
              "\n",
              "   Torque [Nm]  Tool wear [min]  Target  \n",
              "0         42.8                0       0  \n",
              "1         46.3                3       0  \n",
              "2         49.4                5       0  \n",
              "3         39.5                7       0  \n",
              "4         40.0                9       0  "
            ],
            "text/html": [
              "\n",
              "  <div id=\"df-fac0a093-b22b-4054-83a9-8573284d7fcf\">\n",
              "    <div class=\"colab-df-container\">\n",
              "      <div>\n",
              "<style scoped>\n",
              "    .dataframe tbody tr th:only-of-type {\n",
              "        vertical-align: middle;\n",
              "    }\n",
              "\n",
              "    .dataframe tbody tr th {\n",
              "        vertical-align: top;\n",
              "    }\n",
              "\n",
              "    .dataframe thead th {\n",
              "        text-align: right;\n",
              "    }\n",
              "</style>\n",
              "<table border=\"1\" class=\"dataframe\">\n",
              "  <thead>\n",
              "    <tr style=\"text-align: right;\">\n",
              "      <th></th>\n",
              "      <th>Type</th>\n",
              "      <th>Air temperature [K]</th>\n",
              "      <th>Process temperature [K]</th>\n",
              "      <th>Rotational speed [rpm]</th>\n",
              "      <th>Torque [Nm]</th>\n",
              "      <th>Tool wear [min]</th>\n",
              "      <th>Target</th>\n",
              "    </tr>\n",
              "  </thead>\n",
              "  <tbody>\n",
              "    <tr>\n",
              "      <th>0</th>\n",
              "      <td>M</td>\n",
              "      <td>298.1</td>\n",
              "      <td>308.6</td>\n",
              "      <td>1551</td>\n",
              "      <td>42.8</td>\n",
              "      <td>0</td>\n",
              "      <td>0</td>\n",
              "    </tr>\n",
              "    <tr>\n",
              "      <th>1</th>\n",
              "      <td>L</td>\n",
              "      <td>298.2</td>\n",
              "      <td>308.7</td>\n",
              "      <td>1408</td>\n",
              "      <td>46.3</td>\n",
              "      <td>3</td>\n",
              "      <td>0</td>\n",
              "    </tr>\n",
              "    <tr>\n",
              "      <th>2</th>\n",
              "      <td>L</td>\n",
              "      <td>298.1</td>\n",
              "      <td>308.5</td>\n",
              "      <td>1498</td>\n",
              "      <td>49.4</td>\n",
              "      <td>5</td>\n",
              "      <td>0</td>\n",
              "    </tr>\n",
              "    <tr>\n",
              "      <th>3</th>\n",
              "      <td>L</td>\n",
              "      <td>298.2</td>\n",
              "      <td>308.6</td>\n",
              "      <td>1433</td>\n",
              "      <td>39.5</td>\n",
              "      <td>7</td>\n",
              "      <td>0</td>\n",
              "    </tr>\n",
              "    <tr>\n",
              "      <th>4</th>\n",
              "      <td>L</td>\n",
              "      <td>298.2</td>\n",
              "      <td>308.7</td>\n",
              "      <td>1408</td>\n",
              "      <td>40.0</td>\n",
              "      <td>9</td>\n",
              "      <td>0</td>\n",
              "    </tr>\n",
              "  </tbody>\n",
              "</table>\n",
              "</div>\n",
              "      <button class=\"colab-df-convert\" onclick=\"convertToInteractive('df-fac0a093-b22b-4054-83a9-8573284d7fcf')\"\n",
              "              title=\"Convert this dataframe to an interactive table.\"\n",
              "              style=\"display:none;\">\n",
              "        \n",
              "  <svg xmlns=\"http://www.w3.org/2000/svg\" height=\"24px\"viewBox=\"0 0 24 24\"\n",
              "       width=\"24px\">\n",
              "    <path d=\"M0 0h24v24H0V0z\" fill=\"none\"/>\n",
              "    <path d=\"M18.56 5.44l.94 2.06.94-2.06 2.06-.94-2.06-.94-.94-2.06-.94 2.06-2.06.94zm-11 1L8.5 8.5l.94-2.06 2.06-.94-2.06-.94L8.5 2.5l-.94 2.06-2.06.94zm10 10l.94 2.06.94-2.06 2.06-.94-2.06-.94-.94-2.06-.94 2.06-2.06.94z\"/><path d=\"M17.41 7.96l-1.37-1.37c-.4-.4-.92-.59-1.43-.59-.52 0-1.04.2-1.43.59L10.3 9.45l-7.72 7.72c-.78.78-.78 2.05 0 2.83L4 21.41c.39.39.9.59 1.41.59.51 0 1.02-.2 1.41-.59l7.78-7.78 2.81-2.81c.8-.78.8-2.07 0-2.86zM5.41 20L4 18.59l7.72-7.72 1.47 1.35L5.41 20z\"/>\n",
              "  </svg>\n",
              "      </button>\n",
              "      \n",
              "  <style>\n",
              "    .colab-df-container {\n",
              "      display:flex;\n",
              "      flex-wrap:wrap;\n",
              "      gap: 12px;\n",
              "    }\n",
              "\n",
              "    .colab-df-convert {\n",
              "      background-color: #E8F0FE;\n",
              "      border: none;\n",
              "      border-radius: 50%;\n",
              "      cursor: pointer;\n",
              "      display: none;\n",
              "      fill: #1967D2;\n",
              "      height: 32px;\n",
              "      padding: 0 0 0 0;\n",
              "      width: 32px;\n",
              "    }\n",
              "\n",
              "    .colab-df-convert:hover {\n",
              "      background-color: #E2EBFA;\n",
              "      box-shadow: 0px 1px 2px rgba(60, 64, 67, 0.3), 0px 1px 3px 1px rgba(60, 64, 67, 0.15);\n",
              "      fill: #174EA6;\n",
              "    }\n",
              "\n",
              "    [theme=dark] .colab-df-convert {\n",
              "      background-color: #3B4455;\n",
              "      fill: #D2E3FC;\n",
              "    }\n",
              "\n",
              "    [theme=dark] .colab-df-convert:hover {\n",
              "      background-color: #434B5C;\n",
              "      box-shadow: 0px 1px 3px 1px rgba(0, 0, 0, 0.15);\n",
              "      filter: drop-shadow(0px 1px 2px rgba(0, 0, 0, 0.3));\n",
              "      fill: #FFFFFF;\n",
              "    }\n",
              "  </style>\n",
              "\n",
              "      <script>\n",
              "        const buttonEl =\n",
              "          document.querySelector('#df-fac0a093-b22b-4054-83a9-8573284d7fcf button.colab-df-convert');\n",
              "        buttonEl.style.display =\n",
              "          google.colab.kernel.accessAllowed ? 'block' : 'none';\n",
              "\n",
              "        async function convertToInteractive(key) {\n",
              "          const element = document.querySelector('#df-fac0a093-b22b-4054-83a9-8573284d7fcf');\n",
              "          const dataTable =\n",
              "            await google.colab.kernel.invokeFunction('convertToInteractive',\n",
              "                                                     [key], {});\n",
              "          if (!dataTable) return;\n",
              "\n",
              "          const docLinkHtml = 'Like what you see? Visit the ' +\n",
              "            '<a target=\"_blank\" href=https://colab.research.google.com/notebooks/data_table.ipynb>data table notebook</a>'\n",
              "            + ' to learn more about interactive tables.';\n",
              "          element.innerHTML = '';\n",
              "          dataTable['output_type'] = 'display_data';\n",
              "          await google.colab.output.renderOutput(dataTable, element);\n",
              "          const docLink = document.createElement('div');\n",
              "          docLink.innerHTML = docLinkHtml;\n",
              "          element.appendChild(docLink);\n",
              "        }\n",
              "      </script>\n",
              "    </div>\n",
              "  </div>\n",
              "  "
            ]
          },
          "metadata": {},
          "execution_count": 8
        }
      ],
      "source": [
        "# Remoção de colunas desnecessárias\n",
        "colunas = ['UDI', 'Product ID', 'Failure Type']\n",
        "tabela = tabela.drop(colunas, axis=1)\n",
        "tabela.head()"
      ]
    },
    {
      "cell_type": "code",
      "execution_count": null,
      "metadata": {
        "colab": {
          "base_uri": "https://localhost:8080/",
          "height": 206
        },
        "id": "J9bzLMp1ZHYf",
        "outputId": "11f98bd6-fed5-436d-824e-0d4d34c258bf"
      },
      "outputs": [
        {
          "output_type": "execute_result",
          "data": {
            "text/plain": [
              "   H  L  M  Air Temperature  Process Temperature  Rotational Speed  Torque  \\\n",
              "0  0  0  1            298.1                308.6              1551    42.8   \n",
              "1  0  1  0            298.2                308.7              1408    46.3   \n",
              "2  0  1  0            298.1                308.5              1498    49.4   \n",
              "3  0  1  0            298.2                308.6              1433    39.5   \n",
              "4  0  1  0            298.2                308.7              1408    40.0   \n",
              "\n",
              "   Tool Wear  Target  \n",
              "0          0       0  \n",
              "1          3       0  \n",
              "2          5       0  \n",
              "3          7       0  \n",
              "4          9       0  "
            ],
            "text/html": [
              "\n",
              "  <div id=\"df-1cbfa12c-92e5-4f89-8f68-bbe7619b3fb5\">\n",
              "    <div class=\"colab-df-container\">\n",
              "      <div>\n",
              "<style scoped>\n",
              "    .dataframe tbody tr th:only-of-type {\n",
              "        vertical-align: middle;\n",
              "    }\n",
              "\n",
              "    .dataframe tbody tr th {\n",
              "        vertical-align: top;\n",
              "    }\n",
              "\n",
              "    .dataframe thead th {\n",
              "        text-align: right;\n",
              "    }\n",
              "</style>\n",
              "<table border=\"1\" class=\"dataframe\">\n",
              "  <thead>\n",
              "    <tr style=\"text-align: right;\">\n",
              "      <th></th>\n",
              "      <th>H</th>\n",
              "      <th>L</th>\n",
              "      <th>M</th>\n",
              "      <th>Air Temperature</th>\n",
              "      <th>Process Temperature</th>\n",
              "      <th>Rotational Speed</th>\n",
              "      <th>Torque</th>\n",
              "      <th>Tool Wear</th>\n",
              "      <th>Target</th>\n",
              "    </tr>\n",
              "  </thead>\n",
              "  <tbody>\n",
              "    <tr>\n",
              "      <th>0</th>\n",
              "      <td>0</td>\n",
              "      <td>0</td>\n",
              "      <td>1</td>\n",
              "      <td>298.1</td>\n",
              "      <td>308.6</td>\n",
              "      <td>1551</td>\n",
              "      <td>42.8</td>\n",
              "      <td>0</td>\n",
              "      <td>0</td>\n",
              "    </tr>\n",
              "    <tr>\n",
              "      <th>1</th>\n",
              "      <td>0</td>\n",
              "      <td>1</td>\n",
              "      <td>0</td>\n",
              "      <td>298.2</td>\n",
              "      <td>308.7</td>\n",
              "      <td>1408</td>\n",
              "      <td>46.3</td>\n",
              "      <td>3</td>\n",
              "      <td>0</td>\n",
              "    </tr>\n",
              "    <tr>\n",
              "      <th>2</th>\n",
              "      <td>0</td>\n",
              "      <td>1</td>\n",
              "      <td>0</td>\n",
              "      <td>298.1</td>\n",
              "      <td>308.5</td>\n",
              "      <td>1498</td>\n",
              "      <td>49.4</td>\n",
              "      <td>5</td>\n",
              "      <td>0</td>\n",
              "    </tr>\n",
              "    <tr>\n",
              "      <th>3</th>\n",
              "      <td>0</td>\n",
              "      <td>1</td>\n",
              "      <td>0</td>\n",
              "      <td>298.2</td>\n",
              "      <td>308.6</td>\n",
              "      <td>1433</td>\n",
              "      <td>39.5</td>\n",
              "      <td>7</td>\n",
              "      <td>0</td>\n",
              "    </tr>\n",
              "    <tr>\n",
              "      <th>4</th>\n",
              "      <td>0</td>\n",
              "      <td>1</td>\n",
              "      <td>0</td>\n",
              "      <td>298.2</td>\n",
              "      <td>308.7</td>\n",
              "      <td>1408</td>\n",
              "      <td>40.0</td>\n",
              "      <td>9</td>\n",
              "      <td>0</td>\n",
              "    </tr>\n",
              "  </tbody>\n",
              "</table>\n",
              "</div>\n",
              "      <button class=\"colab-df-convert\" onclick=\"convertToInteractive('df-1cbfa12c-92e5-4f89-8f68-bbe7619b3fb5')\"\n",
              "              title=\"Convert this dataframe to an interactive table.\"\n",
              "              style=\"display:none;\">\n",
              "        \n",
              "  <svg xmlns=\"http://www.w3.org/2000/svg\" height=\"24px\"viewBox=\"0 0 24 24\"\n",
              "       width=\"24px\">\n",
              "    <path d=\"M0 0h24v24H0V0z\" fill=\"none\"/>\n",
              "    <path d=\"M18.56 5.44l.94 2.06.94-2.06 2.06-.94-2.06-.94-.94-2.06-.94 2.06-2.06.94zm-11 1L8.5 8.5l.94-2.06 2.06-.94-2.06-.94L8.5 2.5l-.94 2.06-2.06.94zm10 10l.94 2.06.94-2.06 2.06-.94-2.06-.94-.94-2.06-.94 2.06-2.06.94z\"/><path d=\"M17.41 7.96l-1.37-1.37c-.4-.4-.92-.59-1.43-.59-.52 0-1.04.2-1.43.59L10.3 9.45l-7.72 7.72c-.78.78-.78 2.05 0 2.83L4 21.41c.39.39.9.59 1.41.59.51 0 1.02-.2 1.41-.59l7.78-7.78 2.81-2.81c.8-.78.8-2.07 0-2.86zM5.41 20L4 18.59l7.72-7.72 1.47 1.35L5.41 20z\"/>\n",
              "  </svg>\n",
              "      </button>\n",
              "      \n",
              "  <style>\n",
              "    .colab-df-container {\n",
              "      display:flex;\n",
              "      flex-wrap:wrap;\n",
              "      gap: 12px;\n",
              "    }\n",
              "\n",
              "    .colab-df-convert {\n",
              "      background-color: #E8F0FE;\n",
              "      border: none;\n",
              "      border-radius: 50%;\n",
              "      cursor: pointer;\n",
              "      display: none;\n",
              "      fill: #1967D2;\n",
              "      height: 32px;\n",
              "      padding: 0 0 0 0;\n",
              "      width: 32px;\n",
              "    }\n",
              "\n",
              "    .colab-df-convert:hover {\n",
              "      background-color: #E2EBFA;\n",
              "      box-shadow: 0px 1px 2px rgba(60, 64, 67, 0.3), 0px 1px 3px 1px rgba(60, 64, 67, 0.15);\n",
              "      fill: #174EA6;\n",
              "    }\n",
              "\n",
              "    [theme=dark] .colab-df-convert {\n",
              "      background-color: #3B4455;\n",
              "      fill: #D2E3FC;\n",
              "    }\n",
              "\n",
              "    [theme=dark] .colab-df-convert:hover {\n",
              "      background-color: #434B5C;\n",
              "      box-shadow: 0px 1px 3px 1px rgba(0, 0, 0, 0.15);\n",
              "      filter: drop-shadow(0px 1px 2px rgba(0, 0, 0, 0.3));\n",
              "      fill: #FFFFFF;\n",
              "    }\n",
              "  </style>\n",
              "\n",
              "      <script>\n",
              "        const buttonEl =\n",
              "          document.querySelector('#df-1cbfa12c-92e5-4f89-8f68-bbe7619b3fb5 button.colab-df-convert');\n",
              "        buttonEl.style.display =\n",
              "          google.colab.kernel.accessAllowed ? 'block' : 'none';\n",
              "\n",
              "        async function convertToInteractive(key) {\n",
              "          const element = document.querySelector('#df-1cbfa12c-92e5-4f89-8f68-bbe7619b3fb5');\n",
              "          const dataTable =\n",
              "            await google.colab.kernel.invokeFunction('convertToInteractive',\n",
              "                                                     [key], {});\n",
              "          if (!dataTable) return;\n",
              "\n",
              "          const docLinkHtml = 'Like what you see? Visit the ' +\n",
              "            '<a target=\"_blank\" href=https://colab.research.google.com/notebooks/data_table.ipynb>data table notebook</a>'\n",
              "            + ' to learn more about interactive tables.';\n",
              "          element.innerHTML = '';\n",
              "          dataTable['output_type'] = 'display_data';\n",
              "          await google.colab.output.renderOutput(dataTable, element);\n",
              "          const docLink = document.createElement('div');\n",
              "          docLink.innerHTML = docLinkHtml;\n",
              "          element.appendChild(docLink);\n",
              "        }\n",
              "      </script>\n",
              "    </div>\n",
              "  </div>\n",
              "  "
            ]
          },
          "metadata": {},
          "execution_count": 9
        }
      ],
      "source": [
        "# Alterando o tipo da coluna Type de categórico para numérico\n",
        "type_columns_converting = pd.get_dummies(data=tabela['Type'])\n",
        "\n",
        "tabela = tabela.assign(H=type_columns_converting['H'],\n",
        "                             L=type_columns_converting['L'],\n",
        "                             M=type_columns_converting['M'])\n",
        "\n",
        "tabela = tabela[['H', 'L', 'M',\n",
        "                 'Air temperature [K]',\n",
        "                 'Process temperature [K]',\n",
        "                 'Rotational speed [rpm]',\n",
        "                 'Torque [Nm]',\n",
        "                 'Tool wear [min]',\n",
        "                 'Target']]\n",
        "\n",
        "tabela.columns = ['H', 'L', 'M',\n",
        "                  'Air Temperature',\n",
        "                  'Process Temperature',\n",
        "                  'Rotational Speed',\n",
        "                  'Torque',\n",
        "                  'Tool Wear',\n",
        "                  'Target']\n",
        "\n",
        "tabela.head()"
      ]
    },
    {
      "cell_type": "code",
      "source": [
        "tabela.describe()"
      ],
      "metadata": {
        "colab": {
          "base_uri": "https://localhost:8080/",
          "height": 362
        },
        "id": "uK4ABfGZjP1G",
        "outputId": "8c796086-f068-440a-d912-c94f9e188cee"
      },
      "execution_count": null,
      "outputs": [
        {
          "output_type": "execute_result",
          "data": {
            "text/plain": [
              "                 H            L            M  Air Temperature  \\\n",
              "count  9937.000000  9937.000000  9937.000000      9937.000000   \n",
              "mean      0.099930     0.600081     0.299990       300.002264   \n",
              "std       0.299921     0.489906     0.458276         2.000662   \n",
              "min       0.000000     0.000000     0.000000       295.300000   \n",
              "25%       0.000000     0.000000     0.000000       298.300000   \n",
              "50%       0.000000     1.000000     0.000000       300.100000   \n",
              "75%       0.000000     1.000000     1.000000       301.500000   \n",
              "max       1.000000     1.000000     1.000000       304.500000   \n",
              "\n",
              "       Process Temperature  Rotational Speed       Torque    Tool Wear  \\\n",
              "count          9937.000000       9937.000000  9937.000000  9937.000000   \n",
              "mean            310.003482       1538.721043    39.993006   107.437557   \n",
              "std               1.483394        179.245643     9.967446    63.363141   \n",
              "min             305.700000       1168.000000     3.800000     0.000000   \n",
              "25%             308.800000       1423.000000    33.200000    53.000000   \n",
              "50%             310.100000       1503.000000    40.100000   107.000000   \n",
              "75%             311.100000       1612.000000    46.800000   162.000000   \n",
              "max             313.800000       2886.000000    76.600000   251.000000   \n",
              "\n",
              "            Target  \n",
              "count  9937.000000  \n",
              "mean      0.029586  \n",
              "std       0.169452  \n",
              "min       0.000000  \n",
              "25%       0.000000  \n",
              "50%       0.000000  \n",
              "75%       0.000000  \n",
              "max       1.000000  "
            ],
            "text/html": [
              "\n",
              "  <div id=\"df-678a25d8-6cde-41f8-aae8-037cf40dd3f0\">\n",
              "    <div class=\"colab-df-container\">\n",
              "      <div>\n",
              "<style scoped>\n",
              "    .dataframe tbody tr th:only-of-type {\n",
              "        vertical-align: middle;\n",
              "    }\n",
              "\n",
              "    .dataframe tbody tr th {\n",
              "        vertical-align: top;\n",
              "    }\n",
              "\n",
              "    .dataframe thead th {\n",
              "        text-align: right;\n",
              "    }\n",
              "</style>\n",
              "<table border=\"1\" class=\"dataframe\">\n",
              "  <thead>\n",
              "    <tr style=\"text-align: right;\">\n",
              "      <th></th>\n",
              "      <th>H</th>\n",
              "      <th>L</th>\n",
              "      <th>M</th>\n",
              "      <th>Air Temperature</th>\n",
              "      <th>Process Temperature</th>\n",
              "      <th>Rotational Speed</th>\n",
              "      <th>Torque</th>\n",
              "      <th>Tool Wear</th>\n",
              "      <th>Target</th>\n",
              "    </tr>\n",
              "  </thead>\n",
              "  <tbody>\n",
              "    <tr>\n",
              "      <th>count</th>\n",
              "      <td>9937.000000</td>\n",
              "      <td>9937.000000</td>\n",
              "      <td>9937.000000</td>\n",
              "      <td>9937.000000</td>\n",
              "      <td>9937.000000</td>\n",
              "      <td>9937.000000</td>\n",
              "      <td>9937.000000</td>\n",
              "      <td>9937.000000</td>\n",
              "      <td>9937.000000</td>\n",
              "    </tr>\n",
              "    <tr>\n",
              "      <th>mean</th>\n",
              "      <td>0.099930</td>\n",
              "      <td>0.600081</td>\n",
              "      <td>0.299990</td>\n",
              "      <td>300.002264</td>\n",
              "      <td>310.003482</td>\n",
              "      <td>1538.721043</td>\n",
              "      <td>39.993006</td>\n",
              "      <td>107.437557</td>\n",
              "      <td>0.029586</td>\n",
              "    </tr>\n",
              "    <tr>\n",
              "      <th>std</th>\n",
              "      <td>0.299921</td>\n",
              "      <td>0.489906</td>\n",
              "      <td>0.458276</td>\n",
              "      <td>2.000662</td>\n",
              "      <td>1.483394</td>\n",
              "      <td>179.245643</td>\n",
              "      <td>9.967446</td>\n",
              "      <td>63.363141</td>\n",
              "      <td>0.169452</td>\n",
              "    </tr>\n",
              "    <tr>\n",
              "      <th>min</th>\n",
              "      <td>0.000000</td>\n",
              "      <td>0.000000</td>\n",
              "      <td>0.000000</td>\n",
              "      <td>295.300000</td>\n",
              "      <td>305.700000</td>\n",
              "      <td>1168.000000</td>\n",
              "      <td>3.800000</td>\n",
              "      <td>0.000000</td>\n",
              "      <td>0.000000</td>\n",
              "    </tr>\n",
              "    <tr>\n",
              "      <th>25%</th>\n",
              "      <td>0.000000</td>\n",
              "      <td>0.000000</td>\n",
              "      <td>0.000000</td>\n",
              "      <td>298.300000</td>\n",
              "      <td>308.800000</td>\n",
              "      <td>1423.000000</td>\n",
              "      <td>33.200000</td>\n",
              "      <td>53.000000</td>\n",
              "      <td>0.000000</td>\n",
              "    </tr>\n",
              "    <tr>\n",
              "      <th>50%</th>\n",
              "      <td>0.000000</td>\n",
              "      <td>1.000000</td>\n",
              "      <td>0.000000</td>\n",
              "      <td>300.100000</td>\n",
              "      <td>310.100000</td>\n",
              "      <td>1503.000000</td>\n",
              "      <td>40.100000</td>\n",
              "      <td>107.000000</td>\n",
              "      <td>0.000000</td>\n",
              "    </tr>\n",
              "    <tr>\n",
              "      <th>75%</th>\n",
              "      <td>0.000000</td>\n",
              "      <td>1.000000</td>\n",
              "      <td>1.000000</td>\n",
              "      <td>301.500000</td>\n",
              "      <td>311.100000</td>\n",
              "      <td>1612.000000</td>\n",
              "      <td>46.800000</td>\n",
              "      <td>162.000000</td>\n",
              "      <td>0.000000</td>\n",
              "    </tr>\n",
              "    <tr>\n",
              "      <th>max</th>\n",
              "      <td>1.000000</td>\n",
              "      <td>1.000000</td>\n",
              "      <td>1.000000</td>\n",
              "      <td>304.500000</td>\n",
              "      <td>313.800000</td>\n",
              "      <td>2886.000000</td>\n",
              "      <td>76.600000</td>\n",
              "      <td>251.000000</td>\n",
              "      <td>1.000000</td>\n",
              "    </tr>\n",
              "  </tbody>\n",
              "</table>\n",
              "</div>\n",
              "      <button class=\"colab-df-convert\" onclick=\"convertToInteractive('df-678a25d8-6cde-41f8-aae8-037cf40dd3f0')\"\n",
              "              title=\"Convert this dataframe to an interactive table.\"\n",
              "              style=\"display:none;\">\n",
              "        \n",
              "  <svg xmlns=\"http://www.w3.org/2000/svg\" height=\"24px\"viewBox=\"0 0 24 24\"\n",
              "       width=\"24px\">\n",
              "    <path d=\"M0 0h24v24H0V0z\" fill=\"none\"/>\n",
              "    <path d=\"M18.56 5.44l.94 2.06.94-2.06 2.06-.94-2.06-.94-.94-2.06-.94 2.06-2.06.94zm-11 1L8.5 8.5l.94-2.06 2.06-.94-2.06-.94L8.5 2.5l-.94 2.06-2.06.94zm10 10l.94 2.06.94-2.06 2.06-.94-2.06-.94-.94-2.06-.94 2.06-2.06.94z\"/><path d=\"M17.41 7.96l-1.37-1.37c-.4-.4-.92-.59-1.43-.59-.52 0-1.04.2-1.43.59L10.3 9.45l-7.72 7.72c-.78.78-.78 2.05 0 2.83L4 21.41c.39.39.9.59 1.41.59.51 0 1.02-.2 1.41-.59l7.78-7.78 2.81-2.81c.8-.78.8-2.07 0-2.86zM5.41 20L4 18.59l7.72-7.72 1.47 1.35L5.41 20z\"/>\n",
              "  </svg>\n",
              "      </button>\n",
              "      \n",
              "  <style>\n",
              "    .colab-df-container {\n",
              "      display:flex;\n",
              "      flex-wrap:wrap;\n",
              "      gap: 12px;\n",
              "    }\n",
              "\n",
              "    .colab-df-convert {\n",
              "      background-color: #E8F0FE;\n",
              "      border: none;\n",
              "      border-radius: 50%;\n",
              "      cursor: pointer;\n",
              "      display: none;\n",
              "      fill: #1967D2;\n",
              "      height: 32px;\n",
              "      padding: 0 0 0 0;\n",
              "      width: 32px;\n",
              "    }\n",
              "\n",
              "    .colab-df-convert:hover {\n",
              "      background-color: #E2EBFA;\n",
              "      box-shadow: 0px 1px 2px rgba(60, 64, 67, 0.3), 0px 1px 3px 1px rgba(60, 64, 67, 0.15);\n",
              "      fill: #174EA6;\n",
              "    }\n",
              "\n",
              "    [theme=dark] .colab-df-convert {\n",
              "      background-color: #3B4455;\n",
              "      fill: #D2E3FC;\n",
              "    }\n",
              "\n",
              "    [theme=dark] .colab-df-convert:hover {\n",
              "      background-color: #434B5C;\n",
              "      box-shadow: 0px 1px 3px 1px rgba(0, 0, 0, 0.15);\n",
              "      filter: drop-shadow(0px 1px 2px rgba(0, 0, 0, 0.3));\n",
              "      fill: #FFFFFF;\n",
              "    }\n",
              "  </style>\n",
              "\n",
              "      <script>\n",
              "        const buttonEl =\n",
              "          document.querySelector('#df-678a25d8-6cde-41f8-aae8-037cf40dd3f0 button.colab-df-convert');\n",
              "        buttonEl.style.display =\n",
              "          google.colab.kernel.accessAllowed ? 'block' : 'none';\n",
              "\n",
              "        async function convertToInteractive(key) {\n",
              "          const element = document.querySelector('#df-678a25d8-6cde-41f8-aae8-037cf40dd3f0');\n",
              "          const dataTable =\n",
              "            await google.colab.kernel.invokeFunction('convertToInteractive',\n",
              "                                                     [key], {});\n",
              "          if (!dataTable) return;\n",
              "\n",
              "          const docLinkHtml = 'Like what you see? Visit the ' +\n",
              "            '<a target=\"_blank\" href=https://colab.research.google.com/notebooks/data_table.ipynb>data table notebook</a>'\n",
              "            + ' to learn more about interactive tables.';\n",
              "          element.innerHTML = '';\n",
              "          dataTable['output_type'] = 'display_data';\n",
              "          await google.colab.output.renderOutput(dataTable, element);\n",
              "          const docLink = document.createElement('div');\n",
              "          docLink.innerHTML = docLinkHtml;\n",
              "          element.appendChild(docLink);\n",
              "        }\n",
              "      </script>\n",
              "    </div>\n",
              "  </div>\n",
              "  "
            ]
          },
          "metadata": {},
          "execution_count": 10
        }
      ]
    },
    {
      "cell_type": "code",
      "execution_count": null,
      "metadata": {
        "id": "HyCnKzb4U1eT"
      },
      "outputs": [],
      "source": [
        "x = tabela.drop('Target', axis=1)\n",
        "y = tabela['Target']"
      ]
    },
    {
      "cell_type": "code",
      "execution_count": null,
      "metadata": {
        "colab": {
          "base_uri": "https://localhost:8080/",
          "height": 362
        },
        "id": "Qmol1b3z7Xsk",
        "outputId": "237ad27b-daf9-4415-b577-2320f983ba06"
      },
      "outputs": [
        {
          "output_type": "execute_result",
          "data": {
            "text/plain": [
              "                 H            L            M  Air Temperature  \\\n",
              "count  9937.000000  9937.000000  9937.000000      9937.000000   \n",
              "mean      0.099930     0.600081     0.299990         0.511116   \n",
              "std       0.299921     0.489906     0.458276         0.217463   \n",
              "min       0.000000     0.000000     0.000000         0.000000   \n",
              "25%       0.000000     0.000000     0.000000         0.326087   \n",
              "50%       0.000000     1.000000     0.000000         0.521739   \n",
              "75%       0.000000     1.000000     1.000000         0.673913   \n",
              "max       1.000000     1.000000     1.000000         1.000000   \n",
              "\n",
              "       Process Temperature  Rotational Speed       Torque    Tool Wear  \n",
              "count          9937.000000       9937.000000  9937.000000  9937.000000  \n",
              "mean              0.531294          0.215786     0.497157     0.428038  \n",
              "std               0.183135          0.104334     0.136915     0.252443  \n",
              "min               0.000000          0.000000     0.000000     0.000000  \n",
              "25%               0.382716          0.148428     0.403846     0.211155  \n",
              "50%               0.543210          0.194994     0.498626     0.426295  \n",
              "75%               0.666667          0.258440     0.590659     0.645418  \n",
              "max               1.000000          1.000000     1.000000     1.000000  "
            ],
            "text/html": [
              "\n",
              "  <div id=\"df-7593db07-871a-487c-831d-c2e5a13c4bf1\">\n",
              "    <div class=\"colab-df-container\">\n",
              "      <div>\n",
              "<style scoped>\n",
              "    .dataframe tbody tr th:only-of-type {\n",
              "        vertical-align: middle;\n",
              "    }\n",
              "\n",
              "    .dataframe tbody tr th {\n",
              "        vertical-align: top;\n",
              "    }\n",
              "\n",
              "    .dataframe thead th {\n",
              "        text-align: right;\n",
              "    }\n",
              "</style>\n",
              "<table border=\"1\" class=\"dataframe\">\n",
              "  <thead>\n",
              "    <tr style=\"text-align: right;\">\n",
              "      <th></th>\n",
              "      <th>H</th>\n",
              "      <th>L</th>\n",
              "      <th>M</th>\n",
              "      <th>Air Temperature</th>\n",
              "      <th>Process Temperature</th>\n",
              "      <th>Rotational Speed</th>\n",
              "      <th>Torque</th>\n",
              "      <th>Tool Wear</th>\n",
              "    </tr>\n",
              "  </thead>\n",
              "  <tbody>\n",
              "    <tr>\n",
              "      <th>count</th>\n",
              "      <td>9937.000000</td>\n",
              "      <td>9937.000000</td>\n",
              "      <td>9937.000000</td>\n",
              "      <td>9937.000000</td>\n",
              "      <td>9937.000000</td>\n",
              "      <td>9937.000000</td>\n",
              "      <td>9937.000000</td>\n",
              "      <td>9937.000000</td>\n",
              "    </tr>\n",
              "    <tr>\n",
              "      <th>mean</th>\n",
              "      <td>0.099930</td>\n",
              "      <td>0.600081</td>\n",
              "      <td>0.299990</td>\n",
              "      <td>0.511116</td>\n",
              "      <td>0.531294</td>\n",
              "      <td>0.215786</td>\n",
              "      <td>0.497157</td>\n",
              "      <td>0.428038</td>\n",
              "    </tr>\n",
              "    <tr>\n",
              "      <th>std</th>\n",
              "      <td>0.299921</td>\n",
              "      <td>0.489906</td>\n",
              "      <td>0.458276</td>\n",
              "      <td>0.217463</td>\n",
              "      <td>0.183135</td>\n",
              "      <td>0.104334</td>\n",
              "      <td>0.136915</td>\n",
              "      <td>0.252443</td>\n",
              "    </tr>\n",
              "    <tr>\n",
              "      <th>min</th>\n",
              "      <td>0.000000</td>\n",
              "      <td>0.000000</td>\n",
              "      <td>0.000000</td>\n",
              "      <td>0.000000</td>\n",
              "      <td>0.000000</td>\n",
              "      <td>0.000000</td>\n",
              "      <td>0.000000</td>\n",
              "      <td>0.000000</td>\n",
              "    </tr>\n",
              "    <tr>\n",
              "      <th>25%</th>\n",
              "      <td>0.000000</td>\n",
              "      <td>0.000000</td>\n",
              "      <td>0.000000</td>\n",
              "      <td>0.326087</td>\n",
              "      <td>0.382716</td>\n",
              "      <td>0.148428</td>\n",
              "      <td>0.403846</td>\n",
              "      <td>0.211155</td>\n",
              "    </tr>\n",
              "    <tr>\n",
              "      <th>50%</th>\n",
              "      <td>0.000000</td>\n",
              "      <td>1.000000</td>\n",
              "      <td>0.000000</td>\n",
              "      <td>0.521739</td>\n",
              "      <td>0.543210</td>\n",
              "      <td>0.194994</td>\n",
              "      <td>0.498626</td>\n",
              "      <td>0.426295</td>\n",
              "    </tr>\n",
              "    <tr>\n",
              "      <th>75%</th>\n",
              "      <td>0.000000</td>\n",
              "      <td>1.000000</td>\n",
              "      <td>1.000000</td>\n",
              "      <td>0.673913</td>\n",
              "      <td>0.666667</td>\n",
              "      <td>0.258440</td>\n",
              "      <td>0.590659</td>\n",
              "      <td>0.645418</td>\n",
              "    </tr>\n",
              "    <tr>\n",
              "      <th>max</th>\n",
              "      <td>1.000000</td>\n",
              "      <td>1.000000</td>\n",
              "      <td>1.000000</td>\n",
              "      <td>1.000000</td>\n",
              "      <td>1.000000</td>\n",
              "      <td>1.000000</td>\n",
              "      <td>1.000000</td>\n",
              "      <td>1.000000</td>\n",
              "    </tr>\n",
              "  </tbody>\n",
              "</table>\n",
              "</div>\n",
              "      <button class=\"colab-df-convert\" onclick=\"convertToInteractive('df-7593db07-871a-487c-831d-c2e5a13c4bf1')\"\n",
              "              title=\"Convert this dataframe to an interactive table.\"\n",
              "              style=\"display:none;\">\n",
              "        \n",
              "  <svg xmlns=\"http://www.w3.org/2000/svg\" height=\"24px\"viewBox=\"0 0 24 24\"\n",
              "       width=\"24px\">\n",
              "    <path d=\"M0 0h24v24H0V0z\" fill=\"none\"/>\n",
              "    <path d=\"M18.56 5.44l.94 2.06.94-2.06 2.06-.94-2.06-.94-.94-2.06-.94 2.06-2.06.94zm-11 1L8.5 8.5l.94-2.06 2.06-.94-2.06-.94L8.5 2.5l-.94 2.06-2.06.94zm10 10l.94 2.06.94-2.06 2.06-.94-2.06-.94-.94-2.06-.94 2.06-2.06.94z\"/><path d=\"M17.41 7.96l-1.37-1.37c-.4-.4-.92-.59-1.43-.59-.52 0-1.04.2-1.43.59L10.3 9.45l-7.72 7.72c-.78.78-.78 2.05 0 2.83L4 21.41c.39.39.9.59 1.41.59.51 0 1.02-.2 1.41-.59l7.78-7.78 2.81-2.81c.8-.78.8-2.07 0-2.86zM5.41 20L4 18.59l7.72-7.72 1.47 1.35L5.41 20z\"/>\n",
              "  </svg>\n",
              "      </button>\n",
              "      \n",
              "  <style>\n",
              "    .colab-df-container {\n",
              "      display:flex;\n",
              "      flex-wrap:wrap;\n",
              "      gap: 12px;\n",
              "    }\n",
              "\n",
              "    .colab-df-convert {\n",
              "      background-color: #E8F0FE;\n",
              "      border: none;\n",
              "      border-radius: 50%;\n",
              "      cursor: pointer;\n",
              "      display: none;\n",
              "      fill: #1967D2;\n",
              "      height: 32px;\n",
              "      padding: 0 0 0 0;\n",
              "      width: 32px;\n",
              "    }\n",
              "\n",
              "    .colab-df-convert:hover {\n",
              "      background-color: #E2EBFA;\n",
              "      box-shadow: 0px 1px 2px rgba(60, 64, 67, 0.3), 0px 1px 3px 1px rgba(60, 64, 67, 0.15);\n",
              "      fill: #174EA6;\n",
              "    }\n",
              "\n",
              "    [theme=dark] .colab-df-convert {\n",
              "      background-color: #3B4455;\n",
              "      fill: #D2E3FC;\n",
              "    }\n",
              "\n",
              "    [theme=dark] .colab-df-convert:hover {\n",
              "      background-color: #434B5C;\n",
              "      box-shadow: 0px 1px 3px 1px rgba(0, 0, 0, 0.15);\n",
              "      filter: drop-shadow(0px 1px 2px rgba(0, 0, 0, 0.3));\n",
              "      fill: #FFFFFF;\n",
              "    }\n",
              "  </style>\n",
              "\n",
              "      <script>\n",
              "        const buttonEl =\n",
              "          document.querySelector('#df-7593db07-871a-487c-831d-c2e5a13c4bf1 button.colab-df-convert');\n",
              "        buttonEl.style.display =\n",
              "          google.colab.kernel.accessAllowed ? 'block' : 'none';\n",
              "\n",
              "        async function convertToInteractive(key) {\n",
              "          const element = document.querySelector('#df-7593db07-871a-487c-831d-c2e5a13c4bf1');\n",
              "          const dataTable =\n",
              "            await google.colab.kernel.invokeFunction('convertToInteractive',\n",
              "                                                     [key], {});\n",
              "          if (!dataTable) return;\n",
              "\n",
              "          const docLinkHtml = 'Like what you see? Visit the ' +\n",
              "            '<a target=\"_blank\" href=https://colab.research.google.com/notebooks/data_table.ipynb>data table notebook</a>'\n",
              "            + ' to learn more about interactive tables.';\n",
              "          element.innerHTML = '';\n",
              "          dataTable['output_type'] = 'display_data';\n",
              "          await google.colab.output.renderOutput(dataTable, element);\n",
              "          const docLink = document.createElement('div');\n",
              "          docLink.innerHTML = docLinkHtml;\n",
              "          element.appendChild(docLink);\n",
              "        }\n",
              "      </script>\n",
              "    </div>\n",
              "  </div>\n",
              "  "
            ]
          },
          "metadata": {},
          "execution_count": 12
        }
      ],
      "source": [
        "escalador = MinMaxScaler()\n",
        "x = escalador.fit_transform(x)\n",
        "x = pd.DataFrame(data=x, columns=['H', 'L', 'M',\n",
        "                  'Air Temperature',\n",
        "                  'Process Temperature',\n",
        "                  'Rotational Speed',\n",
        "                  'Torque',\n",
        "                  'Tool Wear',])\n",
        "x.describe()"
      ]
    },
    {
      "cell_type": "code",
      "source": [
        "x_boxplot = x[['Air Temperature', 'Process Temperature', 'Rotational Speed', 'Torque', 'Tool Wear']]\n",
        "x_boxplot.columns = ['Air\\nTemperature', 'Process\\nTemperature', 'Rotational\\nSpeed', 'Torque', 'Tool\\nWear']\n",
        "boxplot = sns.boxplot(data=x_boxplot[['Air\\nTemperature', 'Process\\nTemperature', 'Rotational\\nSpeed', 'Torque', 'Tool\\nWear']]);\n",
        "boxplot.figure.set_size_inches(9, 5)\n",
        "plt.title('Gráfico de distribuição')\n",
        "plt.xlabel('Colunas')\n",
        "plt.ylabel('Valores')\n",
        "plt.savefig('Boxplot.png')"
      ],
      "metadata": {
        "colab": {
          "base_uri": "https://localhost:8080/",
          "height": 422
        },
        "id": "s_efh5FDcIXy",
        "outputId": "c0c598e3-3b4e-4929-a9d5-dfb102bb2841"
      },
      "execution_count": null,
      "outputs": [
        {
          "output_type": "display_data",
          "data": {
            "text/plain": [
              "<Figure size 720x400 with 1 Axes>"
            ],
            "image/png": "[encoded data removed]"
          },
          "metadata": {}
        }
      ]
    },
    {
      "cell_type": "markdown",
      "metadata": {
        "id": "0P9C1enG4LVx"
      },
      "source": [
        "## Separação dos subconjuntos de treino, teste e validação"
      ]
    },
    {
      "cell_type": "code",
      "execution_count": null,
      "metadata": {
        "id": "PodbZOZzWGTX"
      },
      "outputs": [],
      "source": [
        "x_treino, x_teste, y_treino, y_teste = train_test_split(x, y, random_state=42, stratify=y, train_size=0.80)\n",
        "x_teste, x_validacao, y_teste, y_validacao = train_test_split(x_teste, y_teste, random_state=42, stratify=y_teste, train_size=0.5)"
      ]
    },
    {
      "cell_type": "code",
      "execution_count": null,
      "metadata": {
        "colab": {
          "base_uri": "https://localhost:8080/"
        },
        "id": "-T4jFKbtdh3n",
        "outputId": "e7bdbfc6-ac3a-4f66-cc5b-e061fe79cb93"
      },
      "outputs": [
        {
          "output_type": "stream",
          "name": "stdout",
          "text": [
            "Tamanho dos conjuntos\n",
            "Conjunto\tQtd. Linhas\tQtd. Colunas\n",
            "X Treino\t7949\t\t8\n",
            "Y Treino\t7949\t\t1\n",
            "X Teste\t\t994\t\t8\n",
            "Y Teste\t\t994\t\t1\n",
            "X Validação\t994\t\t8\n",
            "Y Validação\t994\t\t1\n"
          ]
        }
      ],
      "source": [
        "print('Tamanho dos conjuntos')\n",
        "print('Conjunto\\tQtd. Linhas\\tQtd. Colunas')\n",
        "print(f'X Treino\\t{x_treino.shape[0]}\\t\\t{x_treino.shape[1]}')\n",
        "print(f'Y Treino\\t{y_treino.shape[0]}\\t\\t1')\n",
        "print(f'X Teste\\t\\t{x_teste.shape[0]}\\t\\t{x_teste.shape[1]}')\n",
        "print(f'Y Teste\\t\\t{y_teste.shape[0]}\\t\\t1')\n",
        "print(f'X Validação\\t{x_validacao.shape[0]}\\t\\t{x_validacao.shape[1]}')\n",
        "print(f'Y Validação\\t{y_validacao.shape[0]}\\t\\t1')"
      ]
    },
    {
      "cell_type": "markdown",
      "metadata": {
        "id": "7210DEag4TX7"
      },
      "source": [
        "## Aplicação dos modelos"
      ]
    },
    {
      "cell_type": "markdown",
      "metadata": {
        "id": "i3QwHoIx4Vxi"
      },
      "source": [
        "### Árvore de Decisão"
      ]
    },
    {
      "cell_type": "code",
      "execution_count": null,
      "metadata": {
        "colab": {
          "base_uri": "https://localhost:8080/"
        },
        "id": "hlYGLO4kiW-H",
        "outputId": "1eb72d94-e46c-4eca-f083-c886cb129db5"
      },
      "outputs": [
        {
          "output_type": "execute_result",
          "data": {
            "text/plain": [
              "{'max_depth': 14}"
            ]
          },
          "metadata": {},
          "execution_count": 16
        }
      ],
      "source": [
        "parametros_arvore_decisao = {\n",
        "   'max_depth': np.arange(1, 20) \n",
        "}\n",
        "\n",
        "grid_search_arvore_decisao = GridSearchCV(DecisionTreeClassifier(), parametros_arvore_decisao, cv=5, scoring='recall')\n",
        "grid_search_arvore_decisao.fit(x_treino, y_treino)\n",
        "melhores_parametros_arvore_decisao = grid_search_arvore_decisao.best_params_\n",
        "melhores_parametros_arvore_decisao"
      ]
    },
    {
      "cell_type": "code",
      "execution_count": null,
      "metadata": {
        "colab": {
          "base_uri": "https://localhost:8080/"
        },
        "id": "s0zXzVwQOKtw",
        "outputId": "39fa3773-792d-4907-ce9b-c9efc582a624"
      },
      "outputs": [
        {
          "output_type": "execute_result",
          "data": {
            "text/plain": [
              "{'fit_time': array([0.00542974, 0.0104928 , 0.01246905, 0.00553465, 0.00515199]),\n",
              " 'score_time': array([0.01261187, 0.00887132, 0.00297165, 0.0120244 , 0.00252271]),\n",
              " 'test_score': array([0.9798995 , 0.9798995 , 0.98994975, 0.9798995 , 0.97979798]),\n",
              " 'train_score': array([1., 1., 1., 1., 1.])}"
            ]
          },
          "metadata": {},
          "execution_count": 17
        }
      ],
      "source": [
        "clf_tree = DecisionTreeClassifier(max_depth=melhores_parametros_arvore_decisao['max_depth'])\n",
        "validacao_cruzada_arvore_decisao = cross_validate(estimator=clf_tree, X=x_validacao, y=y_validacao, cv=5, return_train_score=True)\n",
        "validacao_cruzada_arvore_decisao"
      ]
    },
    {
      "cell_type": "code",
      "execution_count": null,
      "metadata": {
        "id": "My8q2y98PGc6"
      },
      "outputs": [],
      "source": [
        "clf_tree.fit(x_treino, y_treino)\n",
        "predicao = clf_tree.predict(x_teste)"
      ]
    },
    {
      "cell_type": "code",
      "execution_count": null,
      "metadata": {
        "colab": {
          "base_uri": "https://localhost:8080/"
        },
        "id": "4MABtDjX4VQO",
        "outputId": "8c590a36-3dda-4b0b-ee1a-79e8f5bcdc3a"
      },
      "outputs": [
        {
          "output_type": "stream",
          "name": "stdout",
          "text": [
            "              precision    recall  f1-score   support\n",
            "\n",
            "           0       1.00      0.99      0.99       964\n",
            "           1       0.74      0.87      0.80        30\n",
            "\n",
            "    accuracy                           0.99       994\n",
            "   macro avg       0.87      0.93      0.90       994\n",
            "weighted avg       0.99      0.99      0.99       994\n",
            "\n",
            "Acurácia: 98.69\n",
            "Precisão Média: 98.82\n",
            "Revocação Média: 98.69\n",
            "F1 Média: 98.74\n"
          ]
        }
      ],
      "source": [
        "resultados = classification_report(y_teste, predicao) \n",
        "print(resultados)\n",
        "\n",
        "acuracia_arvore_decisao = clf_tree.score(x_teste, y_teste) * 100\n",
        "precisao_arvore_decisao = precision_score(y_teste, predicao, average=\"weighted\") * 100\n",
        "revocacao_arvore_decisao = recall_score(y_teste, predicao, average=\"weighted\") * 100\n",
        "f1_arvore_decisao = f1_score(y_teste, predicao, average=\"weighted\") * 100\n",
        "print(f'Acurácia: {acuracia_arvore_decisao:.2f}')\n",
        "print(f'Precisão Média: {precisao_arvore_decisao:.2f}')\n",
        "print(f'Revocação Média: {revocacao_arvore_decisao:.2f}')\n",
        "print(f'F1 Média: {f1_arvore_decisao:.2f}')"
      ]
    },
    {
      "cell_type": "markdown",
      "metadata": {
        "id": "nUn-b63w4Xs1"
      },
      "source": [
        "### Teorema de Bayes"
      ]
    },
    {
      "cell_type": "code",
      "execution_count": null,
      "metadata": {
        "id": "XDesVy-xm2yF"
      },
      "outputs": [],
      "source": [
        "clf_bayes = GaussianNB()"
      ]
    },
    {
      "cell_type": "code",
      "execution_count": null,
      "metadata": {
        "colab": {
          "base_uri": "https://localhost:8080/"
        },
        "id": "mH04snF2moEc",
        "outputId": "59136dd1-f196-4c6d-a98c-8d9d99e7086c"
      },
      "outputs": [
        {
          "output_type": "execute_result",
          "data": {
            "text/plain": [
              "{'fit_time': array([0.02536726, 0.01783586, 0.00943756, 0.0160749 , 0.01570702]),\n",
              " 'score_time': array([0.01515889, 0.01716709, 0.00727701, 0.01425767, 0.01019597]),\n",
              " 'test_score': array([0.9798995 , 0.9798995 , 0.98994975, 0.9798995 , 0.97979798]),\n",
              " 'train_score': array([1., 1., 1., 1., 1.])}"
            ]
          },
          "metadata": {},
          "execution_count": 21
        }
      ],
      "source": [
        "validacao_cruzada_naive_bayes = cross_validate(estimator=clf_tree, X=x_validacao, y=y_validacao, return_train_score=True)\n",
        "validacao_cruzada_naive_bayes"
      ]
    },
    {
      "cell_type": "code",
      "execution_count": null,
      "metadata": {
        "id": "MK3t2zfXO-lA"
      },
      "outputs": [],
      "source": [
        "clf_bayes.fit(x_treino, y_treino)\n",
        "predicao_naive_bayes = clf_bayes.predict(x_teste)"
      ]
    },
    {
      "cell_type": "code",
      "execution_count": null,
      "metadata": {
        "colab": {
          "base_uri": "https://localhost:8080/"
        },
        "id": "27AVySer4ajG",
        "outputId": "f1f18665-9be2-4db8-e089-43b63598e79d"
      },
      "outputs": [
        {
          "output_type": "stream",
          "name": "stdout",
          "text": [
            "              precision    recall  f1-score   support\n",
            "\n",
            "           0       0.97      0.99      0.98       964\n",
            "           1       0.22      0.13      0.17        30\n",
            "\n",
            "    accuracy                           0.96       994\n",
            "   macro avg       0.60      0.56      0.57       994\n",
            "weighted avg       0.95      0.96      0.95       994\n",
            "\n",
            "Acurácia: 95.98\n",
            "Precisão Média: 95.07\n",
            "Revocação Média: 95.98\n",
            "F1 Média: 95.49\n"
          ]
        }
      ],
      "source": [
        "print(classification_report(y_teste, predicao_naive_bayes))\n",
        "\n",
        "acuracia_naive_bayes = clf_bayes.score(x_teste, y_teste) * 100\n",
        "precisao_naive_bayes = precision_score(y_teste, predicao_naive_bayes, average=\"weighted\") * 100\n",
        "revocacao_naive_bayes = recall_score(y_teste, predicao_naive_bayes, average=\"weighted\") * 100\n",
        "f1_naive_bayes = f1_score(y_teste, predicao_naive_bayes, average=\"weighted\") * 100\n",
        "print(f'Acurácia: {acuracia_naive_bayes:.2f}')\n",
        "print(f'Precisão Média: {precisao_naive_bayes:.2f}')\n",
        "print(f'Revocação Média: {revocacao_naive_bayes:.2f}')\n",
        "print(f'F1 Média: {f1_naive_bayes:.2f}')"
      ]
    },
    {
      "cell_type": "markdown",
      "metadata": {
        "id": "vnFtNkeyyblC"
      },
      "source": [
        "### SVM"
      ]
    },
    {
      "cell_type": "code",
      "execution_count": null,
      "metadata": {
        "colab": {
          "base_uri": "https://localhost:8080/"
        },
        "id": "UtoLpwUwzHPn",
        "outputId": "37424dff-9478-4096-fabc-057e175df1cb"
      },
      "outputs": [
        {
          "output_type": "execute_result",
          "data": {
            "text/plain": [
              "{'fit_time': array([0.01612496, 0.03107238, 0.04201818, 0.0361681 , 0.0562973 ]),\n",
              " 'score_time': array([0.00444436, 0.01185656, 0.01774406, 0.00433946, 0.00454473]),\n",
              " 'test_score': array([0.98492462, 0.95979899, 0.97487437, 0.97487437, 0.96969697]),\n",
              " 'train_score': array([0.98490566, 0.98993711, 0.98993711, 0.98993711, 0.99246231])}"
            ]
          },
          "metadata": {},
          "execution_count": 24
        }
      ],
      "source": [
        "clf_svm = SVC(C=100, kernel='rbf', gamma='scale')\n",
        "validacao_cruzada_svm = cross_validate(estimator=clf_svm, X=x_validacao, y=y_validacao, return_train_score=True)\n",
        "validacao_cruzada_svm"
      ]
    },
    {
      "cell_type": "code",
      "execution_count": null,
      "metadata": {
        "id": "UsWY2inuz6bQ"
      },
      "outputs": [],
      "source": [
        "clf_svm.fit(x_treino, y_treino)\n",
        "predicao_svm = clf_svm.predict(x_teste)"
      ]
    },
    {
      "cell_type": "code",
      "execution_count": null,
      "metadata": {
        "colab": {
          "base_uri": "https://localhost:8080/"
        },
        "id": "XBTi8vaB0Dem",
        "outputId": "fecfe472-7250-4bfe-8088-c75f9b58dff2"
      },
      "outputs": [
        {
          "output_type": "stream",
          "name": "stdout",
          "text": [
            "              precision    recall  f1-score   support\n",
            "\n",
            "           0       1.00      0.99      0.99       964\n",
            "           1       0.74      0.87      0.80        30\n",
            "\n",
            "    accuracy                           0.99       994\n",
            "   macro avg       0.87      0.93      0.90       994\n",
            "weighted avg       0.99      0.99      0.99       994\n",
            "\n",
            "Acurácia: 98.39\n",
            "Precisão Média: 98.25\n",
            "Revocação Média: 98.39\n",
            "F1 Média: 98.74\n"
          ]
        }
      ],
      "source": [
        "print(classification_report(y_teste, predicao))\n",
        "\n",
        "acuracia_svm = clf_svm.score(x_teste, y_teste) * 100\n",
        "precisao_svm = precision_score(y_teste, predicao_svm, average=\"weighted\") * 100\n",
        "revocacao_svm = recall_score(y_teste, predicao_svm, average=\"weighted\") * 100\n",
        "f1_svm = f1_score(y_teste, predicao, average=\"weighted\") * 100\n",
        "print(f'Acurácia: {acuracia_svm:.2f}')\n",
        "print(f'Precisão Média: {precisao_svm:.2f}')\n",
        "print(f'Revocação Média: {revocacao_svm:.2f}')\n",
        "print(f'F1 Média: {f1_svm:.2f}')"
      ]
    },
    {
      "cell_type": "markdown",
      "metadata": {
        "id": "6OpOWeeH0vbA"
      },
      "source": [
        "### XGBoost"
      ]
    },
    {
      "cell_type": "code",
      "execution_count": null,
      "metadata": {
        "colab": {
          "base_uri": "https://localhost:8080/"
        },
        "id": "j__dmjC1tIpL",
        "outputId": "41015c84-cbad-418c-d4b7-53eacd3edc2b"
      },
      "outputs": [
        {
          "output_type": "execute_result",
          "data": {
            "text/plain": [
              "{'booster': 'dart',\n",
              " 'eta': 0.20000000000000004,\n",
              " 'eval_metric': 'error',\n",
              " 'gamma': 8,\n",
              " 'max_depth': 11,\n",
              " 'objective': 'binary:hinge',\n",
              " 'tree_method': 'auto'}"
            ]
          },
          "metadata": {},
          "execution_count": 27
        }
      ],
      "source": [
        "parametros_xgb = {\n",
        "    'booster': ['dart', 'gbtree'],\n",
        "    'tree_method': ['auto', 'approx', 'hist', 'exact'],\n",
        "    'eta': np.arange(0.1, 0.205, 0.05),\n",
        "    'gamma': np.arange(0, 101),\n",
        "    'max_depth': np.arange(3, 12),\n",
        "    'objective': ['binary:hinge'],\n",
        "    'eval_metric': ['error', 'auc', 'aucpr']\n",
        "}\n",
        "\n",
        "randomized_search_xgb = RandomizedSearchCV(estimator=XGBClassifier(),\n",
        "                                           param_distributions=parametros_xgb,\n",
        "                                           n_iter=10,\n",
        "                                           scoring='accuracy',\n",
        "                                           cv=5,\n",
        "                                           return_train_score=True)\n",
        "\n",
        "randomized_search_xgb.fit(x_treino, y_treino)\n",
        "melhores_parametros_xgb = randomized_search_xgb.best_params_\n",
        "melhores_parametros_xgb"
      ]
    },
    {
      "cell_type": "code",
      "execution_count": null,
      "metadata": {
        "colab": {
          "base_uri": "https://localhost:8080/"
        },
        "id": "ksnujZQA13Iq",
        "outputId": "4a8910d3-e412-43f6-ea26-2ea26654ae6b"
      },
      "outputs": [
        {
          "output_type": "execute_result",
          "data": {
            "text/plain": [
              "array([0.971569  , 0.98414912, 0.971569  , 0.969808  , 0.98679079,\n",
              "       0.96943008, 0.97043653, 0.9706881 , 0.97899134, 0.97320446])"
            ]
          },
          "metadata": {},
          "execution_count": 28
        }
      ],
      "source": [
        "randomized_search_xgb.cv_results_['mean_test_score']"
      ]
    },
    {
      "cell_type": "code",
      "execution_count": null,
      "metadata": {
        "colab": {
          "base_uri": "https://localhost:8080/"
        },
        "id": "hfa8dqUjvt9c",
        "outputId": "f52f2c2e-41bb-440f-d3a9-b3a0d4e6ce71"
      },
      "outputs": [
        {
          "output_type": "execute_result",
          "data": {
            "text/plain": [
              "array([0.9725122 , 0.98886661, 0.9725122 , 0.97241784, 0.99430747,\n",
              "       0.96999626, 0.97043653, 0.97037363, 0.98201034, 0.97480809])"
            ]
          },
          "metadata": {},
          "execution_count": 29
        }
      ],
      "source": [
        "randomized_search_xgb.cv_results_['mean_train_score']"
      ]
    },
    {
      "cell_type": "code",
      "execution_count": null,
      "metadata": {
        "colab": {
          "base_uri": "https://localhost:8080/"
        },
        "id": "Q1Ty_p8f02sd",
        "outputId": "b7cebabc-a310-4987-ea3f-af083b29e52a"
      },
      "outputs": [
        {
          "output_type": "execute_result",
          "data": {
            "text/plain": [
              "{'fit_time': array([0.86969018, 1.29083896, 1.65402555, 1.44836068, 1.01550674]),\n",
              " 'score_time': array([0.00430369, 0.00589919, 0.00747037, 0.00677466, 0.00457692]),\n",
              " 'test_score': array([0.98742138, 0.98993711, 0.9918239 , 0.98742138, 0.98804279]),\n",
              " 'train_score': array([0.99905646, 0.99937097, 1.        , 1.        , 0.99937107])}"
            ]
          },
          "metadata": {},
          "execution_count": 30
        }
      ],
      "source": [
        "clf_xgb = XGBClassifier(booster=melhores_parametros_xgb['booster'],\n",
        "                        max_depth=melhores_parametros_xgb['max_depth'],\n",
        "                        objective=melhores_parametros_xgb['objective'],\n",
        "                        eval_metric=melhores_parametros_xgb['eval_metric'])\n",
        "validacao_cruzada = cross_validate(estimator=clf_xgb, X=x_treino, y=y_treino, cv=5, return_train_score=True)\n",
        "validacao_cruzada"
      ]
    },
    {
      "cell_type": "code",
      "execution_count": null,
      "metadata": {
        "colab": {
          "base_uri": "https://localhost:8080/"
        },
        "id": "s_s5Wxfk1zd0",
        "outputId": "869a5b4b-60e3-47d8-e3ce-f40f98f3359b"
      },
      "outputs": [
        {
          "output_type": "execute_result",
          "data": {
            "text/plain": [
              "XGBClassifier(booster='dart', eval_metric='error', max_depth=11,\n",
              "              objective='binary:hinge')"
            ]
          },
          "metadata": {},
          "execution_count": 31
        }
      ],
      "source": [
        "clf_xgb.fit(x_treino, y_treino)"
      ]
    },
    {
      "cell_type": "code",
      "execution_count": null,
      "metadata": {
        "colab": {
          "base_uri": "https://localhost:8080/"
        },
        "id": "BWx5G1gX19XM",
        "outputId": "33454278-19e2-4a7e-a93e-90207edd0047"
      },
      "outputs": [
        {
          "output_type": "stream",
          "name": "stdout",
          "text": [
            "              precision    recall  f1-score   support\n",
            "\n",
            "           0       1.00      0.99      0.99       964\n",
            "           1       0.74      0.87      0.80        30\n",
            "\n",
            "    accuracy                           0.99       994\n",
            "   macro avg       0.87      0.93      0.90       994\n",
            "weighted avg       0.99      0.99      0.99       994\n",
            "\n",
            "Acurácia: 99.20\n",
            "Precisão Média: 99.23\n",
            "Revocação Média: 99.20\n",
            "F1 Média: 99.21\n"
          ]
        }
      ],
      "source": [
        "predicao_xgb = clf_xgb.predict(x_teste)\n",
        "print(classification_report(y_teste, predicao))\n",
        "\n",
        "acuracia_xgb = clf_xgb.score(x_teste, y_teste) * 100\n",
        "precisao_xgb = precision_score(y_teste, predicao_xgb, average='weighted') * 100\n",
        "revocacao_xgb = recall_score(y_teste, predicao_xgb, average='weighted') * 100\n",
        "f1_xgb = f1_score(y_teste, predicao_xgb, average='weighted') * 100\n",
        "print(f'Acurácia: {acuracia_xgb:.2f}')\n",
        "print(f'Precisão Média: {precisao_xgb:.2f}')\n",
        "print(f'Revocação Média: {revocacao_xgb:.2f}')\n",
        "print(f'F1 Média: {f1_xgb:.2f}')"
      ]
    },
    {
      "cell_type": "markdown",
      "metadata": {
        "id": "1qdPITzrPs7D"
      },
      "source": [
        "# Resultados"
      ]
    },
    {
      "cell_type": "markdown",
      "metadata": {
        "id": "8T12-lmvfhYH"
      },
      "source": [
        "## Acurácia"
      ]
    },
    {
      "cell_type": "code",
      "source": [
        "round(acuracia_svm, 2), round(acuracia_arvore_decisao, 2), round(acuracia_naive_bayes, 2), round(acuracia_xgb, 2)"
      ],
      "metadata": {
        "colab": {
          "base_uri": "https://localhost:8080/"
        },
        "id": "0BTGOfsp8Ky2",
        "outputId": "a2f23297-9f0c-4072-e1b6-ac84272b6502"
      },
      "execution_count": null,
      "outputs": [
        {
          "output_type": "execute_result",
          "data": {
            "text/plain": [
              "(98.39, 98.69, 95.98, 99.2)"
            ]
          },
          "metadata": {},
          "execution_count": 33
        }
      ]
    },
    {
      "cell_type": "code",
      "execution_count": null,
      "metadata": {
        "colab": {
          "base_uri": "https://localhost:8080/",
          "height": 485
        },
        "id": "yIkqv_ihfoei",
        "outputId": "86b49864-b49a-4975-c4a4-1f9da3f596ae"
      },
      "outputs": [
        {
          "output_type": "display_data",
          "data": {
            "text/plain": [
              "<Figure size 640x480 with 1 Axes>"
            ],
            "image/png": "[encoded data removed]"
          },
          "metadata": {}
        }
      ],
      "source": [
        "plt.style.use('classic')\n",
        "modelos = ['SVM', 'Árvore\\nde Decisão', 'Naive\\nBayes', 'XGBoost']\n",
        "\n",
        "figure_acuracia, ax_acuracia = plt.subplots()\n",
        "plt.title('Acurácia dos modelos')\n",
        "ax_acuracia.bar(2 - 0.2, acuracia_svm, label='SVM')\n",
        "ax_acuracia.bar(3 + 0.2, acuracia_arvore_decisao, label='Árvore de Decisão')\n",
        "ax_acuracia.bar(5 - 0.2, acuracia_naive_bayes, label='Naive Bayes')\n",
        "ax_acuracia.bar(6 + 0.2, acuracia_xgb, label='XGBoost')\n",
        "plt.xticks([1.8, 3.2, 4.8, 6.2], modelos)\n",
        "#plt.xticks([1.8, 3.2, 4.8, 6.2], ['', ''])\n",
        "plt.xlabel('Modelos')\n",
        "ax_acuracia.set_ylabel('Acurácia')\n",
        "ax_acuracia.set_ylim([70, 100])\n",
        "plt.legend(loc='lower right')\n",
        "\n",
        "plt.savefig('Resultados - Acurácia.png')\n",
        "\n",
        "plt.show();"
      ]
    },
    {
      "cell_type": "markdown",
      "metadata": {
        "id": "qjStbNryhyc3"
      },
      "source": [
        "## Precisão"
      ]
    },
    {
      "cell_type": "code",
      "source": [
        "round(precisao_svm, 2), round(precisao_arvore_decisao, 2), round(precisao_naive_bayes, 2), round(precisao_xgb, 2)"
      ],
      "metadata": {
        "colab": {
          "base_uri": "https://localhost:8080/"
        },
        "id": "6HaIDt1LEQow",
        "outputId": "78f9be53-a12b-47ec-88a8-dfe7fa9759af"
      },
      "execution_count": null,
      "outputs": [
        {
          "output_type": "execute_result",
          "data": {
            "text/plain": [
              "(98.25, 98.82, 95.07, 99.23)"
            ]
          },
          "metadata": {},
          "execution_count": 35
        }
      ]
    },
    {
      "cell_type": "code",
      "execution_count": null,
      "metadata": {
        "colab": {
          "base_uri": "https://localhost:8080/",
          "height": 470
        },
        "id": "pYfk-xuQh32G",
        "outputId": "cd4e53aa-3016-4125-d5ea-476ed899d10e"
      },
      "outputs": [
        {
          "output_type": "display_data",
          "data": {
            "text/plain": [
              "<Figure size 640x480 with 1 Axes>"
            ],
            "image/png": "[encoded data removed]"
          },
          "metadata": {}
        }
      ],
      "source": [
        "figure_acuracia, ax_precisao = plt.subplots()\n",
        "plt.title('Precisões dos modelos')\n",
        "ax_precisao.bar(2 - 0.2, precisao_svm, label='SVM')\n",
        "ax_precisao.bar(3 + 0.2, precisao_arvore_decisao, label='Árvore de Decisão')\n",
        "ax_precisao.bar(5 - 0.2, precisao_naive_bayes, label='Naive Bayes')\n",
        "ax_precisao.bar(6 + 0.2, precisao_xgb, label='XGBoost')\n",
        "plt.xticks([1.8, 3.2, 4.8, 6.2], modelos)\n",
        "ax_precisao.set_xlabel('Modelos')\n",
        "ax_precisao.set_ylabel('Precisão Média')\n",
        "ax_precisao.set_ylim([70, 100])\n",
        "plt.legend(loc='lower right')\n",
        "\n",
        "plt.savefig('Resultados - Precisão.png')\n",
        "\n",
        "plt.show()"
      ]
    },
    {
      "cell_type": "markdown",
      "metadata": {
        "id": "EKUVoK6kHbIV"
      },
      "source": [
        "## Revocação"
      ]
    },
    {
      "cell_type": "code",
      "source": [
        "round(revocacao_svm, 2), round(revocacao_arvore_decisao, 2), round(revocacao_naive_bayes, 2), round(revocacao_xgb, 2)"
      ],
      "metadata": {
        "colab": {
          "base_uri": "https://localhost:8080/"
        },
        "id": "R0c0T0xACbdB",
        "outputId": "a1384c70-a8dc-4c92-b2fd-0c76297e0059"
      },
      "execution_count": null,
      "outputs": [
        {
          "output_type": "execute_result",
          "data": {
            "text/plain": [
              "(98.39, 98.69, 95.98, 99.2)"
            ]
          },
          "metadata": {},
          "execution_count": 37
        }
      ]
    },
    {
      "cell_type": "code",
      "execution_count": null,
      "metadata": {
        "colab": {
          "base_uri": "https://localhost:8080/",
          "height": 470
        },
        "id": "Vv8bqvY_HVVH",
        "outputId": "59257485-7d67-4011-9c21-77dc207392f9"
      },
      "outputs": [
        {
          "output_type": "display_data",
          "data": {
            "text/plain": [
              "<Figure size 640x480 with 1 Axes>"
            ],
            "image/png": "[encoded data removed]"
          },
          "metadata": {}
        }
      ],
      "source": [
        "figure_acuracia, ax_revocacao = plt.subplots()\n",
        "plt.title('Revocação dos modelos')\n",
        "ax_revocacao.bar(2 - 0.2, revocacao_svm, label='SVM')\n",
        "ax_revocacao.bar(3 + 0.2, revocacao_arvore_decisao, label='Árvore de Decisão')\n",
        "ax_revocacao.bar(5 - 0.2, revocacao_naive_bayes, label='Naive Bayes')\n",
        "ax_revocacao.bar(6 + 0.2, revocacao_xgb, label='XGBoost')\n",
        "plt.xticks([1.8, 3.2, 4.8, 6.2], modelos)\n",
        "ax_revocacao.set_xlabel('Modelos')\n",
        "ax_revocacao.set_ylabel('Revocação Média')\n",
        "ax_revocacao.set_ylim([70, 100])\n",
        "plt.legend(loc='lower right')\n",
        "\n",
        "plt.savefig('Resultados - Revocação.png')\n",
        "\n",
        "plt.show()"
      ]
    },
    {
      "cell_type": "markdown",
      "metadata": {
        "id": "F5D_7P6rHsn3"
      },
      "source": [
        "## F1"
      ]
    },
    {
      "cell_type": "code",
      "execution_count": null,
      "metadata": {
        "id": "PyDHj9mvHr8p",
        "colab": {
          "base_uri": "https://localhost:8080/",
          "height": 470
        },
        "outputId": "8d7b2814-7bb9-4c6d-bb11-3895d397a140"
      },
      "outputs": [
        {
          "output_type": "display_data",
          "data": {
            "text/plain": [
              "<Figure size 640x480 with 1 Axes>"
            ],
            "image/png": "[encoded data removed]"
          },
          "metadata": {}
        }
      ],
      "source": [
        "figure_acuracia, ax_f1 = plt.subplots()\n",
        "plt.title('Pontuação F1 dos modelos')\n",
        "ax_f1.bar(2 - 0.2, f1_svm, label='SVM')\n",
        "ax_f1.bar(3 + 0.2, f1_arvore_decisao, label='Árvore de Decisão')\n",
        "ax_f1.bar(5 - 0.2, f1_naive_bayes, label='Naive Bayes')\n",
        "ax_f1.bar(6 + 0.2, f1_xgb, label='XGBoost')\n",
        "plt.xticks([1.8, 3.2, 4.8, 6.2], modelos)\n",
        "ax_f1.set_xlabel('Modelos')\n",
        "ax_f1.set_ylabel('F1 Média')\n",
        "ax_f1.set_ylim([70, 100])\n",
        "plt.legend(loc='lower right')\n",
        "\n",
        "plt.savefig('Resultados - F1.png')\n",
        "\n",
        "plt.show()"
      ]
    },
    {
      "cell_type": "markdown",
      "source": [
        "## Tempo de Treinamento"
      ],
      "metadata": {
        "id": "kS6IzL46nRwq"
      }
    },
    {
      "cell_type": "code",
      "source": [
        "round(validacao_cruzada_arvore_decisao['fit_time'].mean(), 3), round(validacao_cruzada_naive_bayes['fit_time'].mean(), 3), round(validacao_cruzada_svm['fit_time'].mean(), 3), round(validacao_cruzada['fit_time'].mean(), 3)"
      ],
      "metadata": {
        "colab": {
          "base_uri": "https://localhost:8080/"
        },
        "id": "_BnuD2IKr4qu",
        "outputId": "59a9c852-c982-44c0-fc88-4239fd1410c3"
      },
      "execution_count": null,
      "outputs": [
        {
          "output_type": "execute_result",
          "data": {
            "text/plain": [
              "(0.008, 0.017, 0.036, 1.256)"
            ]
          },
          "metadata": {},
          "execution_count": 55
        }
      ]
    },
    {
      "cell_type": "code",
      "source": [
        "figure_acuracia, ax_f1 = plt.subplots()\n",
        "plt.title('Tempo de treinamento dos modelos')\n",
        "ax_f1.bar(2 - 0.2, validacao_cruzada_svm['fit_time'].mean(), label='SVM')\n",
        "ax_f1.bar(3 + 0.2, validacao_cruzada_arvore_decisao['fit_time'].mean(), label='Árvore de Decisão')\n",
        "ax_f1.bar(5 - 0.2, validacao_cruzada_naive_bayes['fit_time'].mean(), label='Naive Bayes')\n",
        "ax_f1.bar(6 + 0.2, validacao_cruzada['fit_time'].mean(), label='XGBoost')\n",
        "plt.xticks([1.8, 3.2, 4.8, 6.2], modelos)\n",
        "ax_f1.set_xlabel('Modelos')\n",
        "ax_f1.set_ylabel('Tempo (segundos)')\n",
        "ax_f1.set_ylim([0, 1.3])\n",
        "plt.legend(loc='lower right')\n",
        "\n",
        "plt.savefig('Resultados - Tempo de Treinamento.png')\n",
        "\n",
        "plt.show()"
      ],
      "metadata": {
        "colab": {
          "base_uri": "https://localhost:8080/",
          "height": 470
        },
        "id": "zo6lTSvYnQ_p",
        "outputId": "03f88ee3-fe6a-4488-b81a-fb0ff9f8cc30"
      },
      "execution_count": null,
      "outputs": [
        {
          "output_type": "display_data",
          "data": {
            "text/plain": [
              "<Figure size 640x480 with 1 Axes>"
            ],
            "image/png": "[encoded data removed]"
          },
          "metadata": {}
        }
      ]
    }
  ],
  "metadata": {
    "colab": {
      "collapsed_sections": [
        "wbdQ_6mM32-g",
        "IeHn0uUp36sY",
        "xiecFpJr4B3J"
      ],
      "name": "Artigo - 4 modelos.ipynb",
      "provenance": [],
      "mount_file_id": "1YpUx8v--OmJDSdbHZHOrMR2AUkXcmtLJ",
      "authorship_tag": "ABX9TyO1tJ6W5m4p5M4xGFK26feH"
    },
    "kernelspec": {
      "display_name": "Python 3",
      "name": "python3"
    },
    "language_info": {
      "name": "python"
    }
  },
  "nbformat": 4,
  "nbformat_minor": 0
}